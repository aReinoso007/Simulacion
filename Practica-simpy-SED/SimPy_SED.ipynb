{
  "nbformat": 4,
  "nbformat_minor": 0,
  "metadata": {
    "colab": {
      "name": "SimPy_SED.ipynb",
      "provenance": []
    },
    "kernelspec": {
      "name": "python3",
      "display_name": "Python 3"
    },
    "language_info": {
      "name": "python"
    }
  },
  "cells": [
    {
      "cell_type": "markdown",
      "source": [
        "# Nombre: Alex Reinoso\n",
        "# Materia: Simulacion\n",
        "# Fecha 02/06/2022"
      ],
      "metadata": {
        "id": "iorQNL4GFEGy"
      }
    },
    {
      "cell_type": "markdown",
      "source": [
        "## Instalar simpy"
      ],
      "metadata": {
        "id": "9dPXoAHoFScd"
      }
    },
    {
      "cell_type": "code",
      "execution_count": 1,
      "metadata": {
        "colab": {
          "base_uri": "https://localhost:8080/"
        },
        "id": "HBMLCoN5SWNG",
        "outputId": "8bb0d8ab-b008-40c2-b7cc-a550e1feaf02"
      },
      "outputs": [
        {
          "output_type": "stream",
          "name": "stdout",
          "text": [
            "Collecting simpy\n",
            "  Downloading simpy-4.0.1-py2.py3-none-any.whl (29 kB)\n",
            "Installing collected packages: simpy\n",
            "Successfully installed simpy-4.0.1\n"
          ]
        }
      ],
      "source": [
        "pip install simpy"
      ]
    },
    {
      "cell_type": "markdown",
      "source": [
        "## Práctica Propuesta- SimPy SED\n",
        "\n",
        "Modifique el código anterior a fin de incorporar los siguientes cambios:\n",
        "\n",
        "* Considerar 3 tipos de vehículos con 3 diferentes tiempos de lavado:\n",
        "    * Bus: 15- 20 minutos\n",
        "    * Automóvil: 7-10 minutos\n",
        "    * Furgoneta: 12-15 minutos\n",
        "* Considere que a partir de la entrada del vehículo para ser lavado, deberán tomarse en cuenta los siguientes tiempos correspondientes al proceso de traslado desde la recepción a la máquina de lavado:\n",
        "    * Bus: 4 minutos\n",
        "    * Automóvil: 1 minuto\n",
        "    * Furgoneta: 2 minutos\n",
        "* Identificar el recurso maquina dentro de la simulación\n",
        "* Realice una gráfica comparativa de la simulación con 3 y con 4 máquinas de lavado"
      ],
      "metadata": {
        "id": "HLrusx0idvQz"
      }
    },
    {
      "cell_type": "markdown",
      "source": [
        "#  Solucion"
      ],
      "metadata": {
        "id": "-HNUOqItdxUJ"
      }
    },
    {
      "cell_type": "code",
      "source": [
        "import simpy\n",
        "import random\n",
        "import matplotlib.pyplot as pp\n",
        "\n",
        "%matplotlib inline\n",
        "\n",
        "\n",
        "# Maximo de vehiculos que puede recibir el negocio\n",
        "MAX_VEHICULOS = 60\n",
        "# Total de maquinas de lavado con que cuenta el negocio\n",
        "NUM_MAQUINAS = 3\n",
        "# Tiempo que tarda en trasladarse un vehiculo (minutos)\n",
        "TRASLADO_BUS = 4\n",
        "TRASLADO_AUTOMOVIL= 1\n",
        "TRASLADO_FURGONETA= 2\n",
        "# Tiempo que tarda en lavarse un vehiculo (minutos)\n",
        "TIEMPO_BUS = 20\n",
        "TIEMPO_AUTOMOVIL= 7\n",
        "TIEMPO_FURGONETA= 12\n",
        "# Intervalo de tiempo en que llegan vehiculos (minutos)\n",
        "INTERVALO_LLEGADA = 10\n",
        "# Tiempo de simulación\n",
        "TIEMPO_SIMULACION = 200\n",
        "\n",
        "tiempo={}\n",
        "\n",
        "class Lavanderia(object):\n",
        "    \n",
        "    def __init__(self, environment, num_maquinas,tiempo_bus,tiempo_automovil,\n",
        "                 tiempo_furgoneta,traslado_bus,traslado_automovil,traslado_furgoneta):\n",
        "        self.env=environment\n",
        "        self.maquinas = simpy.Resource(environment, num_maquinas)\n",
        "        self.tiempo_bus = tiempo_bus\n",
        "        self.tiempo_automovil = tiempo_automovil\n",
        "        self.tiempo_furgoneta = tiempo_furgoneta\n",
        "        self.traslado_bus = traslado_bus\n",
        "        self.traslado_automovil = traslado_automovil\n",
        "        self.traslado_furgoneta = traslado_furgoneta\n",
        "        \n",
        "    def lavar_vehiculo(self, vehiculo):\n",
        "        vehiculo=vehiculo.split('-')\n",
        "        if(vehiculo[0] == 'Bus'):\n",
        "            yield self.env.timeout(TIEMPO_BUS)\n",
        "        if(vehiculo[0] == 'Automovil'):\n",
        "            yield self.env.timeout(TIEMPO_AUTOMOVIL)\n",
        "        if(vehiculo[0] == 'Furgoneta'):\n",
        "            yield self.env.timeout(TIEMPO_FURGONETA)\n",
        "        k=vehiculo[0]\n",
        "        if k in tiempo:\n",
        "            tiempo[k]=tiempo[k]+1\n",
        "        else:\n",
        "            tiempo[k]=1\n",
        "        print('Removido  {%d%%} suciedad vehiculo => %s ' %(random.randint(35,90), vehiculo))\n",
        "        \n",
        "    def trasladar_vehiculo(self, vehiculo):\n",
        "        vehiculo=vehiculo.split('-')\n",
        "        if(vehiculo[0] == 'Bus'):\n",
        "            yield self.env.timeout(TRASLADO_BUS)\n",
        "        if(vehiculo[0] == 'Automovil'):\n",
        "            yield self.env.timeout(TRASLADO_AUTOMOVIL)\n",
        "        if(vehiculo[0] == 'Furgoneta'):\n",
        "            yield self.env.timeout(TRASLADO_FURGONETA)\n",
        "       \n",
        "    \n",
        "def llegada_vehiculo(env, nombre, lavanderia):\n",
        "    #print('Llega vehiculo: %s a la hora %.2f.' % (nombre, env.now))\n",
        "    with lavanderia.maquinas.request() as maquina:\n",
        "        yield maquina\n",
        "        print('Se traslada vehiculo: %s a la hora %.2f.' % (nombre,env.now))\n",
        "        yield env.process(lavanderia.trasladar_vehiculo(nombre))\n",
        "        print('Entra vehiculo a lavarse: %s a la hora %.2f.' % (nombre, env.now))\n",
        "        yield env.process(lavanderia.lavar_vehiculo(nombre))\n",
        "        print('Vehiculo [%s] lavado a las %.2f.' % (nombre, env.now))  \n",
        "        \n",
        "def ejecutar_simulacion(env, num_maquinas, tiempo_bus,tiempo_automovil,\n",
        "                        tiempo_furgoneta,traslado_bus,traslado_automovil,\n",
        "                        traslado_furgoneta, intervalo):\n",
        "    lavanderia=Lavanderia(env, num_maquinas, tiempo_bus,tiempo_automovil,\n",
        "                          tiempo_furgoneta,traslado_bus,traslado_automovil,\n",
        "                          traslado_furgoneta)\n",
        "    for i in range(2):\n",
        "        env.process(llegada_vehiculo(env, 'Bus-%d'%(i+1),lavanderia))\n",
        "        env.process(llegada_vehiculo(env, 'Automovil-%d'%(i+1),lavanderia))\n",
        "        env.process(llegada_vehiculo(env, 'Furgoneta-%d'%(i+1),lavanderia))\n",
        "        \n",
        "    while True:\n",
        "        yield env.timeout(random.randint(intervalo-3, intervalo+3))\n",
        "        i+=1\n",
        "        rnd = random.randint(1,100)\n",
        "        if rnd <= 20: # Bus 20%, Furgoneta 30% y Automovil 50%\n",
        "            env.process(llegada_vehiculo(env,'Bus-%d'%(i+1),lavanderia))\n",
        "        elif rnd <= 50:\n",
        "            env.process(llegada_vehiculo(env,'Furgoneta-%d'%(i+1),lavanderia))\n",
        "        else:\n",
        "            env.process(llegada_vehiculo(env,'Automovil-%d'%(i+1),lavanderia))\n",
        "\n",
        "print('Lavanderia SED')\n",
        "\n",
        "env=simpy.Environment()\n",
        "env.process(ejecutar_simulacion(env, NUM_MAQUINAS, TIEMPO_BUS,TIEMPO_AUTOMOVIL,\n",
        "                                TIEMPO_FURGONETA,TRASLADO_BUS,TRASLADO_AUTOMOVIL,\n",
        "                                TRASLADO_FURGONETA, INTERVALO_LLEGADA))\n",
        "env.run(until = TIEMPO_SIMULACION)\n",
        "\n",
        "datos=sorted(tiempo.items())\n",
        "x, y =zip(*datos)\n",
        "pp.plot(x,y,linewidth=2,color='blue')\n",
        "pp.scatter(x,y,color='red')\n",
        "pp.grid(True)\n",
        "pp.show()"
      ],
      "metadata": {
        "colab": {
          "base_uri": "https://localhost:8080/",
          "height": 1000
        },
        "id": "oDqEfe0VDU0L",
        "outputId": "e947e865-b7f1-4ecf-d37f-233dde6b3470"
      },
      "execution_count": 9,
      "outputs": [
        {
          "output_type": "stream",
          "name": "stdout",
          "text": [
            "Lavanderia SED\n",
            "Se traslada vehiculo: Bus-1 a la hora 0.00.\n",
            "Se traslada vehiculo: Automovil-1 a la hora 0.00.\n",
            "Se traslada vehiculo: Furgoneta-1 a la hora 0.00.\n",
            "Entra vehiculo a lavarse: Automovil-1 a la hora 1.00.\n",
            "Entra vehiculo a lavarse: Furgoneta-1 a la hora 2.00.\n",
            "Entra vehiculo a lavarse: Bus-1 a la hora 4.00.\n",
            "Removido  {39%} suciedad vehiculo => ['Automovil', '1'] \n",
            "Vehiculo [Automovil-1] lavado a las 8.00.\n",
            "Se traslada vehiculo: Bus-2 a la hora 8.00.\n",
            "Entra vehiculo a lavarse: Bus-2 a la hora 12.00.\n",
            "Removido  {42%} suciedad vehiculo => ['Furgoneta', '1'] \n",
            "Vehiculo [Furgoneta-1] lavado a las 14.00.\n",
            "Se traslada vehiculo: Automovil-2 a la hora 14.00.\n",
            "Entra vehiculo a lavarse: Automovil-2 a la hora 15.00.\n",
            "Removido  {84%} suciedad vehiculo => ['Automovil', '2'] \n",
            "Vehiculo [Automovil-2] lavado a las 22.00.\n",
            "Se traslada vehiculo: Furgoneta-2 a la hora 22.00.\n",
            "Removido  {43%} suciedad vehiculo => ['Bus', '1'] \n",
            "Vehiculo [Bus-1] lavado a las 24.00.\n",
            "Entra vehiculo a lavarse: Furgoneta-2 a la hora 24.00.\n",
            "Se traslada vehiculo: Automovil-3 a la hora 24.00.\n",
            "Entra vehiculo a lavarse: Automovil-3 a la hora 25.00.\n",
            "Removido  {75%} suciedad vehiculo => ['Bus', '2'] \n",
            "Removido  {86%} suciedad vehiculo => ['Automovil', '3'] \n",
            "Vehiculo [Bus-2] lavado a las 32.00.\n",
            "Vehiculo [Automovil-3] lavado a las 32.00.\n",
            "Se traslada vehiculo: Bus-4 a la hora 32.00.\n",
            "Se traslada vehiculo: Bus-5 a la hora 32.00.\n",
            "Removido  {51%} suciedad vehiculo => ['Furgoneta', '2'] \n",
            "Vehiculo [Furgoneta-2] lavado a las 36.00.\n",
            "Entra vehiculo a lavarse: Bus-4 a la hora 36.00.\n",
            "Entra vehiculo a lavarse: Bus-5 a la hora 36.00.\n",
            "Se traslada vehiculo: Automovil-6 a la hora 43.00.\n",
            "Entra vehiculo a lavarse: Automovil-6 a la hora 44.00.\n",
            "Removido  {75%} suciedad vehiculo => ['Automovil', '6'] \n",
            "Vehiculo [Automovil-6] lavado a las 51.00.\n",
            "Se traslada vehiculo: Furgoneta-7 a la hora 52.00.\n",
            "Entra vehiculo a lavarse: Furgoneta-7 a la hora 54.00.\n",
            "Removido  {77%} suciedad vehiculo => ['Bus', '4'] \n",
            "Removido  {40%} suciedad vehiculo => ['Bus', '5'] \n",
            "Vehiculo [Bus-4] lavado a las 56.00.\n",
            "Vehiculo [Bus-5] lavado a las 56.00.\n",
            "Se traslada vehiculo: Bus-8 a la hora 63.00.\n",
            "Removido  {70%} suciedad vehiculo => ['Furgoneta', '7'] \n",
            "Vehiculo [Furgoneta-7] lavado a las 66.00.\n",
            "Entra vehiculo a lavarse: Bus-8 a la hora 67.00.\n",
            "Se traslada vehiculo: Automovil-9 a la hora 70.00.\n",
            "Entra vehiculo a lavarse: Automovil-9 a la hora 71.00.\n",
            "Removido  {67%} suciedad vehiculo => ['Automovil', '9'] \n",
            "Vehiculo [Automovil-9] lavado a las 78.00.\n",
            "Se traslada vehiculo: Automovil-10 a la hora 80.00.\n",
            "Entra vehiculo a lavarse: Automovil-10 a la hora 81.00.\n",
            "Removido  {46%} suciedad vehiculo => ['Bus', '8'] \n",
            "Vehiculo [Bus-8] lavado a las 87.00.\n",
            "Se traslada vehiculo: Automovil-11 a la hora 87.00.\n",
            "Removido  {48%} suciedad vehiculo => ['Automovil', '10'] \n",
            "Vehiculo [Automovil-10] lavado a las 88.00.\n",
            "Entra vehiculo a lavarse: Automovil-11 a la hora 88.00.\n",
            "Removido  {69%} suciedad vehiculo => ['Automovil', '11'] \n",
            "Vehiculo [Automovil-11] lavado a las 95.00.\n",
            "Se traslada vehiculo: Automovil-12 a la hora 97.00.\n",
            "Entra vehiculo a lavarse: Automovil-12 a la hora 98.00.\n",
            "Removido  {82%} suciedad vehiculo => ['Automovil', '12'] \n",
            "Vehiculo [Automovil-12] lavado a las 105.00.\n",
            "Se traslada vehiculo: Furgoneta-13 a la hora 110.00.\n",
            "Entra vehiculo a lavarse: Furgoneta-13 a la hora 112.00.\n",
            "Se traslada vehiculo: Automovil-14 a la hora 119.00.\n",
            "Entra vehiculo a lavarse: Automovil-14 a la hora 120.00.\n",
            "Removido  {47%} suciedad vehiculo => ['Furgoneta', '13'] \n",
            "Vehiculo [Furgoneta-13] lavado a las 124.00.\n",
            "Removido  {62%} suciedad vehiculo => ['Automovil', '14'] \n",
            "Se traslada vehiculo: Automovil-15 a la hora 127.00.\n",
            "Vehiculo [Automovil-14] lavado a las 127.00.\n",
            "Entra vehiculo a lavarse: Automovil-15 a la hora 128.00.\n",
            "Removido  {71%} suciedad vehiculo => ['Automovil', '15'] \n",
            "Vehiculo [Automovil-15] lavado a las 135.00.\n",
            "Se traslada vehiculo: Furgoneta-16 a la hora 138.00.\n",
            "Entra vehiculo a lavarse: Furgoneta-16 a la hora 140.00.\n",
            "Se traslada vehiculo: Automovil-17 a la hora 150.00.\n",
            "Entra vehiculo a lavarse: Automovil-17 a la hora 151.00.\n",
            "Removido  {70%} suciedad vehiculo => ['Furgoneta', '16'] \n",
            "Vehiculo [Furgoneta-16] lavado a las 152.00.\n",
            "Removido  {85%} suciedad vehiculo => ['Automovil', '17'] \n",
            "Vehiculo [Automovil-17] lavado a las 158.00.\n",
            "Se traslada vehiculo: Furgoneta-18 a la hora 163.00.\n",
            "Entra vehiculo a lavarse: Furgoneta-18 a la hora 165.00.\n",
            "Se traslada vehiculo: Automovil-19 a la hora 173.00.\n",
            "Entra vehiculo a lavarse: Automovil-19 a la hora 174.00.\n",
            "Removido  {48%} suciedad vehiculo => ['Furgoneta', '18'] \n",
            "Vehiculo [Furgoneta-18] lavado a las 177.00.\n",
            "Se traslada vehiculo: Automovil-20 a la hora 180.00.\n",
            "Removido  {76%} suciedad vehiculo => ['Automovil', '19'] \n",
            "Vehiculo [Automovil-19] lavado a las 181.00.\n",
            "Entra vehiculo a lavarse: Automovil-20 a la hora 181.00.\n",
            "Removido  {54%} suciedad vehiculo => ['Automovil', '20'] \n",
            "Vehiculo [Automovil-20] lavado a las 188.00.\n",
            "Se traslada vehiculo: Automovil-21 a la hora 192.00.\n",
            "Entra vehiculo a lavarse: Automovil-21 a la hora 193.00.\n"
          ]
        },
        {
          "output_type": "display_data",
          "data": {
            "image/png": "[encoded data removed]",
            "text/plain": [
              "<Figure size 432x288 with 1 Axes>"
            ]
          },
          "metadata": {
            "needs_background": "light"
          }
        }
      ]
    }
  ]
}