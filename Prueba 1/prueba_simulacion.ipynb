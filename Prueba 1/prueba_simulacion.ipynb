{
  "nbformat": 4,
  "nbformat_minor": 0,
  "metadata": {
    "colab": {
      "name": "prueba_simulacion.ipynb",
      "provenance": [],
      "collapsed_sections": []
    },
    "kernelspec": {
      "name": "python3",
      "display_name": "Python 3"
    },
    "language_info": {
      "name": "python"
    },
    "widgets": {
      "application/vnd.jupyter.widget-state+json": {
        "3a5fe79a806d4d4dbd87d61d3334fa4e": {
          "model_module": "@jupyter-widgets/controls",
          "model_name": "VBoxModel",
          "model_module_version": "1.5.0",
          "state": {
            "_view_name": "VBoxView",
            "_dom_classes": [],
            "_model_name": "VBoxModel",
            "_view_module": "@jupyter-widgets/controls",
            "_model_module_version": "1.5.0",
            "_view_count": null,
            "_view_module_version": "1.5.0",
            "box_style": "",
            "layout": "IPY_MODEL_20b94fe53f42438fa120d7b439788040",
            "_model_module": "@jupyter-widgets/controls",
            "children": [
              "IPY_MODEL_08c3d5958c364ab69be6636155c92607",
              "IPY_MODEL_4d8eb14777ec4154a38de737568875fc"
            ]
          }
        },
        "20b94fe53f42438fa120d7b439788040": {
          "model_module": "@jupyter-widgets/base",
          "model_name": "LayoutModel",
          "model_module_version": "1.2.0",
          "state": {
            "_view_name": "LayoutView",
            "grid_template_rows": null,
            "right": null,
            "justify_content": null,
            "_view_module": "@jupyter-widgets/base",
            "overflow": null,
            "_model_module_version": "1.2.0",
            "_view_count": null,
            "flex_flow": null,
            "width": null,
            "min_width": null,
            "border": null,
            "align_items": null,
            "bottom": null,
            "_model_module": "@jupyter-widgets/base",
            "top": null,
            "grid_column": null,
            "overflow_y": null,
            "overflow_x": null,
            "grid_auto_flow": null,
            "grid_area": null,
            "grid_template_columns": null,
            "flex": null,
            "_model_name": "LayoutModel",
            "justify_items": null,
            "grid_row": null,
            "max_height": null,
            "align_content": null,
            "visibility": null,
            "align_self": null,
            "height": null,
            "min_height": null,
            "padding": null,
            "grid_auto_rows": null,
            "grid_gap": null,
            "max_width": null,
            "order": null,
            "_view_module_version": "1.2.0",
            "grid_template_areas": null,
            "object_position": null,
            "object_fit": null,
            "grid_auto_columns": null,
            "margin": null,
            "display": null,
            "left": null
          }
        },
        "08c3d5958c364ab69be6636155c92607": {
          "model_module": "@jupyter-widgets/controls",
          "model_name": "DropdownModel",
          "model_module_version": "1.5.0",
          "state": {
            "_options_labels": [
              "jun-07",
              "sep-07",
              "dic-07",
              "mar-08",
              "jun-08",
              "sep-08",
              "dic-08",
              "mar-09",
              "jun-09",
              "sep-09",
              "dic-09",
              "mar-10",
              "jun-10",
              "sep-10",
              "dic-10",
              "mar-11",
              "jun-11",
              "sep-11",
              "dic-11",
              "mar-12",
              "jun-12",
              "sep-12",
              "dic-12",
              "mar-13",
              "jun-13",
              "sep-13",
              "dic-13",
              "mar-14",
              "jun-14",
              "sep-14",
              "dic-14",
              "mar15",
              "jun-15",
              "sep-15",
              "dic-15",
              "mar-16",
              "jun-16",
              "sep-16",
              "dic-16",
              "mar-17",
              "jun-17",
              "sep-17",
              "dic-17",
              "mar-18",
              "jun-18",
              "sep-18",
              "dic-18",
              "mar-19",
              "jun-19",
              "sep-19",
              "dic-19",
              "sep-20",
              "oct-20",
              "nov-20",
              "dic-20",
              "ene-21",
              "feb-21",
              "mar-21",
              "abr-21",
              "may-21",
              "jun-21",
              "jul-21",
              "ago-21",
              "sep-21",
              "oct-21"
            ],
            "_view_name": "DropdownView",
            "style": "IPY_MODEL_5d128dc885174cd091e803ccf7cacd96",
            "_dom_classes": [],
            "description": "Fecha",
            "_model_name": "DropdownModel",
            "index": 26,
            "_view_module": "@jupyter-widgets/controls",
            "_model_module_version": "1.5.0",
            "_view_count": null,
            "disabled": false,
            "_view_module_version": "1.5.0",
            "description_tooltip": null,
            "_model_module": "@jupyter-widgets/controls",
            "layout": "IPY_MODEL_54f064a67bc34df2ae8b2326d49a65e4"
          }
        },
        "4d8eb14777ec4154a38de737568875fc": {
          "model_module": "@jupyter-widgets/controls",
          "model_name": "TabModel",
          "model_module_version": "1.5.0",
          "state": {
            "_view_name": "TabView",
            "_dom_classes": [],
            "_titles": {
              "1": "Gráficos"
            },
            "_model_name": "TabModel",
            "_view_module": "@jupyter-widgets/controls",
            "selected_index": 0,
            "_model_module_version": "1.5.0",
            "_view_count": null,
            "_view_module_version": "1.5.0",
            "box_style": "",
            "layout": "IPY_MODEL_778af76b6a414960a0af5b206c7629c3",
            "_model_module": "@jupyter-widgets/controls",
            "children": [
              "IPY_MODEL_dc4f889f9eb64559970b1f569ef636ee"
            ]
          }
        },
        "5d128dc885174cd091e803ccf7cacd96": {
          "model_module": "@jupyter-widgets/controls",
          "model_name": "DescriptionStyleModel",
          "model_module_version": "1.5.0",
          "state": {
            "_view_name": "StyleView",
            "_model_name": "DescriptionStyleModel",
            "description_width": "",
            "_view_module": "@jupyter-widgets/base",
            "_model_module_version": "1.5.0",
            "_view_count": null,
            "_view_module_version": "1.2.0",
            "_model_module": "@jupyter-widgets/controls"
          }
        },
        "54f064a67bc34df2ae8b2326d49a65e4": {
          "model_module": "@jupyter-widgets/base",
          "model_name": "LayoutModel",
          "model_module_version": "1.2.0",
          "state": {
            "_view_name": "LayoutView",
            "grid_template_rows": null,
            "right": null,
            "justify_content": null,
            "_view_module": "@jupyter-widgets/base",
            "overflow": null,
            "_model_module_version": "1.2.0",
            "_view_count": null,
            "flex_flow": null,
            "width": null,
            "min_width": null,
            "border": null,
            "align_items": null,
            "bottom": null,
            "_model_module": "@jupyter-widgets/base",
            "top": null,
            "grid_column": null,
            "overflow_y": null,
            "overflow_x": null,
            "grid_auto_flow": null,
            "grid_area": null,
            "grid_template_columns": null,
            "flex": null,
            "_model_name": "LayoutModel",
            "justify_items": null,
            "grid_row": null,
            "max_height": null,
            "align_content": null,
            "visibility": null,
            "align_self": null,
            "height": null,
            "min_height": null,
            "padding": null,
            "grid_auto_rows": null,
            "grid_gap": null,
            "max_width": null,
            "order": null,
            "_view_module_version": "1.2.0",
            "grid_template_areas": null,
            "object_position": null,
            "object_fit": null,
            "grid_auto_columns": null,
            "margin": null,
            "display": null,
            "left": null
          }
        },
        "778af76b6a414960a0af5b206c7629c3": {
          "model_module": "@jupyter-widgets/base",
          "model_name": "LayoutModel",
          "model_module_version": "1.2.0",
          "state": {
            "_view_name": "LayoutView",
            "grid_template_rows": null,
            "right": null,
            "justify_content": null,
            "_view_module": "@jupyter-widgets/base",
            "overflow": null,
            "_model_module_version": "1.2.0",
            "_view_count": null,
            "flex_flow": null,
            "width": null,
            "min_width": null,
            "border": null,
            "align_items": null,
            "bottom": null,
            "_model_module": "@jupyter-widgets/base",
            "top": null,
            "grid_column": null,
            "overflow_y": null,
            "overflow_x": null,
            "grid_auto_flow": null,
            "grid_area": null,
            "grid_template_columns": null,
            "flex": null,
            "_model_name": "LayoutModel",
            "justify_items": null,
            "grid_row": null,
            "max_height": null,
            "align_content": null,
            "visibility": null,
            "align_self": null,
            "height": null,
            "min_height": null,
            "padding": null,
            "grid_auto_rows": null,
            "grid_gap": null,
            "max_width": null,
            "order": null,
            "_view_module_version": "1.2.0",
            "grid_template_areas": null,
            "object_position": null,
            "object_fit": null,
            "grid_auto_columns": null,
            "margin": null,
            "display": null,
            "left": null
          }
        },
        "dc4f889f9eb64559970b1f569ef636ee": {
          "model_module": "@jupyter-widgets/output",
          "model_name": "OutputModel",
          "model_module_version": "1.0.0",
          "state": {
            "_view_name": "OutputView",
            "msg_id": "",
            "_dom_classes": [],
            "_model_name": "OutputModel",
            "outputs": [
              {
                "output_type": "stream",
                "name": "stdout",
                "text": [
                  "Sectorizacion\n",
                  "   \n",
                  "    \n"
                ]
              },
              {
                "output_type": "display_data",
                "data": {
                  "image/png": "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\n",
                  "text/plain": "<Figure size 432x288 with 1 Axes>"
                },
                "metadata": {}
              },
              {
                "output_type": "display_data",
                "data": {
                  "image/png": "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\n",
                  "text/plain": "<Figure size 432x288 with 1 Axes>"
                },
                "metadata": {}
              },
              {
                "output_type": "display_data",
                "data": {
                  "image/png": "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\n",
                  "text/plain": "<Figure size 432x288 with 1 Axes>"
                },
                "metadata": {}
              }
            ],
            "_view_module": "@jupyter-widgets/output",
            "_model_module_version": "1.0.0",
            "_view_count": null,
            "_view_module_version": "1.0.0",
            "layout": "IPY_MODEL_f520479d2e8e47158e1ee0d1ac977d27",
            "_model_module": "@jupyter-widgets/output"
          }
        },
        "f520479d2e8e47158e1ee0d1ac977d27": {
          "model_module": "@jupyter-widgets/base",
          "model_name": "LayoutModel",
          "model_module_version": "1.2.0",
          "state": {
            "_view_name": "LayoutView",
            "grid_template_rows": null,
            "right": null,
            "justify_content": null,
            "_view_module": "@jupyter-widgets/base",
            "overflow": null,
            "_model_module_version": "1.2.0",
            "_view_count": null,
            "flex_flow": null,
            "width": null,
            "min_width": null,
            "border": null,
            "align_items": null,
            "bottom": null,
            "_model_module": "@jupyter-widgets/base",
            "top": null,
            "grid_column": null,
            "overflow_y": null,
            "overflow_x": null,
            "grid_auto_flow": null,
            "grid_area": null,
            "grid_template_columns": null,
            "flex": null,
            "_model_name": "LayoutModel",
            "justify_items": null,
            "grid_row": null,
            "max_height": null,
            "align_content": null,
            "visibility": null,
            "align_self": null,
            "height": null,
            "min_height": null,
            "padding": null,
            "grid_auto_rows": null,
            "grid_gap": null,
            "max_width": null,
            "order": null,
            "_view_module_version": "1.2.0",
            "grid_template_areas": null,
            "object_position": null,
            "object_fit": null,
            "grid_auto_columns": null,
            "margin": null,
            "display": null,
            "left": null
          }
        },
        "338a30e5788b4e6b97d139f003ee59ad": {
          "model_module": "@jupyter-widgets/controls",
          "model_name": "VBoxModel",
          "model_module_version": "1.5.0",
          "state": {
            "_view_name": "VBoxView",
            "_dom_classes": [],
            "_model_name": "VBoxModel",
            "_view_module": "@jupyter-widgets/controls",
            "_model_module_version": "1.5.0",
            "_view_count": null,
            "_view_module_version": "1.5.0",
            "box_style": "",
            "layout": "IPY_MODEL_07664b8963314e48bde30dfc608f9e9d",
            "_model_module": "@jupyter-widgets/controls",
            "children": [
              "IPY_MODEL_baa4d32edd3f47fbb9e203b768cb8073",
              "IPY_MODEL_7118ec7a69114bac891a31ea3a323035",
              "IPY_MODEL_c24455fec3b04c0898477ce856708c1f"
            ]
          }
        },
        "07664b8963314e48bde30dfc608f9e9d": {
          "model_module": "@jupyter-widgets/base",
          "model_name": "LayoutModel",
          "model_module_version": "1.2.0",
          "state": {
            "_view_name": "LayoutView",
            "grid_template_rows": null,
            "right": null,
            "justify_content": null,
            "_view_module": "@jupyter-widgets/base",
            "overflow": null,
            "_model_module_version": "1.2.0",
            "_view_count": null,
            "flex_flow": null,
            "width": null,
            "min_width": null,
            "border": null,
            "align_items": null,
            "bottom": null,
            "_model_module": "@jupyter-widgets/base",
            "top": null,
            "grid_column": null,
            "overflow_y": null,
            "overflow_x": null,
            "grid_auto_flow": null,
            "grid_area": null,
            "grid_template_columns": null,
            "flex": null,
            "_model_name": "LayoutModel",
            "justify_items": null,
            "grid_row": null,
            "max_height": null,
            "align_content": null,
            "visibility": null,
            "align_self": null,
            "height": null,
            "min_height": null,
            "padding": null,
            "grid_auto_rows": null,
            "grid_gap": null,
            "max_width": null,
            "order": null,
            "_view_module_version": "1.2.0",
            "grid_template_areas": null,
            "object_position": null,
            "object_fit": null,
            "grid_auto_columns": null,
            "margin": null,
            "display": null,
            "left": null
          }
        },
        "baa4d32edd3f47fbb9e203b768cb8073": {
          "model_module": "@jupyter-widgets/controls",
          "model_name": "DropdownModel",
          "model_module_version": "1.5.0",
          "state": {
            "_options_labels": [
              "7",
              "8",
              "9",
              "10",
              "11",
              "12",
              "13",
              "14",
              "15",
              "16",
              "17",
              "18",
              "19",
              "20",
              "21"
            ],
            "_view_name": "DropdownView",
            "style": "IPY_MODEL_729b63b4f1c04ba5babcc93ad86d8f99",
            "_dom_classes": [],
            "description": "Anio Inicio",
            "_model_name": "DropdownModel",
            "index": 14,
            "_view_module": "@jupyter-widgets/controls",
            "_model_module_version": "1.5.0",
            "_view_count": null,
            "disabled": false,
            "_view_module_version": "1.5.0",
            "description_tooltip": null,
            "_model_module": "@jupyter-widgets/controls",
            "layout": "IPY_MODEL_c4fcbca9753a42df958814fc5ce4fd86"
          }
        },
        "7118ec7a69114bac891a31ea3a323035": {
          "model_module": "@jupyter-widgets/controls",
          "model_name": "DropdownModel",
          "model_module_version": "1.5.0",
          "state": {
            "_options_labels": [
              "7",
              "8",
              "9",
              "10",
              "11",
              "12",
              "13",
              "14",
              "15",
              "16",
              "17",
              "18",
              "19",
              "20",
              "21"
            ],
            "_view_name": "DropdownView",
            "style": "IPY_MODEL_bc0ad9f0f41a4dd181000d78842f436a",
            "_dom_classes": [],
            "description": "Anio Fin",
            "_model_name": "DropdownModel",
            "index": 14,
            "_view_module": "@jupyter-widgets/controls",
            "_model_module_version": "1.5.0",
            "_view_count": null,
            "disabled": false,
            "_view_module_version": "1.5.0",
            "description_tooltip": null,
            "_model_module": "@jupyter-widgets/controls",
            "layout": "IPY_MODEL_0ac4d917333a4bb294fd70193e40e3a0"
          }
        },
        "c24455fec3b04c0898477ce856708c1f": {
          "model_module": "@jupyter-widgets/controls",
          "model_name": "TabModel",
          "model_module_version": "1.5.0",
          "state": {
            "_view_name": "TabView",
            "_dom_classes": [],
            "_titles": {
              "1": "Gráficos"
            },
            "_model_name": "TabModel",
            "_view_module": "@jupyter-widgets/controls",
            "selected_index": 0,
            "_model_module_version": "1.5.0",
            "_view_count": null,
            "_view_module_version": "1.5.0",
            "box_style": "",
            "layout": "IPY_MODEL_6e50e4d2fc63408f8c84eee49b39054c",
            "_model_module": "@jupyter-widgets/controls",
            "children": [
              "IPY_MODEL_2dbc8ad71c4c4f33a7209a2c65e0c742"
            ]
          }
        },
        "729b63b4f1c04ba5babcc93ad86d8f99": {
          "model_module": "@jupyter-widgets/controls",
          "model_name": "DescriptionStyleModel",
          "model_module_version": "1.5.0",
          "state": {
            "_view_name": "StyleView",
            "_model_name": "DescriptionStyleModel",
            "description_width": "",
            "_view_module": "@jupyter-widgets/base",
            "_model_module_version": "1.5.0",
            "_view_count": null,
            "_view_module_version": "1.2.0",
            "_model_module": "@jupyter-widgets/controls"
          }
        },
        "c4fcbca9753a42df958814fc5ce4fd86": {
          "model_module": "@jupyter-widgets/base",
          "model_name": "LayoutModel",
          "model_module_version": "1.2.0",
          "state": {
            "_view_name": "LayoutView",
            "grid_template_rows": null,
            "right": null,
            "justify_content": null,
            "_view_module": "@jupyter-widgets/base",
            "overflow": null,
            "_model_module_version": "1.2.0",
            "_view_count": null,
            "flex_flow": null,
            "width": null,
            "min_width": null,
            "border": null,
            "align_items": null,
            "bottom": null,
            "_model_module": "@jupyter-widgets/base",
            "top": null,
            "grid_column": null,
            "overflow_y": null,
            "overflow_x": null,
            "grid_auto_flow": null,
            "grid_area": null,
            "grid_template_columns": null,
            "flex": null,
            "_model_name": "LayoutModel",
            "justify_items": null,
            "grid_row": null,
            "max_height": null,
            "align_content": null,
            "visibility": null,
            "align_self": null,
            "height": null,
            "min_height": null,
            "padding": null,
            "grid_auto_rows": null,
            "grid_gap": null,
            "max_width": null,
            "order": null,
            "_view_module_version": "1.2.0",
            "grid_template_areas": null,
            "object_position": null,
            "object_fit": null,
            "grid_auto_columns": null,
            "margin": null,
            "display": null,
            "left": null
          }
        },
        "bc0ad9f0f41a4dd181000d78842f436a": {
          "model_module": "@jupyter-widgets/controls",
          "model_name": "DescriptionStyleModel",
          "model_module_version": "1.5.0",
          "state": {
            "_view_name": "StyleView",
            "_model_name": "DescriptionStyleModel",
            "description_width": "",
            "_view_module": "@jupyter-widgets/base",
            "_model_module_version": "1.5.0",
            "_view_count": null,
            "_view_module_version": "1.2.0",
            "_model_module": "@jupyter-widgets/controls"
          }
        },
        "0ac4d917333a4bb294fd70193e40e3a0": {
          "model_module": "@jupyter-widgets/base",
          "model_name": "LayoutModel",
          "model_module_version": "1.2.0",
          "state": {
            "_view_name": "LayoutView",
            "grid_template_rows": null,
            "right": null,
            "justify_content": null,
            "_view_module": "@jupyter-widgets/base",
            "overflow": null,
            "_model_module_version": "1.2.0",
            "_view_count": null,
            "flex_flow": null,
            "width": null,
            "min_width": null,
            "border": null,
            "align_items": null,
            "bottom": null,
            "_model_module": "@jupyter-widgets/base",
            "top": null,
            "grid_column": null,
            "overflow_y": null,
            "overflow_x": null,
            "grid_auto_flow": null,
            "grid_area": null,
            "grid_template_columns": null,
            "flex": null,
            "_model_name": "LayoutModel",
            "justify_items": null,
            "grid_row": null,
            "max_height": null,
            "align_content": null,
            "visibility": null,
            "align_self": null,
            "height": null,
            "min_height": null,
            "padding": null,
            "grid_auto_rows": null,
            "grid_gap": null,
            "max_width": null,
            "order": null,
            "_view_module_version": "1.2.0",
            "grid_template_areas": null,
            "object_position": null,
            "object_fit": null,
            "grid_auto_columns": null,
            "margin": null,
            "display": null,
            "left": null
          }
        },
        "6e50e4d2fc63408f8c84eee49b39054c": {
          "model_module": "@jupyter-widgets/base",
          "model_name": "LayoutModel",
          "model_module_version": "1.2.0",
          "state": {
            "_view_name": "LayoutView",
            "grid_template_rows": null,
            "right": null,
            "justify_content": null,
            "_view_module": "@jupyter-widgets/base",
            "overflow": null,
            "_model_module_version": "1.2.0",
            "_view_count": null,
            "flex_flow": null,
            "width": null,
            "min_width": null,
            "border": null,
            "align_items": null,
            "bottom": null,
            "_model_module": "@jupyter-widgets/base",
            "top": null,
            "grid_column": null,
            "overflow_y": null,
            "overflow_x": null,
            "grid_auto_flow": null,
            "grid_area": null,
            "grid_template_columns": null,
            "flex": null,
            "_model_name": "LayoutModel",
            "justify_items": null,
            "grid_row": null,
            "max_height": null,
            "align_content": null,
            "visibility": null,
            "align_self": null,
            "height": null,
            "min_height": null,
            "padding": null,
            "grid_auto_rows": null,
            "grid_gap": null,
            "max_width": null,
            "order": null,
            "_view_module_version": "1.2.0",
            "grid_template_areas": null,
            "object_position": null,
            "object_fit": null,
            "grid_auto_columns": null,
            "margin": null,
            "display": null,
            "left": null
          }
        },
        "2dbc8ad71c4c4f33a7209a2c65e0c742": {
          "model_module": "@jupyter-widgets/output",
          "model_name": "OutputModel",
          "model_module_version": "1.0.0",
          "state": {
            "_view_name": "OutputView",
            "msg_id": "",
            "_dom_classes": [],
            "_model_name": "OutputModel",
            "outputs": [
              {
                "output_type": "display_data",
                "data": {
                  "image/png": "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\n",
                  "text/plain": "<Figure size 1296x576 with 1 Axes>"
                },
                "metadata": {
                  "needs_background": "light"
                }
              }
            ],
            "_view_module": "@jupyter-widgets/output",
            "_model_module_version": "1.0.0",
            "_view_count": null,
            "_view_module_version": "1.0.0",
            "layout": "IPY_MODEL_225554e42a6f4a24b850f9d46be13aa4",
            "_model_module": "@jupyter-widgets/output"
          }
        },
        "225554e42a6f4a24b850f9d46be13aa4": {
          "model_module": "@jupyter-widgets/base",
          "model_name": "LayoutModel",
          "model_module_version": "1.2.0",
          "state": {
            "_view_name": "LayoutView",
            "grid_template_rows": null,
            "right": null,
            "justify_content": null,
            "_view_module": "@jupyter-widgets/base",
            "overflow": null,
            "_model_module_version": "1.2.0",
            "_view_count": null,
            "flex_flow": null,
            "width": null,
            "min_width": null,
            "border": null,
            "align_items": null,
            "bottom": null,
            "_model_module": "@jupyter-widgets/base",
            "top": null,
            "grid_column": null,
            "overflow_y": null,
            "overflow_x": null,
            "grid_auto_flow": null,
            "grid_area": null,
            "grid_template_columns": null,
            "flex": null,
            "_model_name": "LayoutModel",
            "justify_items": null,
            "grid_row": null,
            "max_height": null,
            "align_content": null,
            "visibility": null,
            "align_self": null,
            "height": null,
            "min_height": null,
            "padding": null,
            "grid_auto_rows": null,
            "grid_gap": null,
            "max_width": null,
            "order": null,
            "_view_module_version": "1.2.0",
            "grid_template_areas": null,
            "object_position": null,
            "object_fit": null,
            "grid_auto_columns": null,
            "margin": null,
            "display": null,
            "left": null
          }
        }
      }
    }
  },
  "cells": [
    {
      "cell_type": "markdown",
      "metadata": {
        "id": "pTHSB65Gwo4K"
      },
      "source": [
        "# Prueba Simulacion\n",
        "Alex Reinoso"
      ]
    },
    {
      "cell_type": "code",
      "metadata": {
        "id": "8DlBF89_5C4c"
      },
      "source": [
        "import pandas as pd\n",
        "import numpy as np\n",
        "from datetime import datetime\n",
        "from matplotlib import pyplot as plt\n",
        "import matplotlib.patches as mpatches\n",
        "from datetime import datetime,timedelta\n",
        "from sklearn.model_selection import train_test_split as tts\n",
        "from sklearn.linear_model import LinearRegression\n",
        "from datetime import datetime\n",
        "from datetime import timedelta"
      ],
      "execution_count": 544,
      "outputs": []
    },
    {
      "cell_type": "markdown",
      "metadata": {
        "id": "siXjVYD5MTdE"
      },
      "source": [
        "# Cargar los datasets"
      ]
    },
    {
      "cell_type": "code",
      "metadata": {
        "id": "JqWOhawP56rW"
      },
      "source": [
        "poblaciones = pd.read_csv('/content/1.Poblaciones.csv', sep = ';', encoding='latin1', skiprows = 2)\n",
        "sectorizacion_empleo = pd.read_csv('/content/4. Sectorización del empleo.csv', sep = ';',encoding='latin1', skiprows = 1)"
      ],
      "execution_count": 506,
      "outputs": []
    },
    {
      "cell_type": "markdown",
      "metadata": {
        "id": "z-yZxO-RL22E"
      },
      "source": [
        "# Proceso de limpieza del Dataset de Empleo y Desempleo\n",
        "Se eliminan las columnas sin valores"
      ]
    },
    {
      "cell_type": "code",
      "metadata": {
        "id": "jDSaaFTFA_dQ"
      },
      "source": [
        "#Limpieza\n",
        "poblacionesClean = poblaciones.drop(poblaciones.columns[[8, 9, 10, 11, 12, 13, 14, 15, 16, 17, 18]], axis=1)\n",
        "poblacionesClean.rename(columns = {\n",
        "   'Unnamed: 0': 'Encuesta', 'Unnamed: 1': 'Periodo', 'Unnamed: 2': 'Indicadores'\n",
        "}, inplace = True)\n"
      ],
      "execution_count": 403,
      "outputs": []
    },
    {
      "cell_type": "code",
      "metadata": {
        "colab": {
          "base_uri": "https://localhost:8080/",
          "height": 0
        },
        "id": "Hga3Ezr_8rL5",
        "outputId": "7b253ce8-a765-4878-bcde-be249a3a4a75"
      },
      "source": [
        "#Verificar que se asignaron bien los nombres de las columnas\n",
        "for col in poblacionesClean.columns:\n",
        "  print(col)"
      ],
      "execution_count": 4,
      "outputs": [
        {
          "output_type": "stream",
          "name": "stdout",
          "text": [
            "Encuesta\n",
            "Periodo\n",
            "Indicadores\n",
            "Total\n",
            "Urbana\n",
            "Rural\n",
            "Hombre\n",
            "Mujer\n"
          ]
        }
      ]
    },
    {
      "cell_type": "markdown",
      "metadata": {
        "id": "ZTtb7P-LMB8b"
      },
      "source": [
        "## Asignar las ocurrencas de 'Empleo' y 'Desempleo'"
      ]
    },
    {
      "cell_type": "code",
      "metadata": {
        "id": "OTeh5oM29R9g",
        "colab": {
          "base_uri": "https://localhost:8080/",
          "height": 206
        },
        "outputId": "96a0cb0b-5ac3-4552-c85f-c39ec987370b"
      },
      "source": [
        "# Ver todas las ocurrencias de 'Empleo' en la columna de indicadores\n",
        "desmpleoDF = poblacionesClean.loc[poblacionesClean['Indicadores'] == 'Desempleo']\n",
        "desmpleoDF.head()"
      ],
      "execution_count": 5,
      "outputs": [
        {
          "output_type": "execute_result",
          "data": {
            "text/html": [
              "<div>\n",
              "<style scoped>\n",
              "    .dataframe tbody tr th:only-of-type {\n",
              "        vertical-align: middle;\n",
              "    }\n",
              "\n",
              "    .dataframe tbody tr th {\n",
              "        vertical-align: top;\n",
              "    }\n",
              "\n",
              "    .dataframe thead th {\n",
              "        text-align: right;\n",
              "    }\n",
              "</style>\n",
              "<table border=\"1\" class=\"dataframe\">\n",
              "  <thead>\n",
              "    <tr style=\"text-align: right;\">\n",
              "      <th></th>\n",
              "      <th>Encuesta</th>\n",
              "      <th>Periodo</th>\n",
              "      <th>Indicadores</th>\n",
              "      <th>Total</th>\n",
              "      <th>Urbana</th>\n",
              "      <th>Rural</th>\n",
              "      <th>Hombre</th>\n",
              "      <th>Mujer</th>\n",
              "    </tr>\n",
              "  </thead>\n",
              "  <tbody>\n",
              "    <tr>\n",
              "      <th>12</th>\n",
              "      <td>ENEMDU</td>\n",
              "      <td>dic-07</td>\n",
              "      <td>Desempleo</td>\n",
              "      <td>316.697</td>\n",
              "      <td>256.662</td>\n",
              "      <td>60.036</td>\n",
              "      <td>144.918</td>\n",
              "      <td>171.780</td>\n",
              "    </tr>\n",
              "    <tr>\n",
              "      <th>30</th>\n",
              "      <td>ENEMDU</td>\n",
              "      <td>jun-08</td>\n",
              "      <td>Desempleo</td>\n",
              "      <td>344.143</td>\n",
              "      <td>282.489</td>\n",
              "      <td>61.654</td>\n",
              "      <td>151.283</td>\n",
              "      <td>192.860</td>\n",
              "    </tr>\n",
              "    <tr>\n",
              "      <th>48</th>\n",
              "      <td>ENEMDU</td>\n",
              "      <td>dic-08</td>\n",
              "      <td>Desempleo</td>\n",
              "      <td>380.026</td>\n",
              "      <td>317.011</td>\n",
              "      <td>63.015</td>\n",
              "      <td>165.296</td>\n",
              "      <td>214.730</td>\n",
              "    </tr>\n",
              "    <tr>\n",
              "      <th>66</th>\n",
              "      <td>ENEMDU</td>\n",
              "      <td>dic-09</td>\n",
              "      <td>Desempleo</td>\n",
              "      <td>423.802</td>\n",
              "      <td>347.068</td>\n",
              "      <td>76.734</td>\n",
              "      <td>201.625</td>\n",
              "      <td>222.177</td>\n",
              "    </tr>\n",
              "    <tr>\n",
              "      <th>84</th>\n",
              "      <td>ENEMDU</td>\n",
              "      <td>jun-10</td>\n",
              "      <td>Desempleo</td>\n",
              "      <td>408.318</td>\n",
              "      <td>338.652</td>\n",
              "      <td>69.666</td>\n",
              "      <td>194.691</td>\n",
              "      <td>213.628</td>\n",
              "    </tr>\n",
              "  </tbody>\n",
              "</table>\n",
              "</div>"
            ],
            "text/plain": [
              "   Encuesta Periodo Indicadores    Total   Urbana   Rural   Hombre    Mujer\n",
              "12   ENEMDU  dic-07   Desempleo  316.697  256.662  60.036  144.918  171.780\n",
              "30   ENEMDU  jun-08   Desempleo  344.143  282.489  61.654  151.283  192.860\n",
              "48   ENEMDU  dic-08   Desempleo  380.026  317.011  63.015  165.296  214.730\n",
              "66   ENEMDU  dic-09   Desempleo  423.802  347.068  76.734  201.625  222.177\n",
              "84   ENEMDU  jun-10   Desempleo  408.318  338.652  69.666  194.691  213.628"
            ]
          },
          "metadata": {},
          "execution_count": 5
        }
      ]
    },
    {
      "cell_type": "code",
      "metadata": {
        "id": "uEHJktC3946f"
      },
      "source": [
        "#Asignar las ocurrencias de Empleo a un nuevo DF\n",
        "empleoDf = poblacionesClean.loc[poblacionesClean['Indicadores'] == 'Empleo' ]"
      ],
      "execution_count": 6,
      "outputs": []
    },
    {
      "cell_type": "markdown",
      "metadata": {
        "id": "17UZ9CSJMbL7"
      },
      "source": [
        "### Renombrar las columnas"
      ]
    },
    {
      "cell_type": "code",
      "metadata": {
        "id": "u0fwQAiZ-BfX"
      },
      "source": [
        "#Empleo\n",
        "#Seleccionar los datos importantes\n",
        "dfEmp = empleoDf[['Periodo', 'Total']]\n",
        "#Cambiar el nombre de las columnas\n",
        "dfEmp.rename(columns = {\n",
        "   'Periodo': 'Fecha', 'Total': 'Empleo'}, inplace = True)"
      ],
      "execution_count": null,
      "outputs": []
    },
    {
      "cell_type": "code",
      "metadata": {
        "id": "YTXbP7s5J3m1"
      },
      "source": [
        "#Desempleo\n",
        "#Seleccionar los datos importantes\n",
        "dfDesemp = desmpleoDF[['Periodo', 'Total']]\n",
        "#Cambiar el nombre de las columnas\n",
        "dfDesemp.rename(columns = {\n",
        "   'Periodo': 'Fecha', 'Total': 'Desempleo'}, inplace = True)"
      ],
      "execution_count": null,
      "outputs": []
    },
    {
      "cell_type": "markdown",
      "metadata": {
        "id": "Sp3PY1LYMjtb"
      },
      "source": [
        "# Transformar datos de String a Numeric y separar el mes del anio\n",
        "La columna de total tiene datos que necesitan ser transformados a tipo numeric"
      ]
    },
    {
      "cell_type": "markdown",
      "metadata": {
        "id": "lpZIYxiWMyxr"
      },
      "source": [
        "\n",
        "\n",
        "*   Para los datos de empleo\n",
        "\n"
      ]
    },
    {
      "cell_type": "code",
      "metadata": {
        "id": "xfzAEYGR_-CG"
      },
      "source": [
        "#Empleo\n",
        "#Transformar de string a int, los valores de total de empleo\n",
        "dfEmp['Empleo'] = dfEmp['Empleo'].str.replace('.','').astype(int)"
      ],
      "execution_count": null,
      "outputs": []
    },
    {
      "cell_type": "markdown",
      "metadata": {
        "id": "TTmazlYAM5uc"
      },
      "source": [
        "\n",
        "\n",
        "1.   Para los datos de desempleo\n",
        "\n"
      ]
    },
    {
      "cell_type": "code",
      "metadata": {
        "id": "adYF5GXnLNlk"
      },
      "source": [
        "#Desempleo\n",
        "#Transformar de string a int, los valores de total de empleo\n",
        "dfDesemp['Desempleo'] = dfDesemp['Desempleo'].str.replace('.','').astype(int)\n",
        "dfDesemp.head()"
      ],
      "execution_count": null,
      "outputs": []
    },
    {
      "cell_type": "markdown",
      "metadata": {
        "id": "t6XYFb5uNF3C"
      },
      "source": [
        "\n",
        "\n",
        "1.   Separar el mes y anio de Empleo\n",
        "\n"
      ]
    },
    {
      "cell_type": "code",
      "metadata": {
        "id": "MiBCTHCaGVEg"
      },
      "source": [
        "# Hacer un split de la fecha por mes y anio\n",
        "dfEmp[['Mes', 'Anio']] = dfEmp['Fecha'].str.split('-', expand=True)\n"
      ],
      "execution_count": null,
      "outputs": []
    },
    {
      "cell_type": "code",
      "metadata": {
        "colab": {
          "base_uri": "https://localhost:8080/",
          "height": 206
        },
        "id": "7FQX39wrIcd_",
        "outputId": "ae016d3e-1852-4f2b-9a7a-15027fa403e5"
      },
      "source": [
        "dfEmp[['Mes','Anio','Empleo']].head()"
      ],
      "execution_count": 12,
      "outputs": [
        {
          "output_type": "execute_result",
          "data": {
            "text/html": [
              "<div>\n",
              "<style scoped>\n",
              "    .dataframe tbody tr th:only-of-type {\n",
              "        vertical-align: middle;\n",
              "    }\n",
              "\n",
              "    .dataframe tbody tr th {\n",
              "        vertical-align: top;\n",
              "    }\n",
              "\n",
              "    .dataframe thead th {\n",
              "        text-align: right;\n",
              "    }\n",
              "</style>\n",
              "<table border=\"1\" class=\"dataframe\">\n",
              "  <thead>\n",
              "    <tr style=\"text-align: right;\">\n",
              "      <th></th>\n",
              "      <th>Mes</th>\n",
              "      <th>Anio</th>\n",
              "      <th>Empleo</th>\n",
              "    </tr>\n",
              "  </thead>\n",
              "  <tbody>\n",
              "    <tr>\n",
              "      <th>4</th>\n",
              "      <td>dic</td>\n",
              "      <td>07</td>\n",
              "      <td>6019332</td>\n",
              "    </tr>\n",
              "    <tr>\n",
              "      <th>22</th>\n",
              "      <td>jun</td>\n",
              "      <td>08</td>\n",
              "      <td>6245225</td>\n",
              "    </tr>\n",
              "    <tr>\n",
              "      <th>40</th>\n",
              "      <td>dic</td>\n",
              "      <td>08</td>\n",
              "      <td>6005395</td>\n",
              "    </tr>\n",
              "    <tr>\n",
              "      <th>58</th>\n",
              "      <td>dic</td>\n",
              "      <td>09</td>\n",
              "      <td>6125135</td>\n",
              "    </tr>\n",
              "    <tr>\n",
              "      <th>76</th>\n",
              "      <td>jun</td>\n",
              "      <td>10</td>\n",
              "      <td>6174141</td>\n",
              "    </tr>\n",
              "  </tbody>\n",
              "</table>\n",
              "</div>"
            ],
            "text/plain": [
              "    Mes Anio   Empleo\n",
              "4   dic   07  6019332\n",
              "22  jun   08  6245225\n",
              "40  dic   08  6005395\n",
              "58  dic   09  6125135\n",
              "76  jun   10  6174141"
            ]
          },
          "metadata": {},
          "execution_count": 12
        }
      ]
    },
    {
      "cell_type": "markdown",
      "metadata": {
        "id": "PEIa5vxsNLC_"
      },
      "source": [
        "\n",
        "\n",
        "1.   Separar mes y anio de Desempleo\n",
        "\n"
      ]
    },
    {
      "cell_type": "code",
      "metadata": {
        "id": "W-k42roBNSyK",
        "colab": {
          "base_uri": "https://localhost:8080/",
          "height": 0
        },
        "outputId": "d415f48f-5856-4fc1-abfc-7dc2d2dabdfb"
      },
      "source": [
        "# Hacer un split de la fecha por mes y anio\n",
        "dfDesemp[['Mes', 'Anio']] = dfDesemp['Fecha'].str.split('-', expand=True)"
      ],
      "execution_count": 13,
      "outputs": [
        {
          "output_type": "stream",
          "name": "stderr",
          "text": [
            "/usr/local/lib/python3.7/dist-packages/pandas/core/frame.py:3069: SettingWithCopyWarning: \n",
            "A value is trying to be set on a copy of a slice from a DataFrame.\n",
            "Try using .loc[row_indexer,col_indexer] = value instead\n",
            "\n",
            "See the caveats in the documentation: https://pandas.pydata.org/pandas-docs/stable/user_guide/indexing.html#returning-a-view-versus-a-copy\n",
            "  self[k1] = value[k2]\n"
          ]
        }
      ]
    },
    {
      "cell_type": "code",
      "metadata": {
        "colab": {
          "base_uri": "https://localhost:8080/",
          "height": 206
        },
        "id": "1MVw4zmGNbUq",
        "outputId": "2f8f6166-eea8-41b2-85d4-02186f98172b"
      },
      "source": [
        "dfDesemp[['Mes','Anio','Desempleo']].head()"
      ],
      "execution_count": 14,
      "outputs": [
        {
          "output_type": "execute_result",
          "data": {
            "text/html": [
              "<div>\n",
              "<style scoped>\n",
              "    .dataframe tbody tr th:only-of-type {\n",
              "        vertical-align: middle;\n",
              "    }\n",
              "\n",
              "    .dataframe tbody tr th {\n",
              "        vertical-align: top;\n",
              "    }\n",
              "\n",
              "    .dataframe thead th {\n",
              "        text-align: right;\n",
              "    }\n",
              "</style>\n",
              "<table border=\"1\" class=\"dataframe\">\n",
              "  <thead>\n",
              "    <tr style=\"text-align: right;\">\n",
              "      <th></th>\n",
              "      <th>Mes</th>\n",
              "      <th>Anio</th>\n",
              "      <th>Desempleo</th>\n",
              "    </tr>\n",
              "  </thead>\n",
              "  <tbody>\n",
              "    <tr>\n",
              "      <th>12</th>\n",
              "      <td>dic</td>\n",
              "      <td>07</td>\n",
              "      <td>316697</td>\n",
              "    </tr>\n",
              "    <tr>\n",
              "      <th>30</th>\n",
              "      <td>jun</td>\n",
              "      <td>08</td>\n",
              "      <td>344143</td>\n",
              "    </tr>\n",
              "    <tr>\n",
              "      <th>48</th>\n",
              "      <td>dic</td>\n",
              "      <td>08</td>\n",
              "      <td>380026</td>\n",
              "    </tr>\n",
              "    <tr>\n",
              "      <th>66</th>\n",
              "      <td>dic</td>\n",
              "      <td>09</td>\n",
              "      <td>423802</td>\n",
              "    </tr>\n",
              "    <tr>\n",
              "      <th>84</th>\n",
              "      <td>jun</td>\n",
              "      <td>10</td>\n",
              "      <td>408318</td>\n",
              "    </tr>\n",
              "  </tbody>\n",
              "</table>\n",
              "</div>"
            ],
            "text/plain": [
              "    Mes Anio  Desempleo\n",
              "12  dic   07     316697\n",
              "30  jun   08     344143\n",
              "48  dic   08     380026\n",
              "66  dic   09     423802\n",
              "84  jun   10     408318"
            ]
          },
          "metadata": {},
          "execution_count": 14
        }
      ]
    },
    {
      "cell_type": "markdown",
      "metadata": {
        "id": "7nJqt2l8Nopi"
      },
      "source": [
        "# Graficas de Empleo y Desempleo por anio"
      ]
    },
    {
      "cell_type": "markdown",
      "metadata": {
        "id": "6KWRA72NTZet"
      },
      "source": [
        "Esta parte sirve para verificar que el merge haya sido exitoso"
      ]
    },
    {
      "cell_type": "code",
      "metadata": {
        "colab": {
          "base_uri": "https://localhost:8080/",
          "height": 81
        },
        "id": "-YIFihuEO-3n",
        "outputId": "66d4ef27-5631-40c8-a379-8517a58c6821"
      },
      "source": [
        "anioEmp = dfEmp.loc[dfEmp['Anio'] == '07' ]\n",
        "anioEmp.head()"
      ],
      "execution_count": 15,
      "outputs": [
        {
          "output_type": "execute_result",
          "data": {
            "text/html": [
              "<div>\n",
              "<style scoped>\n",
              "    .dataframe tbody tr th:only-of-type {\n",
              "        vertical-align: middle;\n",
              "    }\n",
              "\n",
              "    .dataframe tbody tr th {\n",
              "        vertical-align: top;\n",
              "    }\n",
              "\n",
              "    .dataframe thead th {\n",
              "        text-align: right;\n",
              "    }\n",
              "</style>\n",
              "<table border=\"1\" class=\"dataframe\">\n",
              "  <thead>\n",
              "    <tr style=\"text-align: right;\">\n",
              "      <th></th>\n",
              "      <th>Fecha</th>\n",
              "      <th>Empleo</th>\n",
              "      <th>Mes</th>\n",
              "      <th>Anio</th>\n",
              "    </tr>\n",
              "  </thead>\n",
              "  <tbody>\n",
              "    <tr>\n",
              "      <th>4</th>\n",
              "      <td>dic-07</td>\n",
              "      <td>6019332</td>\n",
              "      <td>dic</td>\n",
              "      <td>07</td>\n",
              "    </tr>\n",
              "  </tbody>\n",
              "</table>\n",
              "</div>"
            ],
            "text/plain": [
              "    Fecha   Empleo  Mes Anio\n",
              "4  dic-07  6019332  dic   07"
            ]
          },
          "metadata": {},
          "execution_count": 15
        }
      ]
    },
    {
      "cell_type": "code",
      "metadata": {
        "colab": {
          "base_uri": "https://localhost:8080/",
          "height": 81
        },
        "id": "uLM_b-iXQDRo",
        "outputId": "b89d9ebd-dd7f-4e52-ae5b-753a9823f267"
      },
      "source": [
        "anioDesmp = dfDesemp.loc[dfDesemp['Anio'] == '07' ]\n",
        "anioDesmp.head()"
      ],
      "execution_count": 16,
      "outputs": [
        {
          "output_type": "execute_result",
          "data": {
            "text/html": [
              "<div>\n",
              "<style scoped>\n",
              "    .dataframe tbody tr th:only-of-type {\n",
              "        vertical-align: middle;\n",
              "    }\n",
              "\n",
              "    .dataframe tbody tr th {\n",
              "        vertical-align: top;\n",
              "    }\n",
              "\n",
              "    .dataframe thead th {\n",
              "        text-align: right;\n",
              "    }\n",
              "</style>\n",
              "<table border=\"1\" class=\"dataframe\">\n",
              "  <thead>\n",
              "    <tr style=\"text-align: right;\">\n",
              "      <th></th>\n",
              "      <th>Fecha</th>\n",
              "      <th>Desempleo</th>\n",
              "      <th>Mes</th>\n",
              "      <th>Anio</th>\n",
              "    </tr>\n",
              "  </thead>\n",
              "  <tbody>\n",
              "    <tr>\n",
              "      <th>12</th>\n",
              "      <td>dic-07</td>\n",
              "      <td>316697</td>\n",
              "      <td>dic</td>\n",
              "      <td>07</td>\n",
              "    </tr>\n",
              "  </tbody>\n",
              "</table>\n",
              "</div>"
            ],
            "text/plain": [
              "     Fecha  Desempleo  Mes Anio\n",
              "12  dic-07     316697  dic   07"
            ]
          },
          "metadata": {},
          "execution_count": 16
        }
      ]
    },
    {
      "cell_type": "markdown",
      "metadata": {
        "id": "wP7F8OpcTUhm"
      },
      "source": [
        "# Unir los dos dataframes"
      ]
    },
    {
      "cell_type": "code",
      "metadata": {
        "colab": {
          "base_uri": "https://localhost:8080/",
          "height": 206
        },
        "id": "mTAvaP5GRE0g",
        "outputId": "63be5989-e16f-4633-f136-6a183a05ebcb"
      },
      "source": [
        "dfMerge = pd.merge(dfEmp, dfDesemp, on=['Fecha','Anio', 'Mes'])\n",
        "dfMerge[['Mes','Anio','Empleo', 'Desempleo']].head()"
      ],
      "execution_count": 17,
      "outputs": [
        {
          "output_type": "execute_result",
          "data": {
            "text/html": [
              "<div>\n",
              "<style scoped>\n",
              "    .dataframe tbody tr th:only-of-type {\n",
              "        vertical-align: middle;\n",
              "    }\n",
              "\n",
              "    .dataframe tbody tr th {\n",
              "        vertical-align: top;\n",
              "    }\n",
              "\n",
              "    .dataframe thead th {\n",
              "        text-align: right;\n",
              "    }\n",
              "</style>\n",
              "<table border=\"1\" class=\"dataframe\">\n",
              "  <thead>\n",
              "    <tr style=\"text-align: right;\">\n",
              "      <th></th>\n",
              "      <th>Mes</th>\n",
              "      <th>Anio</th>\n",
              "      <th>Empleo</th>\n",
              "      <th>Desempleo</th>\n",
              "    </tr>\n",
              "  </thead>\n",
              "  <tbody>\n",
              "    <tr>\n",
              "      <th>0</th>\n",
              "      <td>dic</td>\n",
              "      <td>07</td>\n",
              "      <td>6019332</td>\n",
              "      <td>316697</td>\n",
              "    </tr>\n",
              "    <tr>\n",
              "      <th>1</th>\n",
              "      <td>jun</td>\n",
              "      <td>08</td>\n",
              "      <td>6245225</td>\n",
              "      <td>344143</td>\n",
              "    </tr>\n",
              "    <tr>\n",
              "      <th>2</th>\n",
              "      <td>dic</td>\n",
              "      <td>08</td>\n",
              "      <td>6005395</td>\n",
              "      <td>380026</td>\n",
              "    </tr>\n",
              "    <tr>\n",
              "      <th>3</th>\n",
              "      <td>dic</td>\n",
              "      <td>09</td>\n",
              "      <td>6125135</td>\n",
              "      <td>423802</td>\n",
              "    </tr>\n",
              "    <tr>\n",
              "      <th>4</th>\n",
              "      <td>jun</td>\n",
              "      <td>10</td>\n",
              "      <td>6174141</td>\n",
              "      <td>408318</td>\n",
              "    </tr>\n",
              "  </tbody>\n",
              "</table>\n",
              "</div>"
            ],
            "text/plain": [
              "   Mes Anio   Empleo  Desempleo\n",
              "0  dic   07  6019332     316697\n",
              "1  jun   08  6245225     344143\n",
              "2  dic   08  6005395     380026\n",
              "3  dic   09  6125135     423802\n",
              "4  jun   10  6174141     408318"
            ]
          },
          "metadata": {},
          "execution_count": 17
        }
      ]
    },
    {
      "cell_type": "code",
      "metadata": {
        "colab": {
          "base_uri": "https://localhost:8080/",
          "height": 404
        },
        "id": "sl0b-ShJU3ZM",
        "outputId": "3e3cc443-b645-4c6f-86c7-1e7504deb0c7"
      },
      "source": [
        "plt.figure(figsize=(15, 6))\n",
        "plt.title('Empleo y Desempleo por anios - Ecuador')\n",
        "plt.plot(dfMerge.Anio, dfMerge.Empleo, 'b.-')\n",
        "plt.plot(dfMerge.Anio, dfMerge.Desempleo, 'r.-')\n",
        "plt.xlabel('Anio')\n",
        "plt.ylabel('Total')\n",
        "plt.legend(['Empleo','Desempleo'])\n",
        "plt.show()"
      ],
      "execution_count": 18,
      "outputs": [
        {
          "output_type": "display_data",
          "data": {
            "image/png": "[encoded data removed]",
            "text/plain": [
              "<Figure size 1080x432 with 1 Axes>"
            ]
          },
          "metadata": {
            "needs_background": "light"
          }
        }
      ]
    },
    {
      "cell_type": "code",
      "metadata": {
        "colab": {
          "base_uri": "https://localhost:8080/",
          "height": 621
        },
        "id": "bb1P3dspXP77",
        "outputId": "7291e50e-fa96-45a1-fa76-7c846eef3231"
      },
      "source": [
        "plt.figure(figsize=(16, 10))\n",
        "plt.title('Empleo y Desempleo por anios - Ecuador')\n",
        "plt.plot(dfMerge.Fecha, dfMerge.Empleo, 'b.-')\n",
        "plt.plot(dfMerge.Fecha, dfMerge.Desempleo, 'r.-')\n",
        "plt.xticks(dfMerge.Fecha[::3].tolist())\n",
        "plt.xlabel('Fecha')\n",
        "plt.ylabel('Total')\n",
        "plt.legend(['Empleo','Desempleo'])\n",
        "plt.show()"
      ],
      "execution_count": 19,
      "outputs": [
        {
          "output_type": "display_data",
          "data": {
            "image/png": "[encoded data removed]",
            "text/plain": [
              "<Figure size 1152x720 with 1 Axes>"
            ]
          },
          "metadata": {
            "needs_background": "light"
          }
        }
      ]
    },
    {
      "cell_type": "markdown",
      "metadata": {
        "id": "rhioUafzJVg-"
      },
      "source": [
        "# Explicación\n",
        "Se puede observar el el Empleo en el pais 5.5 veces mayor que el desempleo, tomando en cuenta los datos del 2007 al mes de septiembre de 2021. A partir de  Junio del 2019 hasta septiembre del 2020 se puede observar un bajon en el crecimiento del empleo en el pais. A partir de septiembre del 2020 se puede ver que la linea del empleo empieza a subir, esto se puede deber a que por esas fechas en el año 2020 se empezó a alzar medidas por la pandemia y la gente pudo movilizarce y realizar actividades turisticas como cotidianas sin restricciones de movilidad tan strictas.\n",
        "a partir de Septiembre del 2020 se puede observar que el desempleo empezo a bajar, no considerablemente, experimento un pico mayor al resto entre marzo del 2021 hasta junio del 2021, para luego descender gradualmente hasta septiembre del 2021. "
      ]
    },
    {
      "cell_type": "markdown",
      "metadata": {
        "id": "VPIh0w5FX5Rq"
      },
      "source": [
        "# Sectorizacion del Empleo\n",
        "Crear un grafico de pie por personas\n",
        "\n",
        "\n",
        "1.   Limpiar el dataset.\n",
        "# Eliminar los valores de %, reemplazar '-' a 0 y ',' a '.'\n",
        "\n"
      ]
    },
    {
      "cell_type": "code",
      "metadata": {
        "id": "cGefBOanX_SB"
      },
      "source": [
        "sectorizacion_empleo.rename(columns = {\n",
        "'Unnamed: 1': 'Sector'}, inplace = True)\n",
        "\n",
        "sectorizacion = sectorizacion_empleo.drop(['Característica'], axis=1)\n"
      ],
      "execution_count": 237,
      "outputs": []
    },
    {
      "cell_type": "code",
      "metadata": {
        "colab": {
          "base_uri": "https://localhost:8080/",
          "height": 365
        },
        "id": "M_7CCVz07cbH",
        "outputId": "2938bebb-f203-442d-aefd-cd558ba9f464"
      },
      "source": [
        "#se reemplaza todos los datos '-' por 0\n",
        "sectorizacion = sectorizacion.replace({'-' : 0})\n",
        "# Reemplazar , por .\n",
        "sectorizacion = sectorizacion.replace(',','.', regex=True)\n",
        "#Quitar % para poder transformar a tipo float\n",
        "sectorizacion = sectorizacion.replace('%','', regex=True)\n",
        "sectorizacion.tail()"
      ],
      "execution_count": 249,
      "outputs": [
        {
          "output_type": "execute_result",
          "data": {
            "text/html": [
              "<div>\n",
              "<style scoped>\n",
              "    .dataframe tbody tr th:only-of-type {\n",
              "        vertical-align: middle;\n",
              "    }\n",
              "\n",
              "    .dataframe tbody tr th {\n",
              "        vertical-align: top;\n",
              "    }\n",
              "\n",
              "    .dataframe thead th {\n",
              "        text-align: right;\n",
              "    }\n",
              "</style>\n",
              "<table border=\"1\" class=\"dataframe\">\n",
              "  <thead>\n",
              "    <tr style=\"text-align: right;\">\n",
              "      <th></th>\n",
              "      <th>Sector</th>\n",
              "      <th>jun-07</th>\n",
              "      <th>sep-07</th>\n",
              "      <th>dic-07</th>\n",
              "      <th>mar-08</th>\n",
              "      <th>jun-08</th>\n",
              "      <th>sep-08</th>\n",
              "      <th>dic-08</th>\n",
              "      <th>mar-09</th>\n",
              "      <th>jun-09</th>\n",
              "      <th>sep-09</th>\n",
              "      <th>dic-09</th>\n",
              "      <th>mar-10</th>\n",
              "      <th>jun-10</th>\n",
              "      <th>sep-10</th>\n",
              "      <th>dic-10</th>\n",
              "      <th>mar-11</th>\n",
              "      <th>jun-11</th>\n",
              "      <th>sep-11</th>\n",
              "      <th>dic-11</th>\n",
              "      <th>mar-12</th>\n",
              "      <th>jun-12</th>\n",
              "      <th>sep-12</th>\n",
              "      <th>dic-12</th>\n",
              "      <th>mar-13</th>\n",
              "      <th>jun-13</th>\n",
              "      <th>sep-13</th>\n",
              "      <th>dic-13</th>\n",
              "      <th>mar-14</th>\n",
              "      <th>jun-14</th>\n",
              "      <th>sep-14</th>\n",
              "      <th>dic-14</th>\n",
              "      <th>mar15</th>\n",
              "      <th>jun-15</th>\n",
              "      <th>sep-15</th>\n",
              "      <th>dic-15</th>\n",
              "      <th>mar-16</th>\n",
              "      <th>jun-16</th>\n",
              "      <th>sep-16</th>\n",
              "      <th>dic-16</th>\n",
              "      <th>mar-17</th>\n",
              "      <th>jun-17</th>\n",
              "      <th>sep-17</th>\n",
              "      <th>dic-17</th>\n",
              "      <th>mar-18</th>\n",
              "      <th>jun-18</th>\n",
              "      <th>sep-18</th>\n",
              "      <th>dic-18</th>\n",
              "      <th>mar-19</th>\n",
              "      <th>jun-19</th>\n",
              "      <th>sep-19</th>\n",
              "      <th>dic-19</th>\n",
              "      <th>sep-20</th>\n",
              "      <th>oct-20</th>\n",
              "      <th>nov-20</th>\n",
              "      <th>dic-20</th>\n",
              "      <th>ene-21</th>\n",
              "      <th>feb-21</th>\n",
              "      <th>mar-21</th>\n",
              "      <th>abr-21</th>\n",
              "      <th>may-21</th>\n",
              "      <th>jun-21</th>\n",
              "      <th>jul-21</th>\n",
              "      <th>ago-21</th>\n",
              "      <th>sep-21</th>\n",
              "      <th>oct-21</th>\n",
              "    </tr>\n",
              "  </thead>\n",
              "  <tbody>\n",
              "    <tr>\n",
              "      <th>7</th>\n",
              "      <td>No Clasificados por Sector</td>\n",
              "      <td>4.4</td>\n",
              "      <td>4.1</td>\n",
              "      <td>7.7</td>\n",
              "      <td>5.1</td>\n",
              "      <td>6.2</td>\n",
              "      <td>5.1</td>\n",
              "      <td>6.4</td>\n",
              "      <td>4.8</td>\n",
              "      <td>5.5</td>\n",
              "      <td>5.1</td>\n",
              "      <td>6.0</td>\n",
              "      <td>5.4</td>\n",
              "      <td>6.2</td>\n",
              "      <td>4.1</td>\n",
              "      <td>4.6</td>\n",
              "      <td>4.2</td>\n",
              "      <td>5.0</td>\n",
              "      <td>4.1</td>\n",
              "      <td>4.8</td>\n",
              "      <td>2.5</td>\n",
              "      <td>5.9</td>\n",
              "      <td>4.6</td>\n",
              "      <td>4.9</td>\n",
              "      <td>4.2</td>\n",
              "      <td>4.2</td>\n",
              "      <td>3.4</td>\n",
              "      <td>4.7</td>\n",
              "      <td>4.2</td>\n",
              "      <td>4.4</td>\n",
              "      <td>3.5</td>\n",
              "      <td>4.7</td>\n",
              "      <td>3.4</td>\n",
              "      <td>5.0</td>\n",
              "      <td>4.3</td>\n",
              "      <td>4.7</td>\n",
              "      <td>4.6</td>\n",
              "      <td>3.8</td>\n",
              "      <td>4.4</td>\n",
              "      <td>5.0</td>\n",
              "      <td>3.5</td>\n",
              "      <td>3.5</td>\n",
              "      <td>2.8</td>\n",
              "      <td>3.6</td>\n",
              "      <td>3.2</td>\n",
              "      <td>3.2</td>\n",
              "      <td>3.5</td>\n",
              "      <td>4.2</td>\n",
              "      <td>4.3</td>\n",
              "      <td>4.9</td>\n",
              "      <td>3.6</td>\n",
              "      <td>5.1</td>\n",
              "      <td>3.6</td>\n",
              "      <td>3.7</td>\n",
              "      <td>3.5</td>\n",
              "      <td>4.4</td>\n",
              "      <td>5.2</td>\n",
              "      <td>6.1</td>\n",
              "      <td>5.1</td>\n",
              "      <td>4.7</td>\n",
              "      <td>5.6</td>\n",
              "      <td>6.3</td>\n",
              "      <td>6.2</td>\n",
              "      <td>5.3</td>\n",
              "      <td>4.8</td>\n",
              "      <td>4.4</td>\n",
              "    </tr>\n",
              "    <tr>\n",
              "      <th>8</th>\n",
              "      <td>Sector Formal</td>\n",
              "      <td>0</td>\n",
              "      <td>0</td>\n",
              "      <td>15.5</td>\n",
              "      <td>0</td>\n",
              "      <td>16.2</td>\n",
              "      <td>0</td>\n",
              "      <td>19.1</td>\n",
              "      <td>0</td>\n",
              "      <td>0</td>\n",
              "      <td>0</td>\n",
              "      <td>17.2</td>\n",
              "      <td>0</td>\n",
              "      <td>18.4</td>\n",
              "      <td>0</td>\n",
              "      <td>20.5</td>\n",
              "      <td>0</td>\n",
              "      <td>18.9</td>\n",
              "      <td>0</td>\n",
              "      <td>19.6</td>\n",
              "      <td>0</td>\n",
              "      <td>19.9</td>\n",
              "      <td>0</td>\n",
              "      <td>21.2</td>\n",
              "      <td>0</td>\n",
              "      <td>20.9</td>\n",
              "      <td>0</td>\n",
              "      <td>23.6</td>\n",
              "      <td>23.4</td>\n",
              "      <td>25.2</td>\n",
              "      <td>25.2</td>\n",
              "      <td>31.0</td>\n",
              "      <td>28.5</td>\n",
              "      <td>28.9</td>\n",
              "      <td>29.8</td>\n",
              "      <td>28.7</td>\n",
              "      <td>27.5</td>\n",
              "      <td>27.1</td>\n",
              "      <td>27.6</td>\n",
              "      <td>29.6</td>\n",
              "      <td>26.7</td>\n",
              "      <td>27.0</td>\n",
              "      <td>28.0</td>\n",
              "      <td>28.1</td>\n",
              "      <td>27.7</td>\n",
              "      <td>24.2</td>\n",
              "      <td>23.4</td>\n",
              "      <td>24.4</td>\n",
              "      <td>23.7</td>\n",
              "      <td>25.3</td>\n",
              "      <td>25.8</td>\n",
              "      <td>22.3</td>\n",
              "      <td>22.9</td>\n",
              "      <td>22.5</td>\n",
              "      <td>19.7</td>\n",
              "      <td>21.4</td>\n",
              "      <td>20.8</td>\n",
              "      <td>22.1</td>\n",
              "      <td>25.2</td>\n",
              "      <td>20.2</td>\n",
              "      <td>19.9</td>\n",
              "      <td>23.1</td>\n",
              "      <td>21.2</td>\n",
              "      <td>21.0</td>\n",
              "      <td>24.9</td>\n",
              "      <td>20.4</td>\n",
              "    </tr>\n",
              "    <tr>\n",
              "      <th>9</th>\n",
              "      <td>Sector Informal</td>\n",
              "      <td>0</td>\n",
              "      <td>0</td>\n",
              "      <td>66.7</td>\n",
              "      <td>0</td>\n",
              "      <td>68.1</td>\n",
              "      <td>0</td>\n",
              "      <td>64.2</td>\n",
              "      <td>0</td>\n",
              "      <td>0</td>\n",
              "      <td>0</td>\n",
              "      <td>65.6</td>\n",
              "      <td>0</td>\n",
              "      <td>64.5</td>\n",
              "      <td>0</td>\n",
              "      <td>65.7</td>\n",
              "      <td>0</td>\n",
              "      <td>64.4</td>\n",
              "      <td>0</td>\n",
              "      <td>63.2</td>\n",
              "      <td>0</td>\n",
              "      <td>64.9</td>\n",
              "      <td>0</td>\n",
              "      <td>62.8</td>\n",
              "      <td>0</td>\n",
              "      <td>66.4</td>\n",
              "      <td>0</td>\n",
              "      <td>61.1</td>\n",
              "      <td>63.2</td>\n",
              "      <td>59.0</td>\n",
              "      <td>65.4</td>\n",
              "      <td>57.6</td>\n",
              "      <td>60.7</td>\n",
              "      <td>59.3</td>\n",
              "      <td>58.4</td>\n",
              "      <td>59.5</td>\n",
              "      <td>63.2</td>\n",
              "      <td>63.4</td>\n",
              "      <td>63.7</td>\n",
              "      <td>60.6</td>\n",
              "      <td>65.8</td>\n",
              "      <td>65.7</td>\n",
              "      <td>65.8</td>\n",
              "      <td>64.0</td>\n",
              "      <td>65.0</td>\n",
              "      <td>69.2</td>\n",
              "      <td>69.4</td>\n",
              "      <td>68.3</td>\n",
              "      <td>69.3</td>\n",
              "      <td>67.5</td>\n",
              "      <td>67.4</td>\n",
              "      <td>69.5</td>\n",
              "      <td>71.4</td>\n",
              "      <td>72.8</td>\n",
              "      <td>73.8</td>\n",
              "      <td>71.6</td>\n",
              "      <td>72.8</td>\n",
              "      <td>69.0</td>\n",
              "      <td>68.8</td>\n",
              "      <td>72.0</td>\n",
              "      <td>73.6</td>\n",
              "      <td>70.8</td>\n",
              "      <td>71.6</td>\n",
              "      <td>71.2</td>\n",
              "      <td>69.9</td>\n",
              "      <td>74.8</td>\n",
              "    </tr>\n",
              "    <tr>\n",
              "      <th>10</th>\n",
              "      <td>Empleo Doméstico</td>\n",
              "      <td>0</td>\n",
              "      <td>0</td>\n",
              "      <td>1.5</td>\n",
              "      <td>0</td>\n",
              "      <td>1.8</td>\n",
              "      <td>0</td>\n",
              "      <td>1.9</td>\n",
              "      <td>0</td>\n",
              "      <td>0</td>\n",
              "      <td>0</td>\n",
              "      <td>2.0</td>\n",
              "      <td>0</td>\n",
              "      <td>1.9</td>\n",
              "      <td>0</td>\n",
              "      <td>1.8</td>\n",
              "      <td>0</td>\n",
              "      <td>1.5</td>\n",
              "      <td>0</td>\n",
              "      <td>1.6</td>\n",
              "      <td>0</td>\n",
              "      <td>1.6</td>\n",
              "      <td>0</td>\n",
              "      <td>1.7</td>\n",
              "      <td>0</td>\n",
              "      <td>1.7</td>\n",
              "      <td>0</td>\n",
              "      <td>2.1</td>\n",
              "      <td>2.7</td>\n",
              "      <td>1.9</td>\n",
              "      <td>1.6</td>\n",
              "      <td>2.2</td>\n",
              "      <td>1.8</td>\n",
              "      <td>1.5</td>\n",
              "      <td>1.5</td>\n",
              "      <td>1.6</td>\n",
              "      <td>1.1</td>\n",
              "      <td>1.3</td>\n",
              "      <td>1.6</td>\n",
              "      <td>1.8</td>\n",
              "      <td>1.2</td>\n",
              "      <td>1.4</td>\n",
              "      <td>1.4</td>\n",
              "      <td>1.4</td>\n",
              "      <td>1.4</td>\n",
              "      <td>1.4</td>\n",
              "      <td>1.1</td>\n",
              "      <td>1.4</td>\n",
              "      <td>1.3</td>\n",
              "      <td>1.4</td>\n",
              "      <td>1.3</td>\n",
              "      <td>1.7</td>\n",
              "      <td>0.9</td>\n",
              "      <td>0.6</td>\n",
              "      <td>1.2</td>\n",
              "      <td>1.2</td>\n",
              "      <td>0.8</td>\n",
              "      <td>0.8</td>\n",
              "      <td>0.9</td>\n",
              "      <td>0.8</td>\n",
              "      <td>0.9</td>\n",
              "      <td>1.3</td>\n",
              "      <td>1.1</td>\n",
              "      <td>1.0</td>\n",
              "      <td>1.3</td>\n",
              "      <td>0.9</td>\n",
              "    </tr>\n",
              "    <tr>\n",
              "      <th>11</th>\n",
              "      <td>No Clasificados por Sector</td>\n",
              "      <td>0</td>\n",
              "      <td>0</td>\n",
              "      <td>16.3</td>\n",
              "      <td>0</td>\n",
              "      <td>13.9</td>\n",
              "      <td>0</td>\n",
              "      <td>14.8</td>\n",
              "      <td>0</td>\n",
              "      <td>0</td>\n",
              "      <td>0</td>\n",
              "      <td>15.2</td>\n",
              "      <td>0</td>\n",
              "      <td>15.2</td>\n",
              "      <td>0</td>\n",
              "      <td>11.9</td>\n",
              "      <td>0</td>\n",
              "      <td>15.1</td>\n",
              "      <td>0</td>\n",
              "      <td>15.6</td>\n",
              "      <td>0</td>\n",
              "      <td>13.5</td>\n",
              "      <td>0</td>\n",
              "      <td>14.3</td>\n",
              "      <td>0</td>\n",
              "      <td>11.1</td>\n",
              "      <td>0</td>\n",
              "      <td>13.2</td>\n",
              "      <td>10.6</td>\n",
              "      <td>13.9</td>\n",
              "      <td>7.8</td>\n",
              "      <td>9.3</td>\n",
              "      <td>9.0</td>\n",
              "      <td>10.2</td>\n",
              "      <td>10.4</td>\n",
              "      <td>10.1</td>\n",
              "      <td>8.2</td>\n",
              "      <td>8.2</td>\n",
              "      <td>7.1</td>\n",
              "      <td>7.9</td>\n",
              "      <td>6.3</td>\n",
              "      <td>5.9</td>\n",
              "      <td>4.8</td>\n",
              "      <td>6.5</td>\n",
              "      <td>5.9</td>\n",
              "      <td>5.1</td>\n",
              "      <td>6.0</td>\n",
              "      <td>5.9</td>\n",
              "      <td>5.7</td>\n",
              "      <td>5.7</td>\n",
              "      <td>5.5</td>\n",
              "      <td>6.5</td>\n",
              "      <td>4.7</td>\n",
              "      <td>4.1</td>\n",
              "      <td>5.4</td>\n",
              "      <td>5.8</td>\n",
              "      <td>5.7</td>\n",
              "      <td>8.1</td>\n",
              "      <td>5.1</td>\n",
              "      <td>7.1</td>\n",
              "      <td>5.6</td>\n",
              "      <td>4.8</td>\n",
              "      <td>6.1</td>\n",
              "      <td>6.7</td>\n",
              "      <td>3.9</td>\n",
              "      <td>3.9</td>\n",
              "    </tr>\n",
              "  </tbody>\n",
              "</table>\n",
              "</div>"
            ],
            "text/plain": [
              "                        Sector jun-07 sep-07 dic-07  ... jul-21 ago-21 sep-21 oct-21\n",
              "7   No Clasificados por Sector    4.4    4.1    7.7  ...    6.2    5.3    4.8    4.4\n",
              "8                Sector Formal      0      0   15.5  ...   21.2   21.0   24.9   20.4\n",
              "9              Sector Informal      0      0   66.7  ...   71.6   71.2   69.9   74.8\n",
              "10            Empleo Doméstico      0      0    1.5  ...    1.1    1.0    1.3    0.9\n",
              "11  No Clasificados por Sector      0      0   16.3  ...    6.1    6.7    3.9    3.9\n",
              "\n",
              "[5 rows x 66 columns]"
            ]
          },
          "metadata": {},
          "execution_count": 249
        }
      ]
    },
    {
      "cell_type": "markdown",
      "metadata": {
        "id": "d6DmMq8qZEB9"
      },
      "source": [
        "3. Transformar los datos a float"
      ]
    },
    {
      "cell_type": "code",
      "metadata": {
        "id": "7_y_KjoVOdje"
      },
      "source": [
        "#Funcion para transformar las columnas a float\n",
        "def toFloat(data, columnas):\n",
        "  for i in columnas:\n",
        "    data[i] = data[i].astype(float)\n",
        "  return data"
      ],
      "execution_count": 204,
      "outputs": []
    },
    {
      "cell_type": "code",
      "metadata": {
        "colab": {
          "base_uri": "https://localhost:8080/",
          "height": 0
        },
        "id": "-IkwmWJUXkBA",
        "outputId": "66240527-836c-4b28-f115-57ddaada27bc"
      },
      "source": [
        "#Obtener la lista de las fechas para iterar por estas\n",
        "fechasList = []\n",
        "for col in sectorizacion:\n",
        "  fechasList.append(col)\n",
        "fechasList.pop(0)\n",
        "print(fechasList)"
      ],
      "execution_count": 252,
      "outputs": [
        {
          "output_type": "stream",
          "name": "stdout",
          "text": [
            "['jun-07', 'sep-07', 'dic-07', 'mar-08', 'jun-08', 'sep-08', 'dic-08', 'mar-09', 'jun-09', 'sep-09', 'dic-09', 'mar-10', 'jun-10', 'sep-10', 'dic-10', 'mar-11', 'jun-11', 'sep-11', 'dic-11', 'mar-12', 'jun-12', 'sep-12', 'dic-12', 'mar-13', 'jun-13', 'sep-13', 'dic-13', 'mar-14', 'jun-14', 'sep-14', 'dic-14', 'mar15', 'jun-15', 'sep-15', 'dic-15', 'mar-16', 'jun-16', 'sep-16', 'dic-16', 'mar-17', 'jun-17', 'sep-17', 'dic-17', 'mar-18', 'jun-18', 'sep-18', 'dic-18', 'mar-19', 'jun-19', 'sep-19', 'dic-19', 'sep-20', 'oct-20', 'nov-20', 'dic-20', 'ene-21', 'feb-21', 'mar-21', 'abr-21', 'may-21', 'jun-21', 'jul-21', 'ago-21', 'sep-21', 'oct-21']\n"
          ]
        }
      ]
    },
    {
      "cell_type": "code",
      "metadata": {
        "id": "p2hW6l7RZQ2v"
      },
      "source": [
        "sectorizacion = toFloat(sectorizacion, fechasList)"
      ],
      "execution_count": null,
      "outputs": []
    },
    {
      "cell_type": "code",
      "metadata": {
        "colab": {
          "base_uri": "https://localhost:8080/",
          "height": 347
        },
        "id": "4h6iRsYXaDBG",
        "outputId": "9c435c2b-db3f-45dd-b0db-38a867e890c9"
      },
      "source": [
        "sectorizacion.head()"
      ],
      "execution_count": 259,
      "outputs": [
        {
          "output_type": "execute_result",
          "data": {
            "text/html": [
              "<div>\n",
              "<style scoped>\n",
              "    .dataframe tbody tr th:only-of-type {\n",
              "        vertical-align: middle;\n",
              "    }\n",
              "\n",
              "    .dataframe tbody tr th {\n",
              "        vertical-align: top;\n",
              "    }\n",
              "\n",
              "    .dataframe thead th {\n",
              "        text-align: right;\n",
              "    }\n",
              "</style>\n",
              "<table border=\"1\" class=\"dataframe\">\n",
              "  <thead>\n",
              "    <tr style=\"text-align: right;\">\n",
              "      <th></th>\n",
              "      <th>Sector</th>\n",
              "      <th>jun-07</th>\n",
              "      <th>sep-07</th>\n",
              "      <th>dic-07</th>\n",
              "      <th>mar-08</th>\n",
              "      <th>jun-08</th>\n",
              "      <th>sep-08</th>\n",
              "      <th>dic-08</th>\n",
              "      <th>mar-09</th>\n",
              "      <th>jun-09</th>\n",
              "      <th>sep-09</th>\n",
              "      <th>dic-09</th>\n",
              "      <th>mar-10</th>\n",
              "      <th>jun-10</th>\n",
              "      <th>sep-10</th>\n",
              "      <th>dic-10</th>\n",
              "      <th>mar-11</th>\n",
              "      <th>jun-11</th>\n",
              "      <th>sep-11</th>\n",
              "      <th>dic-11</th>\n",
              "      <th>mar-12</th>\n",
              "      <th>jun-12</th>\n",
              "      <th>sep-12</th>\n",
              "      <th>dic-12</th>\n",
              "      <th>mar-13</th>\n",
              "      <th>jun-13</th>\n",
              "      <th>sep-13</th>\n",
              "      <th>dic-13</th>\n",
              "      <th>mar-14</th>\n",
              "      <th>jun-14</th>\n",
              "      <th>sep-14</th>\n",
              "      <th>dic-14</th>\n",
              "      <th>mar15</th>\n",
              "      <th>jun-15</th>\n",
              "      <th>sep-15</th>\n",
              "      <th>dic-15</th>\n",
              "      <th>mar-16</th>\n",
              "      <th>jun-16</th>\n",
              "      <th>sep-16</th>\n",
              "      <th>dic-16</th>\n",
              "      <th>mar-17</th>\n",
              "      <th>jun-17</th>\n",
              "      <th>sep-17</th>\n",
              "      <th>dic-17</th>\n",
              "      <th>mar-18</th>\n",
              "      <th>jun-18</th>\n",
              "      <th>sep-18</th>\n",
              "      <th>dic-18</th>\n",
              "      <th>mar-19</th>\n",
              "      <th>jun-19</th>\n",
              "      <th>sep-19</th>\n",
              "      <th>dic-19</th>\n",
              "      <th>sep-20</th>\n",
              "      <th>oct-20</th>\n",
              "      <th>nov-20</th>\n",
              "      <th>dic-20</th>\n",
              "      <th>ene-21</th>\n",
              "      <th>feb-21</th>\n",
              "      <th>mar-21</th>\n",
              "      <th>abr-21</th>\n",
              "      <th>may-21</th>\n",
              "      <th>jun-21</th>\n",
              "      <th>jul-21</th>\n",
              "      <th>ago-21</th>\n",
              "      <th>sep-21</th>\n",
              "      <th>oct-21</th>\n",
              "    </tr>\n",
              "  </thead>\n",
              "  <tbody>\n",
              "    <tr>\n",
              "      <th>0</th>\n",
              "      <td>Sector Formal</td>\n",
              "      <td>0.0</td>\n",
              "      <td>0.0</td>\n",
              "      <td>41.0</td>\n",
              "      <td>0.0</td>\n",
              "      <td>42.5</td>\n",
              "      <td>0.0</td>\n",
              "      <td>43.9</td>\n",
              "      <td>0.0</td>\n",
              "      <td>0.0</td>\n",
              "      <td>0.0</td>\n",
              "      <td>43.7</td>\n",
              "      <td>0.0</td>\n",
              "      <td>44.9</td>\n",
              "      <td>0.0</td>\n",
              "      <td>47.2</td>\n",
              "      <td>0.0</td>\n",
              "      <td>46.3</td>\n",
              "      <td>0.0</td>\n",
              "      <td>46.5</td>\n",
              "      <td>0.0</td>\n",
              "      <td>47.4</td>\n",
              "      <td>0.0</td>\n",
              "      <td>48.7</td>\n",
              "      <td>0.0</td>\n",
              "      <td>47.6</td>\n",
              "      <td>0.0</td>\n",
              "      <td>49.3</td>\n",
              "      <td>48.7</td>\n",
              "      <td>50.9</td>\n",
              "      <td>51.2</td>\n",
              "      <td>50.9</td>\n",
              "      <td>49.9</td>\n",
              "      <td>51.2</td>\n",
              "      <td>50.6</td>\n",
              "      <td>50.5</td>\n",
              "      <td>48.7</td>\n",
              "      <td>49.0</td>\n",
              "      <td>47.7</td>\n",
              "      <td>47.6</td>\n",
              "      <td>47.0</td>\n",
              "      <td>47.9</td>\n",
              "      <td>47.4</td>\n",
              "      <td>48.9</td>\n",
              "      <td>48.3</td>\n",
              "      <td>46.0</td>\n",
              "      <td>46.8</td>\n",
              "      <td>46.2</td>\n",
              "      <td>45.7</td>\n",
              "      <td>45.9</td>\n",
              "      <td>46.5</td>\n",
              "      <td>44.7</td>\n",
              "      <td>41.6</td>\n",
              "      <td>42.6</td>\n",
              "      <td>41.0</td>\n",
              "      <td>40.9</td>\n",
              "      <td>41.9</td>\n",
              "      <td>41.4</td>\n",
              "      <td>42.1</td>\n",
              "      <td>39.9</td>\n",
              "      <td>39.7</td>\n",
              "      <td>42.3</td>\n",
              "      <td>40.6</td>\n",
              "      <td>41.2</td>\n",
              "      <td>43.9</td>\n",
              "      <td>41.4</td>\n",
              "    </tr>\n",
              "    <tr>\n",
              "      <th>1</th>\n",
              "      <td>Sector Informal</td>\n",
              "      <td>0.0</td>\n",
              "      <td>0.0</td>\n",
              "      <td>45.1</td>\n",
              "      <td>0.0</td>\n",
              "      <td>45.4</td>\n",
              "      <td>0.0</td>\n",
              "      <td>43.5</td>\n",
              "      <td>0.0</td>\n",
              "      <td>0.0</td>\n",
              "      <td>0.0</td>\n",
              "      <td>43.8</td>\n",
              "      <td>0.0</td>\n",
              "      <td>42.3</td>\n",
              "      <td>0.0</td>\n",
              "      <td>42.8</td>\n",
              "      <td>0.0</td>\n",
              "      <td>42.2</td>\n",
              "      <td>0.0</td>\n",
              "      <td>42.7</td>\n",
              "      <td>0.0</td>\n",
              "      <td>41.4</td>\n",
              "      <td>0.0</td>\n",
              "      <td>40.8</td>\n",
              "      <td>0.0</td>\n",
              "      <td>43.2</td>\n",
              "      <td>0.0</td>\n",
              "      <td>40.1</td>\n",
              "      <td>41.8</td>\n",
              "      <td>38.9</td>\n",
              "      <td>41.4</td>\n",
              "      <td>39.7</td>\n",
              "      <td>42.1</td>\n",
              "      <td>39.3</td>\n",
              "      <td>40.6</td>\n",
              "      <td>40.4</td>\n",
              "      <td>43.0</td>\n",
              "      <td>43.0</td>\n",
              "      <td>44.5</td>\n",
              "      <td>43.7</td>\n",
              "      <td>45.6</td>\n",
              "      <td>45.0</td>\n",
              "      <td>46.4</td>\n",
              "      <td>44.1</td>\n",
              "      <td>45.0</td>\n",
              "      <td>47.5</td>\n",
              "      <td>46.2</td>\n",
              "      <td>46.2</td>\n",
              "      <td>46.7</td>\n",
              "      <td>46.3</td>\n",
              "      <td>46.7</td>\n",
              "      <td>46.7</td>\n",
              "      <td>52.5</td>\n",
              "      <td>52.1</td>\n",
              "      <td>52.8</td>\n",
              "      <td>51.6</td>\n",
              "      <td>51.0</td>\n",
              "      <td>49.9</td>\n",
              "      <td>50.9</td>\n",
              "      <td>52.7</td>\n",
              "      <td>52.7</td>\n",
              "      <td>49.9</td>\n",
              "      <td>51.2</td>\n",
              "      <td>50.6</td>\n",
              "      <td>49.2</td>\n",
              "      <td>52.2</td>\n",
              "    </tr>\n",
              "    <tr>\n",
              "      <th>2</th>\n",
              "      <td>Empleo Doméstico</td>\n",
              "      <td>0.0</td>\n",
              "      <td>0.0</td>\n",
              "      <td>3.3</td>\n",
              "      <td>0.0</td>\n",
              "      <td>3.3</td>\n",
              "      <td>0.0</td>\n",
              "      <td>3.5</td>\n",
              "      <td>0.0</td>\n",
              "      <td>0.0</td>\n",
              "      <td>0.0</td>\n",
              "      <td>3.4</td>\n",
              "      <td>0.0</td>\n",
              "      <td>3.4</td>\n",
              "      <td>0.0</td>\n",
              "      <td>2.9</td>\n",
              "      <td>0.0</td>\n",
              "      <td>3.0</td>\n",
              "      <td>0.0</td>\n",
              "      <td>2.3</td>\n",
              "      <td>0.0</td>\n",
              "      <td>2.7</td>\n",
              "      <td>0.0</td>\n",
              "      <td>2.5</td>\n",
              "      <td>0.0</td>\n",
              "      <td>2.6</td>\n",
              "      <td>0.0</td>\n",
              "      <td>3.1</td>\n",
              "      <td>3.2</td>\n",
              "      <td>2.7</td>\n",
              "      <td>2.6</td>\n",
              "      <td>3.2</td>\n",
              "      <td>2.7</td>\n",
              "      <td>2.7</td>\n",
              "      <td>2.5</td>\n",
              "      <td>2.7</td>\n",
              "      <td>2.5</td>\n",
              "      <td>2.7</td>\n",
              "      <td>2.6</td>\n",
              "      <td>2.8</td>\n",
              "      <td>2.8</td>\n",
              "      <td>2.8</td>\n",
              "      <td>2.7</td>\n",
              "      <td>2.5</td>\n",
              "      <td>2.6</td>\n",
              "      <td>2.6</td>\n",
              "      <td>2.7</td>\n",
              "      <td>2.9</td>\n",
              "      <td>2.8</td>\n",
              "      <td>2.6</td>\n",
              "      <td>2.6</td>\n",
              "      <td>3.0</td>\n",
              "      <td>1.9</td>\n",
              "      <td>1.5</td>\n",
              "      <td>2.0</td>\n",
              "      <td>2.6</td>\n",
              "      <td>1.8</td>\n",
              "      <td>1.9</td>\n",
              "      <td>1.9</td>\n",
              "      <td>1.9</td>\n",
              "      <td>2.0</td>\n",
              "      <td>2.0</td>\n",
              "      <td>2.1</td>\n",
              "      <td>2.4</td>\n",
              "      <td>2.4</td>\n",
              "      <td>2.2</td>\n",
              "    </tr>\n",
              "    <tr>\n",
              "      <th>3</th>\n",
              "      <td>No Clasificados por Sector</td>\n",
              "      <td>0.0</td>\n",
              "      <td>0.0</td>\n",
              "      <td>10.6</td>\n",
              "      <td>0.0</td>\n",
              "      <td>8.8</td>\n",
              "      <td>0.0</td>\n",
              "      <td>9.2</td>\n",
              "      <td>0.0</td>\n",
              "      <td>0.0</td>\n",
              "      <td>0.0</td>\n",
              "      <td>9.1</td>\n",
              "      <td>0.0</td>\n",
              "      <td>9.3</td>\n",
              "      <td>0.0</td>\n",
              "      <td>7.1</td>\n",
              "      <td>0.0</td>\n",
              "      <td>8.4</td>\n",
              "      <td>0.0</td>\n",
              "      <td>8.4</td>\n",
              "      <td>0.0</td>\n",
              "      <td>8.5</td>\n",
              "      <td>0.0</td>\n",
              "      <td>8.0</td>\n",
              "      <td>0.0</td>\n",
              "      <td>6.6</td>\n",
              "      <td>0.0</td>\n",
              "      <td>7.5</td>\n",
              "      <td>6.3</td>\n",
              "      <td>7.4</td>\n",
              "      <td>4.9</td>\n",
              "      <td>6.2</td>\n",
              "      <td>5.3</td>\n",
              "      <td>6.8</td>\n",
              "      <td>6.3</td>\n",
              "      <td>6.5</td>\n",
              "      <td>5.8</td>\n",
              "      <td>5.3</td>\n",
              "      <td>5.3</td>\n",
              "      <td>6.0</td>\n",
              "      <td>4.5</td>\n",
              "      <td>4.3</td>\n",
              "      <td>3.4</td>\n",
              "      <td>4.5</td>\n",
              "      <td>4.1</td>\n",
              "      <td>3.9</td>\n",
              "      <td>4.3</td>\n",
              "      <td>4.8</td>\n",
              "      <td>4.8</td>\n",
              "      <td>5.2</td>\n",
              "      <td>4.3</td>\n",
              "      <td>5.6</td>\n",
              "      <td>4.0</td>\n",
              "      <td>3.8</td>\n",
              "      <td>4.2</td>\n",
              "      <td>4.9</td>\n",
              "      <td>5.4</td>\n",
              "      <td>6.8</td>\n",
              "      <td>5.1</td>\n",
              "      <td>5.5</td>\n",
              "      <td>5.6</td>\n",
              "      <td>5.8</td>\n",
              "      <td>6.2</td>\n",
              "      <td>5.8</td>\n",
              "      <td>4.5</td>\n",
              "      <td>4.2</td>\n",
              "    </tr>\n",
              "    <tr>\n",
              "      <th>4</th>\n",
              "      <td>Sector Formal</td>\n",
              "      <td>54.7</td>\n",
              "      <td>55.7</td>\n",
              "      <td>54.1</td>\n",
              "      <td>54.4</td>\n",
              "      <td>55.8</td>\n",
              "      <td>56.0</td>\n",
              "      <td>56.2</td>\n",
              "      <td>57.4</td>\n",
              "      <td>57.7</td>\n",
              "      <td>59.4</td>\n",
              "      <td>57.3</td>\n",
              "      <td>57.5</td>\n",
              "      <td>58.6</td>\n",
              "      <td>59.4</td>\n",
              "      <td>60.8</td>\n",
              "      <td>59.9</td>\n",
              "      <td>60.5</td>\n",
              "      <td>61.0</td>\n",
              "      <td>59.9</td>\n",
              "      <td>63.1</td>\n",
              "      <td>61.6</td>\n",
              "      <td>61.6</td>\n",
              "      <td>62.5</td>\n",
              "      <td>61.2</td>\n",
              "      <td>61.9</td>\n",
              "      <td>62.0</td>\n",
              "      <td>61.9</td>\n",
              "      <td>61.0</td>\n",
              "      <td>63.0</td>\n",
              "      <td>63.6</td>\n",
              "      <td>60.6</td>\n",
              "      <td>61.3</td>\n",
              "      <td>62.6</td>\n",
              "      <td>61.0</td>\n",
              "      <td>60.8</td>\n",
              "      <td>59.6</td>\n",
              "      <td>60.4</td>\n",
              "      <td>58.2</td>\n",
              "      <td>56.6</td>\n",
              "      <td>57.9</td>\n",
              "      <td>58.7</td>\n",
              "      <td>57.3</td>\n",
              "      <td>59.2</td>\n",
              "      <td>59.0</td>\n",
              "      <td>57.5</td>\n",
              "      <td>58.8</td>\n",
              "      <td>57.3</td>\n",
              "      <td>57.4</td>\n",
              "      <td>56.9</td>\n",
              "      <td>57.3</td>\n",
              "      <td>56.3</td>\n",
              "      <td>51.8</td>\n",
              "      <td>53.5</td>\n",
              "      <td>52.8</td>\n",
              "      <td>51.2</td>\n",
              "      <td>53.7</td>\n",
              "      <td>51.9</td>\n",
              "      <td>51.3</td>\n",
              "      <td>50.9</td>\n",
              "      <td>50.7</td>\n",
              "      <td>52.5</td>\n",
              "      <td>50.7</td>\n",
              "      <td>52.1</td>\n",
              "      <td>54.3</td>\n",
              "      <td>52.5</td>\n",
              "    </tr>\n",
              "  </tbody>\n",
              "</table>\n",
              "</div>"
            ],
            "text/plain": [
              "                       Sector  jun-07  sep-07  ...  ago-21  sep-21  oct-21\n",
              "0               Sector Formal     0.0     0.0  ...    41.2    43.9    41.4\n",
              "1             Sector Informal     0.0     0.0  ...    50.6    49.2    52.2\n",
              "2            Empleo Doméstico     0.0     0.0  ...     2.4     2.4     2.2\n",
              "3  No Clasificados por Sector     0.0     0.0  ...     5.8     4.5     4.2\n",
              "4               Sector Formal    54.7    55.7  ...    52.1    54.3    52.5\n",
              "\n",
              "[5 rows x 66 columns]"
            ]
          },
          "metadata": {},
          "execution_count": 259
        }
      ]
    },
    {
      "cell_type": "markdown",
      "metadata": {
        "id": "8AvB5I3MYxYF"
      },
      "source": [
        "\n",
        "3. Asignar los datos Nacional, Urbano y Rural\n",
        "\n"
      ]
    },
    {
      "cell_type": "code",
      "metadata": {
        "id": "tyGe4gTGXM5V"
      },
      "source": [
        "nacional=sectorizacion.iloc[0:4]\n",
        "urbano=sectorizacion.iloc[4:8]\n",
        "rural=sectorizacion.iloc[8:12]"
      ],
      "execution_count": 255,
      "outputs": []
    },
    {
      "cell_type": "markdown",
      "metadata": {
        "id": "lKhYWnFrsxP5"
      },
      "source": [
        "# Graficar los pies"
      ]
    },
    {
      "cell_type": "markdown",
      "metadata": {
        "id": "HabR6HHJRi0N"
      },
      "source": [
        "\n",
        "\n",
        "1.   Importar librerias necesarias\n",
        "\n"
      ]
    },
    {
      "cell_type": "code",
      "metadata": {
        "id": "4HdIKbPAQ2yF"
      },
      "source": [
        "#import librerias necesarias\n",
        "from ipywidgets import interact  \n",
        "from IPython.display import display\n",
        "import ipywidgets as widgets\n",
        "import plotly.graph_objects as go"
      ],
      "execution_count": 224,
      "outputs": []
    },
    {
      "cell_type": "markdown",
      "metadata": {
        "id": "_xnxAb-rUsNv"
      },
      "source": [
        "2. Obtener porcentajes de fecha seleccionada"
      ]
    },
    {
      "cell_type": "markdown",
      "metadata": {
        "id": "xKWVL97Cqllr"
      },
      "source": [
        "se crea una funcion la cual me devuelve la columna Sector y la fecha seleccionada pero cambiada el nombre a porcentajes por motivo de ilustracion"
      ]
    },
    {
      "cell_type": "code",
      "metadata": {
        "id": "OodgvK_bonmB"
      },
      "source": [
        "def formatear2(data, fecha):\n",
        "  res = data.rename({ fecha : 'Porcentajes' },axis=1, inplace=False)\n",
        "  return res[['Sector', 'Porcentajes']]"
      ],
      "execution_count": 383,
      "outputs": []
    },
    {
      "cell_type": "markdown",
      "metadata": {
        "id": "w7s7BK8wRpF1"
      },
      "source": [
        "\n",
        "\n",
        "3. Generar el pie\n",
        "\n"
      ]
    },
    {
      "cell_type": "code",
      "metadata": {
        "colab": {
          "base_uri": "https://localhost:8080/",
          "height": 904,
          "referenced_widgets": [
            "3a5fe79a806d4d4dbd87d61d3334fa4e",
            "20b94fe53f42438fa120d7b439788040",
            "08c3d5958c364ab69be6636155c92607",
            "4d8eb14777ec4154a38de737568875fc",
            "5d128dc885174cd091e803ccf7cacd96",
            "54f064a67bc34df2ae8b2326d49a65e4",
            "778af76b6a414960a0af5b206c7629c3",
            "dc4f889f9eb64559970b1f569ef636ee",
            "f520479d2e8e47158e1ee0d1ac977d27"
          ]
        },
        "id": "QvCzhA0cSES8",
        "outputId": "110dad89-98f8-4943-e4c9-f8bdb49555be"
      },
      "source": [
        "salida = widgets.Output()\n",
        "salida_plot = widgets.Output()\n",
        "ALL = 'ALL'\n",
        "dropdown_Periodo = widgets.Dropdown(options = fechasList, description = 'Fecha')\n",
        "\n",
        "#funcion filtrar df & plot\n",
        "\n",
        "def filtroPie(fecha,j):\n",
        "    salida.clear_output()\n",
        "    salida_plot.clear_output()\n",
        "    if fecha == ALL:\n",
        "      print('')\n",
        "    else:\n",
        "        dataNacional = formatear2(nacional, fecha)\n",
        "        dataUrbano = formatear2(urbano, fecha)\n",
        "        dataRural = formatear2(rural, fecha)\n",
        "        \n",
        "    with salida:\n",
        "        display(filtroPie)\n",
        "        \n",
        "    with salida_plot:\n",
        "        print('Sectorizacion')\n",
        "        plt.figure()\n",
        "        colores = ['cyan', 'yellow', 'limegreen','powderblue']\n",
        "        plt.pie(dataNacional['Porcentajes'], labels=dataNacional['Sector'], colors=colores, autopct='%.2f %%')\n",
        "        plt.title('Nacional'+' '+'Fecha'+' '+fecha)\n",
        "        \n",
        "        print('   ')\n",
        "        plt.figure()\n",
        "        plt.pie(dataUrbano['Porcentajes'], labels=dataUrbano['Sector'], colors=colores, autopct='%.2f %%')\n",
        "        plt.title('Urbano'+' '+'Fecha'+' '+fecha)\n",
        "\n",
        "        print('    ')\n",
        "        plt.figure()\n",
        "        plt.pie(dataRural['Porcentajes'], labels=dataRural['Sector'], colors=colores, autopct='%.2f %%')\n",
        "        plt.title('Rural'+' '+'Fecha'+' '+fecha)\n",
        "        plt.show()    \n",
        "def dropdown_Fecha_eventhandler (change):\n",
        "    filtroPie(change.new, dropdown_Periodo.value)\n",
        "dropdown_Periodo.observe(dropdown_Fecha_eventhandler, names ='value')\n",
        "tab  = widgets.Tab([salida_plot])\n",
        "tab.set_title(1,'Gráficos')\n",
        "dashboard = widgets.VBox([dropdown_Periodo,tab])\n",
        "display(dashboard);"
      ],
      "execution_count": 391,
      "outputs": [
        {
          "output_type": "display_data",
          "data": {
            "application/vnd.jupyter.widget-view+json": {
              "model_id": "3a5fe79a806d4d4dbd87d61d3334fa4e",
              "version_minor": 0,
              "version_major": 2
            },
            "text/plain": [
              "VBox(children=(Dropdown(description='Fecha', options=('jun-07', 'sep-07', 'dic-07', 'mar-08', 'jun-08', 'sep-0…"
            ]
          },
          "metadata": {}
        }
      ]
    },
    {
      "cell_type": "markdown",
      "metadata": {
        "id": "-oYbg2h_K6Bt"
      },
      "source": [
        "# Apreciacion\n",
        "En el año 2021 se puede observar que el sector informal abarca un 52% en las actividades económicas nacionales; sin embargo, al revisar la grafica del Sector Urbano se puede observar que este es dominante, con un 52.55% y el informal con un 40.24%. A pesar de que el sector formal en el area urbana es mayor, esta se ve afectada puesto que el comercio informal es mayor en el area rural, teniendo un 78.80% y el sector formal con un 20.40%.\n",
        "Comparando estos datos con los del 2020 se puede observar que el lo que va de 1 año, el empleo informal ha subido en un 1% a nivel nacional y a nivel rural en un 7.20% en tan solo un año.\n",
        "\n",
        "Al revisar datos de años anteriores podemos observar que este patron se repite, el sector informal es mayoría y en el año 2013 sorprendentemente este es menor, contando con un 40.10% y el sector formal con un impresionante 49.30%. "
      ]
    },
    {
      "cell_type": "markdown",
      "metadata": {
        "id": "aARM68eyCMXn"
      },
      "source": [
        "# Grafica de Barras"
      ]
    },
    {
      "cell_type": "code",
      "metadata": {
        "id": "N0Rj_I1Bx5pq"
      },
      "source": [
        "poblacionesClean = poblacionesClean.replace('.','', regex=True)"
      ],
      "execution_count": 400,
      "outputs": []
    },
    {
      "cell_type": "code",
      "metadata": {
        "id": "dN9yvsEBx-dC"
      },
      "source": [
        "poblacionesClean.head()"
      ],
      "execution_count": null,
      "outputs": []
    },
    {
      "cell_type": "code",
      "metadata": {
        "id": "B2Qm2jTLxKsT"
      },
      "source": [
        "poblacionesClean['Total'] = poblacionesClean['Total'].str.replace('.','').astype(int)"
      ],
      "execution_count": 406,
      "outputs": []
    },
    {
      "cell_type": "code",
      "metadata": {
        "id": "d8k0aj2Xzx_A"
      },
      "source": [
        "# Hacer un split de la fecha por mes y anio\n",
        "poblacionesClean[['Mes', 'Anio']] = poblacionesClean['Periodo'].str.split('-', expand=True)"
      ],
      "execution_count": 417,
      "outputs": []
    },
    {
      "cell_type": "code",
      "metadata": {
        "colab": {
          "base_uri": "https://localhost:8080/",
          "height": 206
        },
        "id": "HhssuNTez9MH",
        "outputId": "53a88bca-f12b-4f39-9c7c-f80dcefc13a7"
      },
      "source": [
        "poblacionesClean[['Anio','Indicadores','Total']].head()"
      ],
      "execution_count": 419,
      "outputs": [
        {
          "output_type": "execute_result",
          "data": {
            "text/html": [
              "<div>\n",
              "<style scoped>\n",
              "    .dataframe tbody tr th:only-of-type {\n",
              "        vertical-align: middle;\n",
              "    }\n",
              "\n",
              "    .dataframe tbody tr th {\n",
              "        vertical-align: top;\n",
              "    }\n",
              "\n",
              "    .dataframe thead th {\n",
              "        text-align: right;\n",
              "    }\n",
              "</style>\n",
              "<table border=\"1\" class=\"dataframe\">\n",
              "  <thead>\n",
              "    <tr style=\"text-align: right;\">\n",
              "      <th></th>\n",
              "      <th>Anio</th>\n",
              "      <th>Indicadores</th>\n",
              "      <th>Total</th>\n",
              "    </tr>\n",
              "  </thead>\n",
              "  <tbody>\n",
              "    <tr>\n",
              "      <th>0</th>\n",
              "      <td>07</td>\n",
              "      <td>Población Total</td>\n",
              "      <td>13682302</td>\n",
              "    </tr>\n",
              "    <tr>\n",
              "      <th>1</th>\n",
              "      <td>07</td>\n",
              "      <td>Población menor de 15 años</td>\n",
              "      <td>4372812</td>\n",
              "    </tr>\n",
              "    <tr>\n",
              "      <th>2</th>\n",
              "      <td>07</td>\n",
              "      <td>Población en Edad de Trabajar (PET)</td>\n",
              "      <td>9309490</td>\n",
              "    </tr>\n",
              "    <tr>\n",
              "      <th>3</th>\n",
              "      <td>07</td>\n",
              "      <td>Población Económicamente Activa</td>\n",
              "      <td>6336029</td>\n",
              "    </tr>\n",
              "    <tr>\n",
              "      <th>4</th>\n",
              "      <td>07</td>\n",
              "      <td>Empleo</td>\n",
              "      <td>6019332</td>\n",
              "    </tr>\n",
              "  </tbody>\n",
              "</table>\n",
              "</div>"
            ],
            "text/plain": [
              "  Anio                          Indicadores     Total\n",
              "0   07                      Población Total  13682302\n",
              "1   07           Población menor de 15 años   4372812\n",
              "2   07  Población en Edad de Trabajar (PET)   9309490\n",
              "3   07      Población Económicamente Activa   6336029\n",
              "4   07                               Empleo   6019332"
            ]
          },
          "metadata": {},
          "execution_count": 419
        }
      ]
    },
    {
      "cell_type": "code",
      "metadata": {
        "colab": {
          "base_uri": "https://localhost:8080/",
          "height": 206
        },
        "id": "z3rDm1CtCTaW",
        "outputId": "e81650b3-a583-491a-f560-cdd10dca2a34"
      },
      "source": [
        "# Ver todas las ocurrencias de 'Subempleo' en la columna de indicadores\n",
        "sEF = poblacionesClean.loc[poblacionesClean['Indicadores'] == 'Subempleo']\n",
        "sEF[['Anio','Indicadores', 'Total']].head()"
      ],
      "execution_count": 420,
      "outputs": [
        {
          "output_type": "execute_result",
          "data": {
            "text/html": [
              "<div>\n",
              "<style scoped>\n",
              "    .dataframe tbody tr th:only-of-type {\n",
              "        vertical-align: middle;\n",
              "    }\n",
              "\n",
              "    .dataframe tbody tr th {\n",
              "        vertical-align: top;\n",
              "    }\n",
              "\n",
              "    .dataframe thead th {\n",
              "        text-align: right;\n",
              "    }\n",
              "</style>\n",
              "<table border=\"1\" class=\"dataframe\">\n",
              "  <thead>\n",
              "    <tr style=\"text-align: right;\">\n",
              "      <th></th>\n",
              "      <th>Anio</th>\n",
              "      <th>Indicadores</th>\n",
              "      <th>Total</th>\n",
              "    </tr>\n",
              "  </thead>\n",
              "  <tbody>\n",
              "    <tr>\n",
              "      <th>6</th>\n",
              "      <td>07</td>\n",
              "      <td>Subempleo</td>\n",
              "      <td>1155872</td>\n",
              "    </tr>\n",
              "    <tr>\n",
              "      <th>24</th>\n",
              "      <td>08</td>\n",
              "      <td>Subempleo</td>\n",
              "      <td>1130699</td>\n",
              "    </tr>\n",
              "    <tr>\n",
              "      <th>42</th>\n",
              "      <td>08</td>\n",
              "      <td>Subempleo</td>\n",
              "      <td>957978</td>\n",
              "    </tr>\n",
              "    <tr>\n",
              "      <th>60</th>\n",
              "      <td>09</td>\n",
              "      <td>Subempleo</td>\n",
              "      <td>1071615</td>\n",
              "    </tr>\n",
              "    <tr>\n",
              "      <th>78</th>\n",
              "      <td>10</td>\n",
              "      <td>Subempleo</td>\n",
              "      <td>1041266</td>\n",
              "    </tr>\n",
              "  </tbody>\n",
              "</table>\n",
              "</div>"
            ],
            "text/plain": [
              "   Anio Indicadores    Total\n",
              "6    07   Subempleo  1155872\n",
              "24   08   Subempleo  1130699\n",
              "42   08   Subempleo   957978\n",
              "60   09   Subempleo  1071615\n",
              "78   10   Subempleo  1041266"
            ]
          },
          "metadata": {},
          "execution_count": 420
        }
      ]
    },
    {
      "cell_type": "code",
      "metadata": {
        "colab": {
          "base_uri": "https://localhost:8080/",
          "height": 206
        },
        "id": "NMV_C0rRD3YW",
        "outputId": "105a08bb-1735-4416-ffca-ea760dfa1ada"
      },
      "source": [
        "# Ver todas las ocurrencias de 'Adecuado' en la columna de indicadores\n",
        "emPleno = poblacionesClean.loc[poblacionesClean['Indicadores'] == 'Empleo Adecuado/Pleno']\n",
        "emPleno[['Anio','Indicadores', 'Total']].head()\n"
      ],
      "execution_count": 421,
      "outputs": [
        {
          "output_type": "execute_result",
          "data": {
            "text/html": [
              "<div>\n",
              "<style scoped>\n",
              "    .dataframe tbody tr th:only-of-type {\n",
              "        vertical-align: middle;\n",
              "    }\n",
              "\n",
              "    .dataframe tbody tr th {\n",
              "        vertical-align: top;\n",
              "    }\n",
              "\n",
              "    .dataframe thead th {\n",
              "        text-align: right;\n",
              "    }\n",
              "</style>\n",
              "<table border=\"1\" class=\"dataframe\">\n",
              "  <thead>\n",
              "    <tr style=\"text-align: right;\">\n",
              "      <th></th>\n",
              "      <th>Anio</th>\n",
              "      <th>Indicadores</th>\n",
              "      <th>Total</th>\n",
              "    </tr>\n",
              "  </thead>\n",
              "  <tbody>\n",
              "    <tr>\n",
              "      <th>5</th>\n",
              "      <td>07</td>\n",
              "      <td>Empleo Adecuado/Pleno</td>\n",
              "      <td>2737158</td>\n",
              "    </tr>\n",
              "    <tr>\n",
              "      <th>23</th>\n",
              "      <td>08</td>\n",
              "      <td>Empleo Adecuado/Pleno</td>\n",
              "      <td>2750595</td>\n",
              "    </tr>\n",
              "    <tr>\n",
              "      <th>41</th>\n",
              "      <td>08</td>\n",
              "      <td>Empleo Adecuado/Pleno</td>\n",
              "      <td>2858659</td>\n",
              "    </tr>\n",
              "    <tr>\n",
              "      <th>59</th>\n",
              "      <td>09</td>\n",
              "      <td>Empleo Adecuado/Pleno</td>\n",
              "      <td>2565691</td>\n",
              "    </tr>\n",
              "    <tr>\n",
              "      <th>77</th>\n",
              "      <td>10</td>\n",
              "      <td>Empleo Adecuado/Pleno</td>\n",
              "      <td>2715542</td>\n",
              "    </tr>\n",
              "  </tbody>\n",
              "</table>\n",
              "</div>"
            ],
            "text/plain": [
              "   Anio            Indicadores    Total\n",
              "5    07  Empleo Adecuado/Pleno  2737158\n",
              "23   08  Empleo Adecuado/Pleno  2750595\n",
              "41   08  Empleo Adecuado/Pleno  2858659\n",
              "59   09  Empleo Adecuado/Pleno  2565691\n",
              "77   10  Empleo Adecuado/Pleno  2715542"
            ]
          },
          "metadata": {},
          "execution_count": 421
        }
      ]
    },
    {
      "cell_type": "code",
      "metadata": {
        "colab": {
          "base_uri": "https://localhost:8080/",
          "height": 206
        },
        "id": "oY7odwK5KqQx",
        "outputId": "52e631e3-6695-4651-f936-624d970dcbc8"
      },
      "source": [
        "# Ver todas las ocurrencias de 'No pleno' en la columna de indicadores\n",
        "noPleno = poblacionesClean.loc[poblacionesClean['Indicadores'] == 'Otro Empleo no pleno']\n",
        "noPleno[['Anio','Indicadores', 'Total']].tail()"
      ],
      "execution_count": 425,
      "outputs": [
        {
          "output_type": "execute_result",
          "data": {
            "text/html": [
              "<div>\n",
              "<style scoped>\n",
              "    .dataframe tbody tr th:only-of-type {\n",
              "        vertical-align: middle;\n",
              "    }\n",
              "\n",
              "    .dataframe tbody tr th {\n",
              "        vertical-align: top;\n",
              "    }\n",
              "\n",
              "    .dataframe thead th {\n",
              "        text-align: right;\n",
              "    }\n",
              "</style>\n",
              "<table border=\"1\" class=\"dataframe\">\n",
              "  <thead>\n",
              "    <tr style=\"text-align: right;\">\n",
              "      <th></th>\n",
              "      <th>Anio</th>\n",
              "      <th>Indicadores</th>\n",
              "      <th>Total</th>\n",
              "    </tr>\n",
              "  </thead>\n",
              "  <tbody>\n",
              "    <tr>\n",
              "      <th>820</th>\n",
              "      <td>21</td>\n",
              "      <td>Otro Empleo no pleno</td>\n",
              "      <td>2254112</td>\n",
              "    </tr>\n",
              "    <tr>\n",
              "      <th>838</th>\n",
              "      <td>21</td>\n",
              "      <td>Otro Empleo no pleno</td>\n",
              "      <td>2204818</td>\n",
              "    </tr>\n",
              "    <tr>\n",
              "      <th>856</th>\n",
              "      <td>21</td>\n",
              "      <td>Otro Empleo no pleno</td>\n",
              "      <td>2451125</td>\n",
              "    </tr>\n",
              "    <tr>\n",
              "      <th>874</th>\n",
              "      <td>21</td>\n",
              "      <td>Otro Empleo no pleno</td>\n",
              "      <td>2340071</td>\n",
              "    </tr>\n",
              "    <tr>\n",
              "      <th>892</th>\n",
              "      <td>21</td>\n",
              "      <td>Otro Empleo no pleno</td>\n",
              "      <td>2325638</td>\n",
              "    </tr>\n",
              "  </tbody>\n",
              "</table>\n",
              "</div>"
            ],
            "text/plain": [
              "    Anio           Indicadores    Total\n",
              "820   21  Otro Empleo no pleno  2254112\n",
              "838   21  Otro Empleo no pleno  2204818\n",
              "856   21  Otro Empleo no pleno  2451125\n",
              "874   21  Otro Empleo no pleno  2340071\n",
              "892   21  Otro Empleo no pleno  2325638"
            ]
          },
          "metadata": {},
          "execution_count": 425
        }
      ]
    },
    {
      "cell_type": "code",
      "metadata": {
        "id": "KNgfz2lNFDF1"
      },
      "source": [
        "#Subempleo\n",
        "#Seleccionar los datos importantes\n",
        "subEmpDF = sEF[['Anio', 'Total']]\n",
        "#Cambiar el nombre de las columnas\n",
        "subEmpDF.rename(columns = {\n",
        "   'Total': 'Subempleo'}, inplace = True)"
      ],
      "execution_count": null,
      "outputs": []
    },
    {
      "cell_type": "code",
      "metadata": {
        "id": "C7BC5aWPGfls"
      },
      "source": [
        "#EmpleoAdecuado\n",
        "#Seleccionar los datos importantes\n",
        "empAdeDF = emPleno [['Anio', 'Total']]\n",
        "#Cambiar el nombre de las columnas\n",
        "empAdeDF.rename(columns = {\n",
        "'Total': 'Adecuado'}, inplace = True)"
      ],
      "execution_count": null,
      "outputs": []
    },
    {
      "cell_type": "code",
      "metadata": {
        "id": "zS8JugEpK694"
      },
      "source": [
        "#Subempleo\n",
        "#Seleccionar los datos importantes\n",
        "noPlenoDF = noPleno[['Anio', 'Total']]\n",
        "#Cambiar el nombre de las columnas\n",
        "noPlenoDF.rename(columns = {\n",
        "'Total': 'No_pleno'}, inplace = True)"
      ],
      "execution_count": null,
      "outputs": []
    },
    {
      "cell_type": "code",
      "metadata": {
        "colab": {
          "base_uri": "https://localhost:8080/",
          "height": 206
        },
        "id": "qbTGeIpvHfsM",
        "outputId": "f01247b8-549e-4b67-e3a7-ede891e23ade"
      },
      "source": [
        "finalMerge = pd.merge(subEmpDF, empAdeDF, on=['Anio'])\n",
        "finalMerge.head()"
      ],
      "execution_count": 511,
      "outputs": [
        {
          "output_type": "execute_result",
          "data": {
            "text/html": [
              "<div>\n",
              "<style scoped>\n",
              "    .dataframe tbody tr th:only-of-type {\n",
              "        vertical-align: middle;\n",
              "    }\n",
              "\n",
              "    .dataframe tbody tr th {\n",
              "        vertical-align: top;\n",
              "    }\n",
              "\n",
              "    .dataframe thead th {\n",
              "        text-align: right;\n",
              "    }\n",
              "</style>\n",
              "<table border=\"1\" class=\"dataframe\">\n",
              "  <thead>\n",
              "    <tr style=\"text-align: right;\">\n",
              "      <th></th>\n",
              "      <th>Anio</th>\n",
              "      <th>Subempleo</th>\n",
              "      <th>Adecuado</th>\n",
              "    </tr>\n",
              "  </thead>\n",
              "  <tbody>\n",
              "    <tr>\n",
              "      <th>0</th>\n",
              "      <td>07</td>\n",
              "      <td>1155872</td>\n",
              "      <td>2737158</td>\n",
              "    </tr>\n",
              "    <tr>\n",
              "      <th>1</th>\n",
              "      <td>08</td>\n",
              "      <td>1130699</td>\n",
              "      <td>2750595</td>\n",
              "    </tr>\n",
              "    <tr>\n",
              "      <th>2</th>\n",
              "      <td>08</td>\n",
              "      <td>1130699</td>\n",
              "      <td>2858659</td>\n",
              "    </tr>\n",
              "    <tr>\n",
              "      <th>3</th>\n",
              "      <td>08</td>\n",
              "      <td>957978</td>\n",
              "      <td>2750595</td>\n",
              "    </tr>\n",
              "    <tr>\n",
              "      <th>4</th>\n",
              "      <td>08</td>\n",
              "      <td>957978</td>\n",
              "      <td>2858659</td>\n",
              "    </tr>\n",
              "  </tbody>\n",
              "</table>\n",
              "</div>"
            ],
            "text/plain": [
              "  Anio  Subempleo  Adecuado\n",
              "0   07    1155872   2737158\n",
              "1   08    1130699   2750595\n",
              "2   08    1130699   2858659\n",
              "3   08     957978   2750595\n",
              "4   08     957978   2858659"
            ]
          },
          "metadata": {},
          "execution_count": 511
        }
      ]
    },
    {
      "cell_type": "code",
      "metadata": {
        "colab": {
          "base_uri": "https://localhost:8080/",
          "height": 206
        },
        "id": "10GuawVNLeRg",
        "outputId": "2fca8825-043d-495c-f057-a29e2b79a053"
      },
      "source": [
        "fMerge = pd.merge(finalMerge, noPlenoDF, on=['Anio'])\n",
        "fMerge.head()"
      ],
      "execution_count": 512,
      "outputs": [
        {
          "output_type": "execute_result",
          "data": {
            "text/html": [
              "<div>\n",
              "<style scoped>\n",
              "    .dataframe tbody tr th:only-of-type {\n",
              "        vertical-align: middle;\n",
              "    }\n",
              "\n",
              "    .dataframe tbody tr th {\n",
              "        vertical-align: top;\n",
              "    }\n",
              "\n",
              "    .dataframe thead th {\n",
              "        text-align: right;\n",
              "    }\n",
              "</style>\n",
              "<table border=\"1\" class=\"dataframe\">\n",
              "  <thead>\n",
              "    <tr style=\"text-align: right;\">\n",
              "      <th></th>\n",
              "      <th>Anio</th>\n",
              "      <th>Subempleo</th>\n",
              "      <th>Adecuado</th>\n",
              "      <th>No_pleno</th>\n",
              "    </tr>\n",
              "  </thead>\n",
              "  <tbody>\n",
              "    <tr>\n",
              "      <th>0</th>\n",
              "      <td>07</td>\n",
              "      <td>1155872</td>\n",
              "      <td>2737158</td>\n",
              "      <td>1504000</td>\n",
              "    </tr>\n",
              "    <tr>\n",
              "      <th>1</th>\n",
              "      <td>08</td>\n",
              "      <td>1130699</td>\n",
              "      <td>2750595</td>\n",
              "      <td>1688693</td>\n",
              "    </tr>\n",
              "    <tr>\n",
              "      <th>2</th>\n",
              "      <td>08</td>\n",
              "      <td>1130699</td>\n",
              "      <td>2750595</td>\n",
              "      <td>1649349</td>\n",
              "    </tr>\n",
              "    <tr>\n",
              "      <th>3</th>\n",
              "      <td>08</td>\n",
              "      <td>1130699</td>\n",
              "      <td>2858659</td>\n",
              "      <td>1688693</td>\n",
              "    </tr>\n",
              "    <tr>\n",
              "      <th>4</th>\n",
              "      <td>08</td>\n",
              "      <td>1130699</td>\n",
              "      <td>2858659</td>\n",
              "      <td>1649349</td>\n",
              "    </tr>\n",
              "  </tbody>\n",
              "</table>\n",
              "</div>"
            ],
            "text/plain": [
              "  Anio  Subempleo  Adecuado  No_pleno\n",
              "0   07    1155872   2737158   1504000\n",
              "1   08    1130699   2750595   1688693\n",
              "2   08    1130699   2750595   1649349\n",
              "3   08    1130699   2858659   1688693\n",
              "4   08    1130699   2858659   1649349"
            ]
          },
          "metadata": {},
          "execution_count": 512
        }
      ]
    },
    {
      "cell_type": "code",
      "metadata": {
        "colab": {
          "base_uri": "https://localhost:8080/",
          "height": 621
        },
        "id": "wzoEXYePHvpC",
        "outputId": "9db80434-87de-4b83-9e17-6d04f4a1611c"
      },
      "source": [
        "plt.figure(figsize=(16, 10))\n",
        "plt.title('Subempleo, Empleo Adecuado - Ecuador')\n",
        "\n",
        "\n",
        "plt.bar(fMerge.Anio, fMerge.Adecuado)\n",
        "plt.bar(fMerge.Anio, fMerge.No_pleno)\n",
        "plt.bar(fMerge.Anio, fMerge.Subempleo)\n",
        "plt.xticks(fMerge.Anio[::3].tolist())\n",
        "plt.xlabel('Anio')\n",
        "plt.ylabel('Total')\n",
        "plt.legend(['Subempleo','Adecuado', 'No Adecuado'])\n",
        "plt.show()"
      ],
      "execution_count": 438,
      "outputs": [
        {
          "output_type": "display_data",
          "data": {
            "image/png": "[encoded data removed]",
            "text/plain": [
              "<Figure size 1152x720 with 1 Axes>"
            ]
          },
          "metadata": {
            "needs_background": "light"
          }
        }
      ]
    },
    {
      "cell_type": "markdown",
      "metadata": {
        "id": "mFoshfccwbOG"
      },
      "source": [
        "# Histograma parametrizado"
      ]
    },
    {
      "cell_type": "markdown",
      "metadata": {
        "id": "khnsl1drNPFk"
      },
      "source": [
        "1. Transformar los datos del año a tipo int"
      ]
    },
    {
      "cell_type": "code",
      "metadata": {
        "id": "ZJNRUSkg4CF3"
      },
      "source": [
        "final = fMerge\n",
        "final['Anio'] =  fMerge['Anio'].astype(int)"
      ],
      "execution_count": 513,
      "outputs": []
    },
    {
      "cell_type": "code",
      "metadata": {
        "id": "AO3uhwQ0-qIn"
      },
      "source": [
        "subEmpDF['Anio'] = subEmpDF['Anio'].astype(int)\n",
        "empAdeDF['Anio'] = empAdeDF['Anio'].astype(int)\n",
        "noPlenoDF['Anio'] = noPlenoDF['Anio'].astype(int)"
      ],
      "execution_count": null,
      "outputs": []
    },
    {
      "cell_type": "markdown",
      "metadata": {
        "id": "qQWM8dNHNVL7"
      },
      "source": [
        "2. Funcion para obtener el rango de años entre 2 entradas de fechas"
      ]
    },
    {
      "cell_type": "code",
      "metadata": {
        "id": "E57uMxYn4-qr"
      },
      "source": [
        "def generar(ini, fin):\n",
        "  ns =[]\n",
        "  if(fin<ini):\n",
        "    ns = list(range(fin, ini+1))\n",
        "  else:\n",
        "    ns = list(range(ini, fin+1))\n",
        "  return ns"
      ],
      "execution_count": 496,
      "outputs": []
    },
    {
      "cell_type": "markdown",
      "metadata": {
        "id": "znJJiSAxNa3a"
      },
      "source": [
        "3. Funcion para devolver los datos que se encuentran en el rango de años ingresado"
      ]
    },
    {
      "cell_type": "code",
      "metadata": {
        "id": "rpiqI-1iL_iX"
      },
      "source": [
        "def filtrarPorAnio(data, inicio, fin):\n",
        "  ns=[]\n",
        "  ns = generar(inicio, fin)\n",
        "  res = data[data['Anio'].isin(ns)]\n",
        "  return res"
      ],
      "execution_count": 516,
      "outputs": []
    },
    {
      "cell_type": "code",
      "metadata": {
        "colab": {
          "base_uri": "https://localhost:8080/",
          "height": 363
        },
        "id": "cr4goDbS3FqG",
        "outputId": "f26485b0-eb7c-4f43-edf0-4bc17ea7fed5"
      },
      "source": [
        "aa = filtrarPorAnio(final, 21, 21)\n",
        "aa.head(10)"
      ],
      "execution_count": 542,
      "outputs": [
        {
          "output_type": "execute_result",
          "data": {
            "text/html": [
              "<div>\n",
              "<style scoped>\n",
              "    .dataframe tbody tr th:only-of-type {\n",
              "        vertical-align: middle;\n",
              "    }\n",
              "\n",
              "    .dataframe tbody tr th {\n",
              "        vertical-align: top;\n",
              "    }\n",
              "\n",
              "    .dataframe thead th {\n",
              "        text-align: right;\n",
              "    }\n",
              "</style>\n",
              "<table border=\"1\" class=\"dataframe\">\n",
              "  <thead>\n",
              "    <tr style=\"text-align: right;\">\n",
              "      <th></th>\n",
              "      <th>Anio</th>\n",
              "      <th>Subempleo</th>\n",
              "      <th>Adecuado</th>\n",
              "      <th>No_pleno</th>\n",
              "    </tr>\n",
              "  </thead>\n",
              "  <tbody>\n",
              "    <tr>\n",
              "      <th>490</th>\n",
              "      <td>21</td>\n",
              "      <td>1880451</td>\n",
              "      <td>2671030</td>\n",
              "      <td>2193853</td>\n",
              "    </tr>\n",
              "    <tr>\n",
              "      <th>491</th>\n",
              "      <td>21</td>\n",
              "      <td>1880451</td>\n",
              "      <td>2671030</td>\n",
              "      <td>2207163</td>\n",
              "    </tr>\n",
              "    <tr>\n",
              "      <th>492</th>\n",
              "      <td>21</td>\n",
              "      <td>1880451</td>\n",
              "      <td>2671030</td>\n",
              "      <td>2190745</td>\n",
              "    </tr>\n",
              "    <tr>\n",
              "      <th>493</th>\n",
              "      <td>21</td>\n",
              "      <td>1880451</td>\n",
              "      <td>2671030</td>\n",
              "      <td>2243726</td>\n",
              "    </tr>\n",
              "    <tr>\n",
              "      <th>494</th>\n",
              "      <td>21</td>\n",
              "      <td>1880451</td>\n",
              "      <td>2671030</td>\n",
              "      <td>2248648</td>\n",
              "    </tr>\n",
              "    <tr>\n",
              "      <th>495</th>\n",
              "      <td>21</td>\n",
              "      <td>1880451</td>\n",
              "      <td>2671030</td>\n",
              "      <td>2254112</td>\n",
              "    </tr>\n",
              "    <tr>\n",
              "      <th>496</th>\n",
              "      <td>21</td>\n",
              "      <td>1880451</td>\n",
              "      <td>2671030</td>\n",
              "      <td>2204818</td>\n",
              "    </tr>\n",
              "    <tr>\n",
              "      <th>497</th>\n",
              "      <td>21</td>\n",
              "      <td>1880451</td>\n",
              "      <td>2671030</td>\n",
              "      <td>2451125</td>\n",
              "    </tr>\n",
              "    <tr>\n",
              "      <th>498</th>\n",
              "      <td>21</td>\n",
              "      <td>1880451</td>\n",
              "      <td>2671030</td>\n",
              "      <td>2340071</td>\n",
              "    </tr>\n",
              "    <tr>\n",
              "      <th>499</th>\n",
              "      <td>21</td>\n",
              "      <td>1880451</td>\n",
              "      <td>2671030</td>\n",
              "      <td>2325638</td>\n",
              "    </tr>\n",
              "  </tbody>\n",
              "</table>\n",
              "</div>"
            ],
            "text/plain": [
              "     Anio  Subempleo  Adecuado  No_pleno\n",
              "490    21    1880451   2671030   2193853\n",
              "491    21    1880451   2671030   2207163\n",
              "492    21    1880451   2671030   2190745\n",
              "493    21    1880451   2671030   2243726\n",
              "494    21    1880451   2671030   2248648\n",
              "495    21    1880451   2671030   2254112\n",
              "496    21    1880451   2671030   2204818\n",
              "497    21    1880451   2671030   2451125\n",
              "498    21    1880451   2671030   2340071\n",
              "499    21    1880451   2671030   2325638"
            ]
          },
          "metadata": {},
          "execution_count": 542
        }
      ]
    },
    {
      "cell_type": "markdown",
      "metadata": {
        "id": "vQb7jNJCNiLS"
      },
      "source": [
        "4. Lista de años disponibles"
      ]
    },
    {
      "cell_type": "code",
      "metadata": {
        "colab": {
          "base_uri": "https://localhost:8080/",
          "height": 0
        },
        "id": "budvXT8z2i60",
        "outputId": "287a3e0f-a5e0-4e53-e0f4-f410dd8c1687"
      },
      "source": [
        "aniosList=[]\n",
        "aniosList=generar(7,21)\n",
        "print(aniosList)"
      ],
      "execution_count": 522,
      "outputs": [
        {
          "output_type": "stream",
          "name": "stdout",
          "text": [
            "[7, 8, 9, 10, 11, 12, 13, 14, 15, 16, 17, 18, 19, 20, 21]\n"
          ]
        }
      ]
    },
    {
      "cell_type": "markdown",
      "metadata": {
        "id": "S7SWZWey9ukX"
      },
      "source": [
        "5. Graficar con parametros"
      ]
    },
    {
      "cell_type": "code",
      "metadata": {
        "colab": {
          "base_uri": "https://localhost:8080/",
          "height": 644,
          "referenced_widgets": [
            "338a30e5788b4e6b97d139f003ee59ad",
            "07664b8963314e48bde30dfc608f9e9d",
            "baa4d32edd3f47fbb9e203b768cb8073",
            "7118ec7a69114bac891a31ea3a323035",
            "c24455fec3b04c0898477ce856708c1f",
            "729b63b4f1c04ba5babcc93ad86d8f99",
            "c4fcbca9753a42df958814fc5ce4fd86",
            "bc0ad9f0f41a4dd181000d78842f436a",
            "0ac4d917333a4bb294fd70193e40e3a0",
            "6e50e4d2fc63408f8c84eee49b39054c",
            "2dbc8ad71c4c4f33a7209a2c65e0c742",
            "225554e42a6f4a24b850f9d46be13aa4"
          ]
        },
        "id": "DSo8c6r99xyO",
        "outputId": "aac4b253-13c5-4d5d-cbd8-002441524ddf"
      },
      "source": [
        "output = widgets.Output()\n",
        "outout_plot = widgets.Output()\n",
        "ALL = 'ALL'\n",
        "\n",
        "#creo desplegable\n",
        "\n",
        "dropdown_anioInicio = widgets.Dropdown(options = aniosList, description = 'Anio Inicio')\n",
        "dropdown_anioFin = widgets.Dropdown(options = aniosList, description = 'Anio Fin')\n",
        "\n",
        "#funcion filtrar df & plot\n",
        "\n",
        "def filtroHistA (inicio, fin):\n",
        "    output.clear_output()\n",
        "    outout_plot.clear_output()\n",
        "    \n",
        "\n",
        "    if (inicio == ALL) & (fin == ALL):\n",
        "        filtro = final\n",
        "    else:\n",
        "        glData = filtrarPorAnio(final, inicio, fin)\n",
        "        subempleoData = filtrarPorAnio(subEmpDF, inicio,fin)\n",
        "        adecuadoData = filtrarPorAnio(empAdeDF, inicio,fin)\n",
        "        noAdecuadoData = filtrarPorAnio(noPlenoDF, inicio,fin)\n",
        "        \n",
        "    with output:\n",
        "        display(filtroHistA)\n",
        "        \n",
        "    with outout_plot:\n",
        "      barWidth = 0.3\n",
        "      fig = plt.subplots(figsize =(18, 8))\n",
        "\n",
        "      IT = np.array(subempleoData[\"Subempleo\"])\n",
        "      ECE = np.array(adecuadoData[\"Adecuado\"])\n",
        "      CSE = np.array(noAdecuadoData[\"No_pleno\"])\n",
        "      \n",
        "      ba1 = np.arange(len(IT))\n",
        "      ba2 = [x + barWidth for x in ba1]\n",
        "      ba3 = [x + barWidth for x in ba2]\n",
        "      plt.bar(ba1, IT, color ='cyan', width = barWidth,\n",
        "              edgecolor ='black', label ='Subempleo')\n",
        "      plt.bar(ba2, ECE, color ='powderblue', width = barWidth,\n",
        "              edgecolor ='black', label ='Empleo Pleno')\n",
        "      plt.bar(ba3, CSE, color ='yellow', width = barWidth,\n",
        "              edgecolor ='black', label ='Empleo No pleno')\n",
        "      plt.xlabel('Anio', fontweight ='bold', fontsize = 15)\n",
        "      plt.ylabel('Datos poblaciones en millones', fontweight ='bold', fontsize = 15)\n",
        "      plt.title('Subempleo, Empleo pleno y empleo no pleno')\n",
        "      plt.xticks([r + barWidth for r in range(len(IT))],\n",
        "              np.array(glData[\"Anio\"]))\n",
        "      plt.legend()\n",
        "      plt.show()       \n",
        "def dropdown_inicio_eventhandler (change):\n",
        "    filtroHistA( dropdown_anioInicio.value, change.new)  \n",
        "def dropdown_fin_eventhander(change):\n",
        "    filtroHistA(change.new,dropdown_anioFin.value)\n",
        "dropdown_anioFin.observe(dropdown_inicio_eventhandler, names ='value')\n",
        "dropdown_anioInicio.observe (dropdown_fin_eventhander, names = 'value')\n",
        "tab  = widgets.Tab([outout_plot])\n",
        "tab.set_title(1,'Gráficos')\n",
        "dashboard = widgets.VBox([dropdown_anioInicio,dropdown_anioFin, tab])\n",
        "display(dashboard);"
      ],
      "execution_count": 543,
      "outputs": [
        {
          "output_type": "display_data",
          "data": {
            "application/vnd.jupyter.widget-view+json": {
              "model_id": "338a30e5788b4e6b97d139f003ee59ad",
              "version_minor": 0,
              "version_major": 2
            },
            "text/plain": [
              "VBox(children=(Dropdown(description='Anio Inicio', options=(7, 8, 9, 10, 11, 12, 13, 14, 15, 16, 17, 18, 19, 2…"
            ]
          },
          "metadata": {}
        }
      ]
    },
    {
      "cell_type": "markdown",
      "metadata": {
        "id": "6VuVAmAoNrZD"
      },
      "source": [
        "# Apreciación\n",
        "Se puede observar que el Empleo pleno tiene una tendencia a ser mayor, mientras que el empleo no pleno esta en segunda posicion en cuanto a poblacion en millones y el subempleo esta en al último. Sin embargo en el 2020 se puede observar que estos en el segundo cuarto del 2020 estan casi igualados, esto se puede deber a que a partir de Marzo del 2020 la pandemia empezo y se dio un cese a una gran cantidad de actividades comerciales, asi también como el giro a los trabajos remotos debido a la necesidad del distanciamiento social. En el 2021 se puede observar una brecha mayor en cuanto al empleo pleno y una estabilizacion en cuanto al subempleo y empleo no pleno."
      ]
    },
    {
      "cell_type": "markdown",
      "metadata": {
        "id": "UhvsbhnrF0J0"
      },
      "source": [
        "# Conclusiones\n",
        "Es importante realizar una buena limpieza de datos, tomando en cuanta el no eliminar o descartar datos que no contengan información, es mejor reemplazarlos estos por ceros o valores apropiados para el caso de estudio. Pandas es una herramienta bastante util para la ciencia de datos y en conjunto con la librería MatPlotLib nos permite realizar gráficas de alto valor para transmitir los datos analisados y transformarlos en conocimiento. "
      ]
    }
  ]
}