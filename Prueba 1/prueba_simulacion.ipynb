{
  "nbformat": 4,
  "nbformat_minor": 0,
  "metadata": {
    "colab": {
      "name": "prueba_simulacion.ipynb",
      "provenance": [],
      "collapsed_sections": []
    },
    "kernelspec": {
      "name": "python3",
      "display_name": "Python 3"
    },
    "language_info": {
      "name": "python"
    }
  },
  "cells": [
    {
      "cell_type": "code",
      "metadata": {
        "id": "8DlBF89_5C4c"
      },
      "source": [
        "import pandas as pd\n",
        "import numpy as np\n",
        "from datetime import datetime\n",
        "from matplotlib import pyplot as plt\n",
        "import matplotlib.patches as mpatches\n",
        "from datetime import datetime,timedelta\n",
        "from sklearn.model_selection import train_test_split as tts\n",
        "from sklearn.linear_model import LinearRegression\n",
        "from datetime import datetime\n",
        "from datetime import timedelta"
      ],
      "execution_count": 97,
      "outputs": []
    },
    {
      "cell_type": "markdown",
      "metadata": {
        "id": "siXjVYD5MTdE"
      },
      "source": [
        "# Cargar los datasets"
      ]
    },
    {
      "cell_type": "code",
      "metadata": {
        "id": "JqWOhawP56rW"
      },
      "source": [
        "poblaciones = pd.read_csv('/content/1.Poblaciones.csv', sep = ';', encoding='latin1', skiprows = 2)\n",
        "sectorizacion_empleo = pd.read_csv('/content/4. Sectorización del empleo.csv', sep = ';',encoding='latin1', skiprows = 1)"
      ],
      "execution_count": 582,
      "outputs": []
    },
    {
      "cell_type": "markdown",
      "metadata": {
        "id": "z-yZxO-RL22E"
      },
      "source": [
        "# Proceso de limpieza del Dataset de Empleo y Desempleo\n",
        "Se eliminan las columnas sin valores"
      ]
    },
    {
      "cell_type": "code",
      "metadata": {
        "id": "jDSaaFTFA_dQ"
      },
      "source": [
        "#Limpieza\n",
        "poblacionesClean = poblaciones.drop(poblaciones.columns[[8, 9, 10, 11, 12, 13, 14, 15, 16, 17, 18]], axis=1)\n",
        "poblacionesClean.rename(columns = {\n",
        "   'Unnamed: 0': 'Encuesta', 'Unnamed: 1': 'Periodo', 'Unnamed: 2': 'Indicadores'\n",
        "}, inplace = True)\n"
      ],
      "execution_count": 583,
      "outputs": []
    },
    {
      "cell_type": "code",
      "metadata": {
        "colab": {
          "base_uri": "https://localhost:8080/"
        },
        "id": "Hga3Ezr_8rL5",
        "outputId": "1335dce4-232e-4cd5-e5d6-698f0e19adfe"
      },
      "source": [
        "#Verificar que se asignaron bien los nombres de las columnas\n",
        "for col in poblacionesClean.columns:\n",
        "  print(col)"
      ],
      "execution_count": 587,
      "outputs": [
        {
          "output_type": "stream",
          "name": "stdout",
          "text": [
            "Encuesta\n",
            "Periodo\n",
            "Indicadores\n",
            "Total\n",
            "Urbana\n",
            "Rural\n",
            "Hombre\n",
            "Mujer\n"
          ]
        }
      ]
    },
    {
      "cell_type": "markdown",
      "metadata": {
        "id": "ZTtb7P-LMB8b"
      },
      "source": [
        "## Asignar las ocurrencas de 'Empleo' y 'Desempleo'"
      ]
    },
    {
      "cell_type": "code",
      "metadata": {
        "id": "OTeh5oM29R9g",
        "colab": {
          "base_uri": "https://localhost:8080/",
          "height": 206
        },
        "outputId": "07c1f047-8fbe-41c5-b6be-728403743dc3"
      },
      "source": [
        "# Ver todas las ocurrencias de 'Empleo' en la columna de indicadores\n",
        "desmpleoDF = poblacionesClean.loc[poblacionesClean['Indicadores'] == 'Desempleo']\n",
        "desmpleoDF.head()"
      ],
      "execution_count": 148,
      "outputs": [
        {
          "output_type": "execute_result",
          "data": {
            "text/html": [
              "<div>\n",
              "<style scoped>\n",
              "    .dataframe tbody tr th:only-of-type {\n",
              "        vertical-align: middle;\n",
              "    }\n",
              "\n",
              "    .dataframe tbody tr th {\n",
              "        vertical-align: top;\n",
              "    }\n",
              "\n",
              "    .dataframe thead th {\n",
              "        text-align: right;\n",
              "    }\n",
              "</style>\n",
              "<table border=\"1\" class=\"dataframe\">\n",
              "  <thead>\n",
              "    <tr style=\"text-align: right;\">\n",
              "      <th></th>\n",
              "      <th>Encuesta</th>\n",
              "      <th>Periodo</th>\n",
              "      <th>Indicadores</th>\n",
              "      <th>Total</th>\n",
              "      <th>Urbana</th>\n",
              "      <th>Rural</th>\n",
              "      <th>Hombre</th>\n",
              "      <th>Mujer</th>\n",
              "    </tr>\n",
              "  </thead>\n",
              "  <tbody>\n",
              "    <tr>\n",
              "      <th>12</th>\n",
              "      <td>ENEMDU</td>\n",
              "      <td>dic-07</td>\n",
              "      <td>Desempleo</td>\n",
              "      <td>316.697</td>\n",
              "      <td>256.662</td>\n",
              "      <td>60.036</td>\n",
              "      <td>144.918</td>\n",
              "      <td>171.780</td>\n",
              "    </tr>\n",
              "    <tr>\n",
              "      <th>30</th>\n",
              "      <td>ENEMDU</td>\n",
              "      <td>jun-08</td>\n",
              "      <td>Desempleo</td>\n",
              "      <td>344.143</td>\n",
              "      <td>282.489</td>\n",
              "      <td>61.654</td>\n",
              "      <td>151.283</td>\n",
              "      <td>192.860</td>\n",
              "    </tr>\n",
              "    <tr>\n",
              "      <th>48</th>\n",
              "      <td>ENEMDU</td>\n",
              "      <td>dic-08</td>\n",
              "      <td>Desempleo</td>\n",
              "      <td>380.026</td>\n",
              "      <td>317.011</td>\n",
              "      <td>63.015</td>\n",
              "      <td>165.296</td>\n",
              "      <td>214.730</td>\n",
              "    </tr>\n",
              "    <tr>\n",
              "      <th>66</th>\n",
              "      <td>ENEMDU</td>\n",
              "      <td>dic-09</td>\n",
              "      <td>Desempleo</td>\n",
              "      <td>423.802</td>\n",
              "      <td>347.068</td>\n",
              "      <td>76.734</td>\n",
              "      <td>201.625</td>\n",
              "      <td>222.177</td>\n",
              "    </tr>\n",
              "    <tr>\n",
              "      <th>84</th>\n",
              "      <td>ENEMDU</td>\n",
              "      <td>jun-10</td>\n",
              "      <td>Desempleo</td>\n",
              "      <td>408.318</td>\n",
              "      <td>338.652</td>\n",
              "      <td>69.666</td>\n",
              "      <td>194.691</td>\n",
              "      <td>213.628</td>\n",
              "    </tr>\n",
              "  </tbody>\n",
              "</table>\n",
              "</div>"
            ],
            "text/plain": [
              "   Encuesta Periodo Indicadores    Total   Urbana   Rural   Hombre    Mujer\n",
              "12   ENEMDU  dic-07   Desempleo  316.697  256.662  60.036  144.918  171.780\n",
              "30   ENEMDU  jun-08   Desempleo  344.143  282.489  61.654  151.283  192.860\n",
              "48   ENEMDU  dic-08   Desempleo  380.026  317.011  63.015  165.296  214.730\n",
              "66   ENEMDU  dic-09   Desempleo  423.802  347.068  76.734  201.625  222.177\n",
              "84   ENEMDU  jun-10   Desempleo  408.318  338.652  69.666  194.691  213.628"
            ]
          },
          "metadata": {},
          "execution_count": 148
        }
      ]
    },
    {
      "cell_type": "code",
      "metadata": {
        "id": "uEHJktC3946f"
      },
      "source": [
        "#Asignar las ocurrencias de Empleo a un nuevo DF\n",
        "empleoDf = poblacionesClean.loc[poblacionesClean['Indicadores'] == 'Empleo' ]"
      ],
      "execution_count": 149,
      "outputs": []
    },
    {
      "cell_type": "markdown",
      "metadata": {
        "id": "17UZ9CSJMbL7"
      },
      "source": [
        "### Renombrar las columnas"
      ]
    },
    {
      "cell_type": "code",
      "metadata": {
        "id": "u0fwQAiZ-BfX"
      },
      "source": [
        "#Empleo\n",
        "#Seleccionar los datos importantes\n",
        "dfEmp = empleoDf[['Periodo', 'Total']]\n",
        "#Cambiar el nombre de las columnas\n",
        "dfEmp.rename(columns = {\n",
        "   'Periodo': 'Fecha', 'Total': 'Empleo'}, inplace = True)"
      ],
      "execution_count": null,
      "outputs": []
    },
    {
      "cell_type": "code",
      "metadata": {
        "id": "YTXbP7s5J3m1"
      },
      "source": [
        "#Desempleo\n",
        "#Seleccionar los datos importantes\n",
        "dfDesemp = desmpleoDF[['Periodo', 'Total']]\n",
        "#Cambiar el nombre de las columnas\n",
        "dfDesemp.rename(columns = {\n",
        "   'Periodo': 'Fecha', 'Total': 'Desempleo'}, inplace = True)"
      ],
      "execution_count": null,
      "outputs": []
    },
    {
      "cell_type": "markdown",
      "metadata": {
        "id": "Sp3PY1LYMjtb"
      },
      "source": [
        "# Transformar datos de String a Numeric y separar el mes del anio\n",
        "La columna de total tiene datos que necesitan ser transformados a tipo numeric"
      ]
    },
    {
      "cell_type": "markdown",
      "metadata": {
        "id": "lpZIYxiWMyxr"
      },
      "source": [
        "\n",
        "\n",
        "*   Para los datos de empleo\n",
        "\n"
      ]
    },
    {
      "cell_type": "code",
      "metadata": {
        "id": "xfzAEYGR_-CG"
      },
      "source": [
        "#Empleo\n",
        "#Transformar de string a int, los valores de total de empleo\n",
        "dfEmp['Empleo'] = dfEmp['Empleo'].str.replace('.','').astype(int)"
      ],
      "execution_count": null,
      "outputs": []
    },
    {
      "cell_type": "markdown",
      "metadata": {
        "id": "TTmazlYAM5uc"
      },
      "source": [
        "\n",
        "\n",
        "1.   Para los datos de desempleo\n",
        "\n"
      ]
    },
    {
      "cell_type": "code",
      "metadata": {
        "id": "adYF5GXnLNlk"
      },
      "source": [
        "#Desempleo\n",
        "#Transformar de string a int, los valores de total de empleo\n",
        "dfDesemp['Desempleo'] = dfDesemp['Desempleo'].str.replace('.','').astype(int)\n",
        "dfDesemp.head()"
      ],
      "execution_count": null,
      "outputs": []
    },
    {
      "cell_type": "markdown",
      "metadata": {
        "id": "t6XYFb5uNF3C"
      },
      "source": [
        "\n",
        "\n",
        "1.   Separar el mes y anio de Empleo\n",
        "\n"
      ]
    },
    {
      "cell_type": "code",
      "metadata": {
        "id": "MiBCTHCaGVEg"
      },
      "source": [
        "# Hacer un split de la fecha por mes y anio\n",
        "dfEmp[['Mes', 'Anio']] = dfEmp['Fecha'].str.split('-', expand=True)\n"
      ],
      "execution_count": null,
      "outputs": []
    },
    {
      "cell_type": "code",
      "metadata": {
        "colab": {
          "base_uri": "https://localhost:8080/",
          "height": 206
        },
        "id": "7FQX39wrIcd_",
        "outputId": "5326988c-7035-4dbc-ec01-81f86c4e5a6c"
      },
      "source": [
        "dfEmp[['Mes','Anio','Empleo']].head()"
      ],
      "execution_count": 132,
      "outputs": [
        {
          "output_type": "execute_result",
          "data": {
            "text/html": [
              "<div>\n",
              "<style scoped>\n",
              "    .dataframe tbody tr th:only-of-type {\n",
              "        vertical-align: middle;\n",
              "    }\n",
              "\n",
              "    .dataframe tbody tr th {\n",
              "        vertical-align: top;\n",
              "    }\n",
              "\n",
              "    .dataframe thead th {\n",
              "        text-align: right;\n",
              "    }\n",
              "</style>\n",
              "<table border=\"1\" class=\"dataframe\">\n",
              "  <thead>\n",
              "    <tr style=\"text-align: right;\">\n",
              "      <th></th>\n",
              "      <th>Mes</th>\n",
              "      <th>Anio</th>\n",
              "      <th>Empleo</th>\n",
              "    </tr>\n",
              "  </thead>\n",
              "  <tbody>\n",
              "    <tr>\n",
              "      <th>4</th>\n",
              "      <td>dic</td>\n",
              "      <td>07</td>\n",
              "      <td>6019332</td>\n",
              "    </tr>\n",
              "    <tr>\n",
              "      <th>22</th>\n",
              "      <td>jun</td>\n",
              "      <td>08</td>\n",
              "      <td>6245225</td>\n",
              "    </tr>\n",
              "    <tr>\n",
              "      <th>40</th>\n",
              "      <td>dic</td>\n",
              "      <td>08</td>\n",
              "      <td>6005395</td>\n",
              "    </tr>\n",
              "    <tr>\n",
              "      <th>58</th>\n",
              "      <td>dic</td>\n",
              "      <td>09</td>\n",
              "      <td>6125135</td>\n",
              "    </tr>\n",
              "    <tr>\n",
              "      <th>76</th>\n",
              "      <td>jun</td>\n",
              "      <td>10</td>\n",
              "      <td>6174141</td>\n",
              "    </tr>\n",
              "  </tbody>\n",
              "</table>\n",
              "</div>"
            ],
            "text/plain": [
              "    Mes Anio   Empleo\n",
              "4   dic   07  6019332\n",
              "22  jun   08  6245225\n",
              "40  dic   08  6005395\n",
              "58  dic   09  6125135\n",
              "76  jun   10  6174141"
            ]
          },
          "metadata": {},
          "execution_count": 132
        }
      ]
    },
    {
      "cell_type": "markdown",
      "metadata": {
        "id": "PEIa5vxsNLC_"
      },
      "source": [
        "\n",
        "\n",
        "1.   Separar mes y anio de Desempleo\n",
        "\n"
      ]
    },
    {
      "cell_type": "code",
      "metadata": {
        "id": "W-k42roBNSyK"
      },
      "source": [
        "# Hacer un split de la fecha por mes y anio\n",
        "dfDesemp[['Mes', 'Anio']] = dfDesemp['Fecha'].str.split('-', expand=True)"
      ],
      "execution_count": null,
      "outputs": []
    },
    {
      "cell_type": "code",
      "metadata": {
        "colab": {
          "base_uri": "https://localhost:8080/",
          "height": 206
        },
        "id": "1MVw4zmGNbUq",
        "outputId": "19da1b6c-0662-4e1b-91f1-c5ef04860844"
      },
      "source": [
        "dfDesemp[['Mes','Anio','Desempleo']].head()"
      ],
      "execution_count": 161,
      "outputs": [
        {
          "output_type": "execute_result",
          "data": {
            "text/html": [
              "<div>\n",
              "<style scoped>\n",
              "    .dataframe tbody tr th:only-of-type {\n",
              "        vertical-align: middle;\n",
              "    }\n",
              "\n",
              "    .dataframe tbody tr th {\n",
              "        vertical-align: top;\n",
              "    }\n",
              "\n",
              "    .dataframe thead th {\n",
              "        text-align: right;\n",
              "    }\n",
              "</style>\n",
              "<table border=\"1\" class=\"dataframe\">\n",
              "  <thead>\n",
              "    <tr style=\"text-align: right;\">\n",
              "      <th></th>\n",
              "      <th>Mes</th>\n",
              "      <th>Anio</th>\n",
              "      <th>Desempleo</th>\n",
              "    </tr>\n",
              "  </thead>\n",
              "  <tbody>\n",
              "    <tr>\n",
              "      <th>12</th>\n",
              "      <td>dic</td>\n",
              "      <td>07</td>\n",
              "      <td>316697</td>\n",
              "    </tr>\n",
              "    <tr>\n",
              "      <th>30</th>\n",
              "      <td>jun</td>\n",
              "      <td>08</td>\n",
              "      <td>344143</td>\n",
              "    </tr>\n",
              "    <tr>\n",
              "      <th>48</th>\n",
              "      <td>dic</td>\n",
              "      <td>08</td>\n",
              "      <td>380026</td>\n",
              "    </tr>\n",
              "    <tr>\n",
              "      <th>66</th>\n",
              "      <td>dic</td>\n",
              "      <td>09</td>\n",
              "      <td>423802</td>\n",
              "    </tr>\n",
              "    <tr>\n",
              "      <th>84</th>\n",
              "      <td>jun</td>\n",
              "      <td>10</td>\n",
              "      <td>408318</td>\n",
              "    </tr>\n",
              "  </tbody>\n",
              "</table>\n",
              "</div>"
            ],
            "text/plain": [
              "    Mes Anio  Desempleo\n",
              "12  dic   07     316697\n",
              "30  jun   08     344143\n",
              "48  dic   08     380026\n",
              "66  dic   09     423802\n",
              "84  jun   10     408318"
            ]
          },
          "metadata": {},
          "execution_count": 161
        }
      ]
    },
    {
      "cell_type": "markdown",
      "metadata": {
        "id": "7nJqt2l8Nopi"
      },
      "source": [
        "# Graficas de Empleo y Desempleo por anio"
      ]
    },
    {
      "cell_type": "markdown",
      "metadata": {
        "id": "6KWRA72NTZet"
      },
      "source": [
        "Esta parte sirve para verificar que el merge haya sido exitoso"
      ]
    },
    {
      "cell_type": "code",
      "metadata": {
        "colab": {
          "base_uri": "https://localhost:8080/",
          "height": 81
        },
        "id": "-YIFihuEO-3n",
        "outputId": "a17eee12-c68a-4d4b-9d8b-8528c96eec40"
      },
      "source": [
        "anioEmp = dfEmp.loc[dfEmp['Anio'] == '07' ]\n",
        "anioEmp.head()"
      ],
      "execution_count": 225,
      "outputs": [
        {
          "output_type": "execute_result",
          "data": {
            "text/html": [
              "<div>\n",
              "<style scoped>\n",
              "    .dataframe tbody tr th:only-of-type {\n",
              "        vertical-align: middle;\n",
              "    }\n",
              "\n",
              "    .dataframe tbody tr th {\n",
              "        vertical-align: top;\n",
              "    }\n",
              "\n",
              "    .dataframe thead th {\n",
              "        text-align: right;\n",
              "    }\n",
              "</style>\n",
              "<table border=\"1\" class=\"dataframe\">\n",
              "  <thead>\n",
              "    <tr style=\"text-align: right;\">\n",
              "      <th></th>\n",
              "      <th>Fecha</th>\n",
              "      <th>Empleo</th>\n",
              "      <th>Mes</th>\n",
              "      <th>Anio</th>\n",
              "    </tr>\n",
              "  </thead>\n",
              "  <tbody>\n",
              "    <tr>\n",
              "      <th>4</th>\n",
              "      <td>dic-07</td>\n",
              "      <td>6019332</td>\n",
              "      <td>dic</td>\n",
              "      <td>07</td>\n",
              "    </tr>\n",
              "  </tbody>\n",
              "</table>\n",
              "</div>"
            ],
            "text/plain": [
              "    Fecha   Empleo  Mes Anio\n",
              "4  dic-07  6019332  dic   07"
            ]
          },
          "metadata": {},
          "execution_count": 225
        }
      ]
    },
    {
      "cell_type": "code",
      "metadata": {
        "colab": {
          "base_uri": "https://localhost:8080/",
          "height": 81
        },
        "id": "uLM_b-iXQDRo",
        "outputId": "bb7799b4-5c18-4cf1-cfb1-294dd333db59"
      },
      "source": [
        "anioDesmp = dfDesemp.loc[dfDesemp['Anio'] == '07' ]\n",
        "anioDesmp.head()"
      ],
      "execution_count": 224,
      "outputs": [
        {
          "output_type": "execute_result",
          "data": {
            "text/html": [
              "<div>\n",
              "<style scoped>\n",
              "    .dataframe tbody tr th:only-of-type {\n",
              "        vertical-align: middle;\n",
              "    }\n",
              "\n",
              "    .dataframe tbody tr th {\n",
              "        vertical-align: top;\n",
              "    }\n",
              "\n",
              "    .dataframe thead th {\n",
              "        text-align: right;\n",
              "    }\n",
              "</style>\n",
              "<table border=\"1\" class=\"dataframe\">\n",
              "  <thead>\n",
              "    <tr style=\"text-align: right;\">\n",
              "      <th></th>\n",
              "      <th>Fecha</th>\n",
              "      <th>Desempleo</th>\n",
              "      <th>Mes</th>\n",
              "      <th>Anio</th>\n",
              "    </tr>\n",
              "  </thead>\n",
              "  <tbody>\n",
              "    <tr>\n",
              "      <th>12</th>\n",
              "      <td>dic-07</td>\n",
              "      <td>316697</td>\n",
              "      <td>dic</td>\n",
              "      <td>07</td>\n",
              "    </tr>\n",
              "  </tbody>\n",
              "</table>\n",
              "</div>"
            ],
            "text/plain": [
              "     Fecha  Desempleo  Mes Anio\n",
              "12  dic-07     316697  dic   07"
            ]
          },
          "metadata": {},
          "execution_count": 224
        }
      ]
    },
    {
      "cell_type": "markdown",
      "metadata": {
        "id": "wP7F8OpcTUhm"
      },
      "source": [
        "# Unir los dos dataframes"
      ]
    },
    {
      "cell_type": "code",
      "metadata": {
        "colab": {
          "base_uri": "https://localhost:8080/",
          "height": 206
        },
        "id": "mTAvaP5GRE0g",
        "outputId": "e0140f1e-0075-47b8-a873-ee0eee813983"
      },
      "source": [
        "dfMerge = pd.merge(dfEmp, dfDesemp, on=['Fecha','Anio', 'Mes'])\n",
        "dfMerge[['Mes','Anio','Empleo', 'Desempleo']].head()"
      ],
      "execution_count": 234,
      "outputs": [
        {
          "output_type": "execute_result",
          "data": {
            "text/html": [
              "<div>\n",
              "<style scoped>\n",
              "    .dataframe tbody tr th:only-of-type {\n",
              "        vertical-align: middle;\n",
              "    }\n",
              "\n",
              "    .dataframe tbody tr th {\n",
              "        vertical-align: top;\n",
              "    }\n",
              "\n",
              "    .dataframe thead th {\n",
              "        text-align: right;\n",
              "    }\n",
              "</style>\n",
              "<table border=\"1\" class=\"dataframe\">\n",
              "  <thead>\n",
              "    <tr style=\"text-align: right;\">\n",
              "      <th></th>\n",
              "      <th>Mes</th>\n",
              "      <th>Anio</th>\n",
              "      <th>Empleo</th>\n",
              "      <th>Desempleo</th>\n",
              "    </tr>\n",
              "  </thead>\n",
              "  <tbody>\n",
              "    <tr>\n",
              "      <th>0</th>\n",
              "      <td>dic</td>\n",
              "      <td>07</td>\n",
              "      <td>6019332</td>\n",
              "      <td>316697</td>\n",
              "    </tr>\n",
              "    <tr>\n",
              "      <th>1</th>\n",
              "      <td>jun</td>\n",
              "      <td>08</td>\n",
              "      <td>6245225</td>\n",
              "      <td>344143</td>\n",
              "    </tr>\n",
              "    <tr>\n",
              "      <th>2</th>\n",
              "      <td>dic</td>\n",
              "      <td>08</td>\n",
              "      <td>6005395</td>\n",
              "      <td>380026</td>\n",
              "    </tr>\n",
              "    <tr>\n",
              "      <th>3</th>\n",
              "      <td>dic</td>\n",
              "      <td>09</td>\n",
              "      <td>6125135</td>\n",
              "      <td>423802</td>\n",
              "    </tr>\n",
              "    <tr>\n",
              "      <th>4</th>\n",
              "      <td>jun</td>\n",
              "      <td>10</td>\n",
              "      <td>6174141</td>\n",
              "      <td>408318</td>\n",
              "    </tr>\n",
              "  </tbody>\n",
              "</table>\n",
              "</div>"
            ],
            "text/plain": [
              "   Mes Anio   Empleo  Desempleo\n",
              "0  dic   07  6019332     316697\n",
              "1  jun   08  6245225     344143\n",
              "2  dic   08  6005395     380026\n",
              "3  dic   09  6125135     423802\n",
              "4  jun   10  6174141     408318"
            ]
          },
          "metadata": {},
          "execution_count": 234
        }
      ]
    },
    {
      "cell_type": "code",
      "metadata": {
        "colab": {
          "base_uri": "https://localhost:8080/",
          "height": 404
        },
        "id": "sl0b-ShJU3ZM",
        "outputId": "0abfb9c2-87e4-4ce6-c2a2-d81a426982e4"
      },
      "source": [
        "plt.figure(figsize=(15, 6))\n",
        "plt.title('Empleo y Desempleo por anios - Ecuador')\n",
        "plt.plot(dfMerge.Anio, dfMerge.Empleo, 'b.-')\n",
        "plt.plot(dfMerge.Anio, dfMerge.Desempleo, 'r.-')\n",
        "plt.xlabel('Anio')\n",
        "plt.ylabel('Total')\n",
        "plt.legend(['Empleo','Desempleo'])\n",
        "plt.show()"
      ],
      "execution_count": 250,
      "outputs": [
        {
          "output_type": "display_data",
          "data": {
            "image/png": "[encoded data removed]",
            "text/plain": [
              "<Figure size 1080x432 with 1 Axes>"
            ]
          },
          "metadata": {
            "needs_background": "light"
          }
        }
      ]
    },
    {
      "cell_type": "code",
      "metadata": {
        "colab": {
          "base_uri": "https://localhost:8080/",
          "height": 621
        },
        "id": "bb1P3dspXP77",
        "outputId": "90a392c0-fb1e-403d-ffa1-e6f7563086fd"
      },
      "source": [
        "plt.figure(figsize=(16, 10))\n",
        "plt.title('Empleo y Desempleo por anios - Ecuador')\n",
        "plt.plot(dfMerge.Fecha, dfMerge.Empleo, 'b.-')\n",
        "plt.plot(dfMerge.Fecha, dfMerge.Desempleo, 'r.-')\n",
        "plt.xticks(dfMerge.Fecha[::3].tolist())\n",
        "plt.xlabel('Fecha')\n",
        "plt.ylabel('Total')\n",
        "plt.legend(['Empleo','Desempleo'])\n",
        "plt.show()"
      ],
      "execution_count": 251,
      "outputs": [
        {
          "output_type": "display_data",
          "data": {
            "image/png": "[encoded data removed]",
            "text/plain": [
              "<Figure size 1152x720 with 1 Axes>"
            ]
          },
          "metadata": {
            "needs_background": "light"
          }
        }
      ]
    },
    {
      "cell_type": "markdown",
      "metadata": {
        "id": "VPIh0w5FX5Rq"
      },
      "source": [
        "# Sectorizacion del Empleo\n",
        "Crear un grafico de pie por personas\n",
        "\n",
        "\n",
        "1.   Limpiar el dataset\n",
        "\n"
      ]
    },
    {
      "cell_type": "code",
      "metadata": {
        "id": "cGefBOanX_SB"
      },
      "source": [
        "sectorizacion_empleo.rename(columns = {\n",
        "'Unnamed: 1': 'Sector'}, inplace = True)\n",
        "\n",
        "sectorizacion = sectorizacion_empleo[sectorizacion_empleo['Característica'].notna()]\n"
      ],
      "execution_count": 544,
      "outputs": []
    },
    {
      "cell_type": "code",
      "metadata": {
        "id": "kxxAex6F7Oa0"
      },
      "source": [
        "sectorizacion = sectorizacion.drop(sectorizacion.columns[[0,1]], axis=1)"
      ],
      "execution_count": 545,
      "outputs": []
    },
    {
      "cell_type": "code",
      "metadata": {
        "colab": {
          "base_uri": "https://localhost:8080/",
          "height": 181
        },
        "id": "ScfvRK1s7a3N",
        "outputId": "5a55634c-53b4-450f-edaa-670d2441089d"
      },
      "source": [
        "idx=0\n",
        "sectorizacion.insert(loc=idx, column='Fecha', value=['Nacional', 'Urbano','Rural'])\n",
        "sectorizacion"
      ],
      "execution_count": 546,
      "outputs": [
        {
          "output_type": "execute_result",
          "data": {
            "text/html": [
              "<div>\n",
              "<style scoped>\n",
              "    .dataframe tbody tr th:only-of-type {\n",
              "        vertical-align: middle;\n",
              "    }\n",
              "\n",
              "    .dataframe tbody tr th {\n",
              "        vertical-align: top;\n",
              "    }\n",
              "\n",
              "    .dataframe thead th {\n",
              "        text-align: right;\n",
              "    }\n",
              "</style>\n",
              "<table border=\"1\" class=\"dataframe\">\n",
              "  <thead>\n",
              "    <tr style=\"text-align: right;\">\n",
              "      <th></th>\n",
              "      <th>Fecha</th>\n",
              "      <th>jun-07</th>\n",
              "      <th>sep-07</th>\n",
              "      <th>dic-07</th>\n",
              "      <th>mar-08</th>\n",
              "      <th>jun-08</th>\n",
              "      <th>sep-08</th>\n",
              "      <th>dic-08</th>\n",
              "      <th>mar-09</th>\n",
              "      <th>jun-09</th>\n",
              "      <th>sep-09</th>\n",
              "      <th>dic-09</th>\n",
              "      <th>mar-10</th>\n",
              "      <th>jun-10</th>\n",
              "      <th>sep-10</th>\n",
              "      <th>dic-10</th>\n",
              "      <th>mar-11</th>\n",
              "      <th>jun-11</th>\n",
              "      <th>sep-11</th>\n",
              "      <th>dic-11</th>\n",
              "      <th>mar-12</th>\n",
              "      <th>jun-12</th>\n",
              "      <th>sep-12</th>\n",
              "      <th>dic-12</th>\n",
              "      <th>mar-13</th>\n",
              "      <th>jun-13</th>\n",
              "      <th>sep-13</th>\n",
              "      <th>dic-13</th>\n",
              "      <th>mar-14</th>\n",
              "      <th>jun-14</th>\n",
              "      <th>sep-14</th>\n",
              "      <th>dic-14</th>\n",
              "      <th>mar15</th>\n",
              "      <th>jun-15</th>\n",
              "      <th>sep-15</th>\n",
              "      <th>dic-15</th>\n",
              "      <th>mar-16</th>\n",
              "      <th>jun-16</th>\n",
              "      <th>sep-16</th>\n",
              "      <th>dic-16</th>\n",
              "      <th>mar-17</th>\n",
              "      <th>jun-17</th>\n",
              "      <th>sep-17</th>\n",
              "      <th>dic-17</th>\n",
              "      <th>mar-18</th>\n",
              "      <th>jun-18</th>\n",
              "      <th>sep-18</th>\n",
              "      <th>dic-18</th>\n",
              "      <th>mar-19</th>\n",
              "      <th>jun-19</th>\n",
              "      <th>sep-19</th>\n",
              "      <th>dic-19</th>\n",
              "      <th>sep-20</th>\n",
              "      <th>oct-20</th>\n",
              "      <th>nov-20</th>\n",
              "      <th>dic-20</th>\n",
              "      <th>ene-21</th>\n",
              "      <th>feb-21</th>\n",
              "      <th>mar-21</th>\n",
              "      <th>abr-21</th>\n",
              "      <th>may-21</th>\n",
              "      <th>jun-21</th>\n",
              "      <th>jul-21</th>\n",
              "      <th>ago-21</th>\n",
              "      <th>sep-21</th>\n",
              "      <th>oct-21</th>\n",
              "    </tr>\n",
              "  </thead>\n",
              "  <tbody>\n",
              "    <tr>\n",
              "      <th>0</th>\n",
              "      <td>Nacional</td>\n",
              "      <td>-</td>\n",
              "      <td>-</td>\n",
              "      <td>41,0%</td>\n",
              "      <td>-</td>\n",
              "      <td>42,5%</td>\n",
              "      <td>-</td>\n",
              "      <td>43,9%</td>\n",
              "      <td>-</td>\n",
              "      <td>-</td>\n",
              "      <td>-</td>\n",
              "      <td>43,7%</td>\n",
              "      <td>-</td>\n",
              "      <td>44,9%</td>\n",
              "      <td>-</td>\n",
              "      <td>47,2%</td>\n",
              "      <td>-</td>\n",
              "      <td>46,3%</td>\n",
              "      <td>-</td>\n",
              "      <td>46,5%</td>\n",
              "      <td>-</td>\n",
              "      <td>47,4%</td>\n",
              "      <td>-</td>\n",
              "      <td>48,7%</td>\n",
              "      <td>-</td>\n",
              "      <td>47,6%</td>\n",
              "      <td>-</td>\n",
              "      <td>49,3%</td>\n",
              "      <td>48,7%</td>\n",
              "      <td>50,9%</td>\n",
              "      <td>51,2%</td>\n",
              "      <td>50,9%</td>\n",
              "      <td>49,9%</td>\n",
              "      <td>51,2%</td>\n",
              "      <td>50,6%</td>\n",
              "      <td>50,5%</td>\n",
              "      <td>48,7%</td>\n",
              "      <td>49,0%</td>\n",
              "      <td>47,7%</td>\n",
              "      <td>47,6%</td>\n",
              "      <td>47,0%</td>\n",
              "      <td>47,9%</td>\n",
              "      <td>47,4%</td>\n",
              "      <td>48,9%</td>\n",
              "      <td>48,3%</td>\n",
              "      <td>46,0%</td>\n",
              "      <td>46,8%</td>\n",
              "      <td>46,2%</td>\n",
              "      <td>45,7%</td>\n",
              "      <td>45,9%</td>\n",
              "      <td>46,5%</td>\n",
              "      <td>44,7%</td>\n",
              "      <td>41,6%</td>\n",
              "      <td>42,6%</td>\n",
              "      <td>41,0%</td>\n",
              "      <td>40,9%</td>\n",
              "      <td>41,9%</td>\n",
              "      <td>41,4%</td>\n",
              "      <td>42,1%</td>\n",
              "      <td>39,9%</td>\n",
              "      <td>39,7%</td>\n",
              "      <td>42,3%</td>\n",
              "      <td>40,6%</td>\n",
              "      <td>41,2%</td>\n",
              "      <td>43,9%</td>\n",
              "      <td>41,4%</td>\n",
              "    </tr>\n",
              "    <tr>\n",
              "      <th>4</th>\n",
              "      <td>Urbano</td>\n",
              "      <td>54,7%</td>\n",
              "      <td>55,7%</td>\n",
              "      <td>54,1%</td>\n",
              "      <td>54,4%</td>\n",
              "      <td>55,8%</td>\n",
              "      <td>56,0%</td>\n",
              "      <td>56,2%</td>\n",
              "      <td>57,4%</td>\n",
              "      <td>57,7%</td>\n",
              "      <td>59,4%</td>\n",
              "      <td>57,3%</td>\n",
              "      <td>57,5%</td>\n",
              "      <td>58,6%</td>\n",
              "      <td>59,4%</td>\n",
              "      <td>60,8%</td>\n",
              "      <td>59,9%</td>\n",
              "      <td>60,5%</td>\n",
              "      <td>61,0%</td>\n",
              "      <td>59,9%</td>\n",
              "      <td>63,1%</td>\n",
              "      <td>61,6%</td>\n",
              "      <td>61,6%</td>\n",
              "      <td>62,5%</td>\n",
              "      <td>61,2%</td>\n",
              "      <td>61,9%</td>\n",
              "      <td>62,0%</td>\n",
              "      <td>61,9%</td>\n",
              "      <td>61,0%</td>\n",
              "      <td>63,0%</td>\n",
              "      <td>63,6%</td>\n",
              "      <td>60,6%</td>\n",
              "      <td>61,3%</td>\n",
              "      <td>62,6%</td>\n",
              "      <td>61,0%</td>\n",
              "      <td>60,8%</td>\n",
              "      <td>59,6%</td>\n",
              "      <td>60,4%</td>\n",
              "      <td>58,2%</td>\n",
              "      <td>56,6%</td>\n",
              "      <td>57,9%</td>\n",
              "      <td>58,7%</td>\n",
              "      <td>57,3%</td>\n",
              "      <td>59,2%</td>\n",
              "      <td>59,0%</td>\n",
              "      <td>57,5%</td>\n",
              "      <td>58,8%</td>\n",
              "      <td>57,3%</td>\n",
              "      <td>57,4%</td>\n",
              "      <td>56,9%</td>\n",
              "      <td>57,3%</td>\n",
              "      <td>56,3%</td>\n",
              "      <td>51,8%</td>\n",
              "      <td>53,5%</td>\n",
              "      <td>52,8%</td>\n",
              "      <td>51,2%</td>\n",
              "      <td>53,7%</td>\n",
              "      <td>51,9%</td>\n",
              "      <td>51,3%</td>\n",
              "      <td>50,9%</td>\n",
              "      <td>50,7%</td>\n",
              "      <td>52,5%</td>\n",
              "      <td>50,7%</td>\n",
              "      <td>52,1%</td>\n",
              "      <td>54,3%</td>\n",
              "      <td>52,5%</td>\n",
              "    </tr>\n",
              "    <tr>\n",
              "      <th>8</th>\n",
              "      <td>Rural</td>\n",
              "      <td>-</td>\n",
              "      <td>-</td>\n",
              "      <td>15,5%</td>\n",
              "      <td>-</td>\n",
              "      <td>16,2%</td>\n",
              "      <td>-</td>\n",
              "      <td>19,1%</td>\n",
              "      <td>-</td>\n",
              "      <td>-</td>\n",
              "      <td>-</td>\n",
              "      <td>17,2%</td>\n",
              "      <td>-</td>\n",
              "      <td>18,4%</td>\n",
              "      <td>-</td>\n",
              "      <td>20,5%</td>\n",
              "      <td>-</td>\n",
              "      <td>18,9%</td>\n",
              "      <td>-</td>\n",
              "      <td>19,6%</td>\n",
              "      <td>-</td>\n",
              "      <td>19,9%</td>\n",
              "      <td>-</td>\n",
              "      <td>21,2%</td>\n",
              "      <td>-</td>\n",
              "      <td>20,9%</td>\n",
              "      <td>-</td>\n",
              "      <td>23,6%</td>\n",
              "      <td>23,4%</td>\n",
              "      <td>25,2%</td>\n",
              "      <td>25,2%</td>\n",
              "      <td>31,0%</td>\n",
              "      <td>28,5%</td>\n",
              "      <td>28,9%</td>\n",
              "      <td>29,8%</td>\n",
              "      <td>28,7%</td>\n",
              "      <td>27,5%</td>\n",
              "      <td>27,1%</td>\n",
              "      <td>27,6%</td>\n",
              "      <td>29,6%</td>\n",
              "      <td>26,7%</td>\n",
              "      <td>27,0%</td>\n",
              "      <td>28,0%</td>\n",
              "      <td>28,1%</td>\n",
              "      <td>27,7%</td>\n",
              "      <td>24,2%</td>\n",
              "      <td>23,4%</td>\n",
              "      <td>24,4%</td>\n",
              "      <td>23,7%</td>\n",
              "      <td>25,3%</td>\n",
              "      <td>25,8%</td>\n",
              "      <td>22,3%</td>\n",
              "      <td>22,9%</td>\n",
              "      <td>22,5%</td>\n",
              "      <td>19,7%</td>\n",
              "      <td>21,4%</td>\n",
              "      <td>20,8%</td>\n",
              "      <td>22,1%</td>\n",
              "      <td>25,2%</td>\n",
              "      <td>20,2%</td>\n",
              "      <td>19,9%</td>\n",
              "      <td>23,1%</td>\n",
              "      <td>21,2%</td>\n",
              "      <td>21,0%</td>\n",
              "      <td>24,9%</td>\n",
              "      <td>20,4%</td>\n",
              "    </tr>\n",
              "  </tbody>\n",
              "</table>\n",
              "</div>"
            ],
            "text/plain": [
              "      Fecha jun-07 sep-07 dic-07 mar-08  ... jun-21 jul-21 ago-21 sep-21 oct-21\n",
              "0  Nacional      -      -  41,0%      -  ...  42,3%  40,6%  41,2%  43,9%  41,4%\n",
              "4    Urbano  54,7%  55,7%  54,1%  54,4%  ...  52,5%  50,7%  52,1%  54,3%  52,5%\n",
              "8     Rural      -      -  15,5%      -  ...  23,1%  21,2%  21,0%  24,9%  20,4%\n",
              "\n",
              "[3 rows x 66 columns]"
            ]
          },
          "metadata": {},
          "execution_count": 546
        }
      ]
    },
    {
      "cell_type": "code",
      "metadata": {
        "id": "daxJogXL7rs2"
      },
      "source": [
        "nDfSecto = sectorizacion.T"
      ],
      "execution_count": 547,
      "outputs": []
    },
    {
      "cell_type": "code",
      "metadata": {
        "id": "zPlZczo48uZE"
      },
      "source": [
        "nDfSecto.columns = nDfSecto.iloc[0]"
      ],
      "execution_count": 551,
      "outputs": []
    },
    {
      "cell_type": "code",
      "metadata": {
        "colab": {
          "base_uri": "https://localhost:8080/",
          "height": 206
        },
        "id": "kuDpq44y89pc",
        "outputId": "177caaf6-2bd5-4f00-ea31-ccdbb58df13d"
      },
      "source": [
        "nDfSecto.head()"
      ],
      "execution_count": 554,
      "outputs": [
        {
          "output_type": "execute_result",
          "data": {
            "text/html": [
              "<div>\n",
              "<style scoped>\n",
              "    .dataframe tbody tr th:only-of-type {\n",
              "        vertical-align: middle;\n",
              "    }\n",
              "\n",
              "    .dataframe tbody tr th {\n",
              "        vertical-align: top;\n",
              "    }\n",
              "\n",
              "    .dataframe thead th {\n",
              "        text-align: right;\n",
              "    }\n",
              "</style>\n",
              "<table border=\"1\" class=\"dataframe\">\n",
              "  <thead>\n",
              "    <tr style=\"text-align: right;\">\n",
              "      <th>Fecha</th>\n",
              "      <th>Nacional</th>\n",
              "      <th>Urbano</th>\n",
              "      <th>Rural</th>\n",
              "    </tr>\n",
              "  </thead>\n",
              "  <tbody>\n",
              "    <tr>\n",
              "      <th>Fecha</th>\n",
              "      <td>Nacional</td>\n",
              "      <td>Urbano</td>\n",
              "      <td>Rural</td>\n",
              "    </tr>\n",
              "    <tr>\n",
              "      <th>jun-07</th>\n",
              "      <td>-</td>\n",
              "      <td>54,7%</td>\n",
              "      <td>-</td>\n",
              "    </tr>\n",
              "    <tr>\n",
              "      <th>sep-07</th>\n",
              "      <td>-</td>\n",
              "      <td>55,7%</td>\n",
              "      <td>-</td>\n",
              "    </tr>\n",
              "    <tr>\n",
              "      <th>dic-07</th>\n",
              "      <td>41,0%</td>\n",
              "      <td>54,1%</td>\n",
              "      <td>15,5%</td>\n",
              "    </tr>\n",
              "    <tr>\n",
              "      <th>mar-08</th>\n",
              "      <td>-</td>\n",
              "      <td>54,4%</td>\n",
              "      <td>-</td>\n",
              "    </tr>\n",
              "  </tbody>\n",
              "</table>\n",
              "</div>"
            ],
            "text/plain": [
              "Fecha   Nacional  Urbano  Rural\n",
              "Fecha   Nacional  Urbano  Rural\n",
              "jun-07         -   54,7%      -\n",
              "sep-07         -   55,7%      -\n",
              "dic-07     41,0%   54,1%  15,5%\n",
              "mar-08         -   54,4%      -"
            ]
          },
          "metadata": {},
          "execution_count": 554
        }
      ]
    },
    {
      "cell_type": "code",
      "metadata": {
        "id": "7VGubkv08Jss"
      },
      "source": [
        "sectoDF = nDfSecto.replace('-', 0)"
      ],
      "execution_count": 560,
      "outputs": []
    },
    {
      "cell_type": "code",
      "metadata": {
        "colab": {
          "base_uri": "https://localhost:8080/",
          "height": 206
        },
        "id": "wQsGDax49TLU",
        "outputId": "b0c65dcd-1bb3-487d-fd15-a4a911c8f9ca"
      },
      "source": [
        "sectoDF.head()"
      ],
      "execution_count": 562,
      "outputs": [
        {
          "output_type": "execute_result",
          "data": {
            "text/html": [
              "<div>\n",
              "<style scoped>\n",
              "    .dataframe tbody tr th:only-of-type {\n",
              "        vertical-align: middle;\n",
              "    }\n",
              "\n",
              "    .dataframe tbody tr th {\n",
              "        vertical-align: top;\n",
              "    }\n",
              "\n",
              "    .dataframe thead th {\n",
              "        text-align: right;\n",
              "    }\n",
              "</style>\n",
              "<table border=\"1\" class=\"dataframe\">\n",
              "  <thead>\n",
              "    <tr style=\"text-align: right;\">\n",
              "      <th>Fecha</th>\n",
              "      <th>Nacional</th>\n",
              "      <th>Urbano</th>\n",
              "      <th>Rural</th>\n",
              "    </tr>\n",
              "  </thead>\n",
              "  <tbody>\n",
              "    <tr>\n",
              "      <th>Fecha</th>\n",
              "      <td>Nacional</td>\n",
              "      <td>Urbano</td>\n",
              "      <td>Rural</td>\n",
              "    </tr>\n",
              "    <tr>\n",
              "      <th>jun-07</th>\n",
              "      <td>0</td>\n",
              "      <td>54,7%</td>\n",
              "      <td>0</td>\n",
              "    </tr>\n",
              "    <tr>\n",
              "      <th>sep-07</th>\n",
              "      <td>0</td>\n",
              "      <td>55,7%</td>\n",
              "      <td>0</td>\n",
              "    </tr>\n",
              "    <tr>\n",
              "      <th>dic-07</th>\n",
              "      <td>41,0%</td>\n",
              "      <td>54,1%</td>\n",
              "      <td>15,5%</td>\n",
              "    </tr>\n",
              "    <tr>\n",
              "      <th>mar-08</th>\n",
              "      <td>0</td>\n",
              "      <td>54,4%</td>\n",
              "      <td>0</td>\n",
              "    </tr>\n",
              "  </tbody>\n",
              "</table>\n",
              "</div>"
            ],
            "text/plain": [
              "Fecha   Nacional  Urbano  Rural\n",
              "Fecha   Nacional  Urbano  Rural\n",
              "jun-07         0   54,7%      0\n",
              "sep-07         0   55,7%      0\n",
              "dic-07     41,0%   54,1%  15,5%\n",
              "mar-08         0   54,4%      0"
            ]
          },
          "metadata": {},
          "execution_count": 562
        }
      ]
    },
    {
      "cell_type": "code",
      "metadata": {
        "id": "tdoTNrkq_jV5"
      },
      "source": [
        "sectoDF.reset_index(level=0, inplace=True)"
      ],
      "execution_count": 569,
      "outputs": []
    },
    {
      "cell_type": "code",
      "metadata": {
        "colab": {
          "base_uri": "https://localhost:8080/"
        },
        "id": "iIJexImQ-z6y",
        "outputId": "57ba2aeb-6aa9-49d0-b5ea-dc1451f7ccba"
      },
      "source": [
        "for col in sectoDF:\n",
        "  print(col)"
      ],
      "execution_count": 570,
      "outputs": [
        {
          "output_type": "stream",
          "name": "stdout",
          "text": [
            "index\n",
            "Nacional\n",
            "Urbano\n",
            "Rural\n"
          ]
        }
      ]
    },
    {
      "cell_type": "code",
      "metadata": {
        "id": "iqCaT3sd_oCB"
      },
      "source": [
        "sectoDF.columns = sectoDF.iloc[0]"
      ],
      "execution_count": 574,
      "outputs": []
    },
    {
      "cell_type": "markdown",
      "metadata": {
        "id": "lKhYWnFrsxP5"
      },
      "source": [
        "# Graficar los pies"
      ]
    },
    {
      "cell_type": "markdown",
      "metadata": {
        "id": "aARM68eyCMXn"
      },
      "source": [
        "# Reporte parametrizado"
      ]
    },
    {
      "cell_type": "code",
      "metadata": {
        "colab": {
          "base_uri": "https://localhost:8080/",
          "height": 423
        },
        "id": "HgP-uivMCoOv",
        "outputId": "7ee411e7-cb58-45ba-b841-794b9f1471a8"
      },
      "source": [
        "poblacionesClean.head(100)"
      ],
      "execution_count": 611,
      "outputs": [
        {
          "output_type": "execute_result",
          "data": {
            "text/html": [
              "<div>\n",
              "<style scoped>\n",
              "    .dataframe tbody tr th:only-of-type {\n",
              "        vertical-align: middle;\n",
              "    }\n",
              "\n",
              "    .dataframe tbody tr th {\n",
              "        vertical-align: top;\n",
              "    }\n",
              "\n",
              "    .dataframe thead th {\n",
              "        text-align: right;\n",
              "    }\n",
              "</style>\n",
              "<table border=\"1\" class=\"dataframe\">\n",
              "  <thead>\n",
              "    <tr style=\"text-align: right;\">\n",
              "      <th></th>\n",
              "      <th>Encuesta</th>\n",
              "      <th>Periodo</th>\n",
              "      <th>Indicadores</th>\n",
              "      <th>Total</th>\n",
              "      <th>Urbana</th>\n",
              "      <th>Rural</th>\n",
              "      <th>Hombre</th>\n",
              "      <th>Mujer</th>\n",
              "    </tr>\n",
              "  </thead>\n",
              "  <tbody>\n",
              "    <tr>\n",
              "      <th>0</th>\n",
              "      <td>ENEMDU</td>\n",
              "      <td>dic-07</td>\n",
              "      <td>Población Total</td>\n",
              "      <td>13.682.302</td>\n",
              "      <td>9.066.209</td>\n",
              "      <td>4.616.093</td>\n",
              "      <td>6.768.646</td>\n",
              "      <td>6.913.656</td>\n",
              "    </tr>\n",
              "    <tr>\n",
              "      <th>1</th>\n",
              "      <td>ENEMDU</td>\n",
              "      <td>dic-07</td>\n",
              "      <td>Población menor de 15 años</td>\n",
              "      <td>4.372.812</td>\n",
              "      <td>2.723.124</td>\n",
              "      <td>1.649.688</td>\n",
              "      <td>2.226.618</td>\n",
              "      <td>2.146.194</td>\n",
              "    </tr>\n",
              "    <tr>\n",
              "      <th>2</th>\n",
              "      <td>ENEMDU</td>\n",
              "      <td>dic-07</td>\n",
              "      <td>Población en Edad de Trabajar (PET)</td>\n",
              "      <td>9.309.490</td>\n",
              "      <td>6.343.085</td>\n",
              "      <td>2.966.404</td>\n",
              "      <td>4.542.028</td>\n",
              "      <td>4.767.462</td>\n",
              "    </tr>\n",
              "    <tr>\n",
              "      <th>3</th>\n",
              "      <td>ENEMDU</td>\n",
              "      <td>dic-07</td>\n",
              "      <td>Población Económicamente Activa</td>\n",
              "      <td>6.336.029</td>\n",
              "      <td>4.227.702</td>\n",
              "      <td>2.108.328</td>\n",
              "      <td>3.777.232</td>\n",
              "      <td>2.558.798</td>\n",
              "    </tr>\n",
              "    <tr>\n",
              "      <th>4</th>\n",
              "      <td>ENEMDU</td>\n",
              "      <td>dic-07</td>\n",
              "      <td>Empleo</td>\n",
              "      <td>6.019.332</td>\n",
              "      <td>3.971.040</td>\n",
              "      <td>2.048.292</td>\n",
              "      <td>3.632.314</td>\n",
              "      <td>2.387.018</td>\n",
              "    </tr>\n",
              "    <tr>\n",
              "      <th>...</th>\n",
              "      <td>...</td>\n",
              "      <td>...</td>\n",
              "      <td>...</td>\n",
              "      <td>...</td>\n",
              "      <td>...</td>\n",
              "      <td>...</td>\n",
              "      <td>...</td>\n",
              "      <td>...</td>\n",
              "    </tr>\n",
              "    <tr>\n",
              "      <th>95</th>\n",
              "      <td>ENEMDU</td>\n",
              "      <td>dic-10</td>\n",
              "      <td>Empleo Adecuado/Pleno</td>\n",
              "      <td>2.875.533</td>\n",
              "      <td>2.326.713</td>\n",
              "      <td>548.819</td>\n",
              "      <td>1.950.471</td>\n",
              "      <td>925.062</td>\n",
              "    </tr>\n",
              "    <tr>\n",
              "      <th>96</th>\n",
              "      <td>ENEMDU</td>\n",
              "      <td>dic-10</td>\n",
              "      <td>Subempleo</td>\n",
              "      <td>889.255</td>\n",
              "      <td>559.150</td>\n",
              "      <td>330.106</td>\n",
              "      <td>550.026</td>\n",
              "      <td>339.229</td>\n",
              "    </tr>\n",
              "    <tr>\n",
              "      <th>97</th>\n",
              "      <td>ENEMDU</td>\n",
              "      <td>dic-10</td>\n",
              "      <td>Subempleo por insuficiencia de tiempo de trabajo</td>\n",
              "      <td>673.317</td>\n",
              "      <td>430.631</td>\n",
              "      <td>242.685</td>\n",
              "      <td>393.098</td>\n",
              "      <td>280.219</td>\n",
              "    </tr>\n",
              "    <tr>\n",
              "      <th>98</th>\n",
              "      <td>ENEMDU</td>\n",
              "      <td>dic-10</td>\n",
              "      <td>Subempleo por insuficiencia de ingresos</td>\n",
              "      <td>215.939</td>\n",
              "      <td>128.518</td>\n",
              "      <td>87.420</td>\n",
              "      <td>156.928</td>\n",
              "      <td>59.011</td>\n",
              "    </tr>\n",
              "    <tr>\n",
              "      <th>99</th>\n",
              "      <td>ENEMDU</td>\n",
              "      <td>dic-10</td>\n",
              "      <td>Empleo no remunerado</td>\n",
              "      <td>528.991</td>\n",
              "      <td>178.786</td>\n",
              "      <td>350.206</td>\n",
              "      <td>171.282</td>\n",
              "      <td>357.709</td>\n",
              "    </tr>\n",
              "  </tbody>\n",
              "</table>\n",
              "<p>100 rows × 8 columns</p>\n",
              "</div>"
            ],
            "text/plain": [
              "   Encuesta Periodo  ...     Hombre      Mujer\n",
              "0    ENEMDU  dic-07  ...  6.768.646  6.913.656\n",
              "1    ENEMDU  dic-07  ...  2.226.618  2.146.194\n",
              "2    ENEMDU  dic-07  ...  4.542.028  4.767.462\n",
              "3    ENEMDU  dic-07  ...  3.777.232  2.558.798\n",
              "4    ENEMDU  dic-07  ...  3.632.314  2.387.018\n",
              "..      ...     ...  ...        ...        ...\n",
              "95   ENEMDU  dic-10  ...  1.950.471    925.062\n",
              "96   ENEMDU  dic-10  ...    550.026    339.229\n",
              "97   ENEMDU  dic-10  ...    393.098    280.219\n",
              "98   ENEMDU  dic-10  ...    156.928     59.011\n",
              "99   ENEMDU  dic-10  ...    171.282    357.709\n",
              "\n",
              "[100 rows x 8 columns]"
            ]
          },
          "metadata": {},
          "execution_count": 611
        }
      ]
    },
    {
      "cell_type": "code",
      "metadata": {
        "colab": {
          "base_uri": "https://localhost:8080/",
          "height": 50
        },
        "id": "zgXj0iDsDQVP",
        "outputId": "104b9ef1-7829-4ef4-ad76-6e2c10ea506c"
      },
      "source": [
        "subempleo = poblacionesClean.loc[poblacionesClean['Indicadores'] == 'Empleo No Pleno' ]\n",
        "subempleo.head()"
      ],
      "execution_count": 649,
      "outputs": [
        {
          "output_type": "execute_result",
          "data": {
            "text/html": [
              "<div>\n",
              "<style scoped>\n",
              "    .dataframe tbody tr th:only-of-type {\n",
              "        vertical-align: middle;\n",
              "    }\n",
              "\n",
              "    .dataframe tbody tr th {\n",
              "        vertical-align: top;\n",
              "    }\n",
              "\n",
              "    .dataframe thead th {\n",
              "        text-align: right;\n",
              "    }\n",
              "</style>\n",
              "<table border=\"1\" class=\"dataframe\">\n",
              "  <thead>\n",
              "    <tr style=\"text-align: right;\">\n",
              "      <th></th>\n",
              "      <th>Encuesta</th>\n",
              "      <th>Periodo</th>\n",
              "      <th>Indicadores</th>\n",
              "      <th>Total</th>\n",
              "      <th>Urbana</th>\n",
              "      <th>Rural</th>\n",
              "      <th>Hombre</th>\n",
              "      <th>Mujer</th>\n",
              "    </tr>\n",
              "  </thead>\n",
              "  <tbody>\n",
              "  </tbody>\n",
              "</table>\n",
              "</div>"
            ],
            "text/plain": [
              "Empty DataFrame\n",
              "Columns: [Encuesta, Periodo, Indicadores, Total, Urbana, Rural, Hombre, Mujer]\n",
              "Index: []"
            ]
          },
          "metadata": {},
          "execution_count": 649
        }
      ]
    },
    {
      "cell_type": "code",
      "metadata": {
        "colab": {
          "base_uri": "https://localhost:8080/",
          "height": 206
        },
        "id": "z3rDm1CtCTaW",
        "outputId": "0cfe8a3a-8219-434f-8ed7-eec1aeafa7ca"
      },
      "source": [
        "# Ver todas las ocurrencias de 'Subempleo' en la columna de indicadores\n",
        "sEF = poblacionesClean.loc[poblacionesClean['Indicadores'] == 'Subempleo']\n",
        "sEF.head()"
      ],
      "execution_count": 650,
      "outputs": [
        {
          "output_type": "execute_result",
          "data": {
            "text/html": [
              "<div>\n",
              "<style scoped>\n",
              "    .dataframe tbody tr th:only-of-type {\n",
              "        vertical-align: middle;\n",
              "    }\n",
              "\n",
              "    .dataframe tbody tr th {\n",
              "        vertical-align: top;\n",
              "    }\n",
              "\n",
              "    .dataframe thead th {\n",
              "        text-align: right;\n",
              "    }\n",
              "</style>\n",
              "<table border=\"1\" class=\"dataframe\">\n",
              "  <thead>\n",
              "    <tr style=\"text-align: right;\">\n",
              "      <th></th>\n",
              "      <th>Encuesta</th>\n",
              "      <th>Periodo</th>\n",
              "      <th>Indicadores</th>\n",
              "      <th>Total</th>\n",
              "      <th>Urbana</th>\n",
              "      <th>Rural</th>\n",
              "      <th>Hombre</th>\n",
              "      <th>Mujer</th>\n",
              "    </tr>\n",
              "  </thead>\n",
              "  <tbody>\n",
              "    <tr>\n",
              "      <th>6</th>\n",
              "      <td>ENEMDU</td>\n",
              "      <td>dic-07</td>\n",
              "      <td>Subempleo</td>\n",
              "      <td>1.155.872</td>\n",
              "      <td>687.714</td>\n",
              "      <td>468.158</td>\n",
              "      <td>679.118</td>\n",
              "      <td>476.753</td>\n",
              "    </tr>\n",
              "    <tr>\n",
              "      <th>24</th>\n",
              "      <td>ENEMDU</td>\n",
              "      <td>jun-08</td>\n",
              "      <td>Subempleo</td>\n",
              "      <td>1.130.699</td>\n",
              "      <td>696.949</td>\n",
              "      <td>433.750</td>\n",
              "      <td>665.939</td>\n",
              "      <td>464.760</td>\n",
              "    </tr>\n",
              "    <tr>\n",
              "      <th>42</th>\n",
              "      <td>ENEMDU</td>\n",
              "      <td>dic-08</td>\n",
              "      <td>Subempleo</td>\n",
              "      <td>957.978</td>\n",
              "      <td>588.824</td>\n",
              "      <td>369.155</td>\n",
              "      <td>549.097</td>\n",
              "      <td>408.881</td>\n",
              "    </tr>\n",
              "    <tr>\n",
              "      <th>60</th>\n",
              "      <td>ENEMDU</td>\n",
              "      <td>dic-09</td>\n",
              "      <td>Subempleo</td>\n",
              "      <td>1.071.615</td>\n",
              "      <td>664.855</td>\n",
              "      <td>406.760</td>\n",
              "      <td>636.204</td>\n",
              "      <td>435.411</td>\n",
              "    </tr>\n",
              "    <tr>\n",
              "      <th>78</th>\n",
              "      <td>ENEMDU</td>\n",
              "      <td>jun-10</td>\n",
              "      <td>Subempleo</td>\n",
              "      <td>1.041.266</td>\n",
              "      <td>663.688</td>\n",
              "      <td>377.578</td>\n",
              "      <td>596.889</td>\n",
              "      <td>444.377</td>\n",
              "    </tr>\n",
              "  </tbody>\n",
              "</table>\n",
              "</div>"
            ],
            "text/plain": [
              "   Encuesta Periodo Indicadores      Total   Urbana    Rural   Hombre    Mujer\n",
              "6    ENEMDU  dic-07   Subempleo  1.155.872  687.714  468.158  679.118  476.753\n",
              "24   ENEMDU  jun-08   Subempleo  1.130.699  696.949  433.750  665.939  464.760\n",
              "42   ENEMDU  dic-08   Subempleo    957.978  588.824  369.155  549.097  408.881\n",
              "60   ENEMDU  dic-09   Subempleo  1.071.615  664.855  406.760  636.204  435.411\n",
              "78   ENEMDU  jun-10   Subempleo  1.041.266  663.688  377.578  596.889  444.377"
            ]
          },
          "metadata": {},
          "execution_count": 650
        }
      ]
    },
    {
      "cell_type": "code",
      "metadata": {
        "colab": {
          "base_uri": "https://localhost:8080/",
          "height": 206
        },
        "id": "NMV_C0rRD3YW",
        "outputId": "461884a3-6fc8-4460-a748-3cdf102c55b9"
      },
      "source": [
        "# Ver todas las ocurrencias de 'Adecuado' en la columna de indicadores\n",
        "emPleno = poblacionesClean.loc[poblacionesClean['Indicadores'] == 'Empleo Adecuado/Pleno']\n",
        "emPleno.head()\n"
      ],
      "execution_count": 651,
      "outputs": [
        {
          "output_type": "execute_result",
          "data": {
            "text/html": [
              "<div>\n",
              "<style scoped>\n",
              "    .dataframe tbody tr th:only-of-type {\n",
              "        vertical-align: middle;\n",
              "    }\n",
              "\n",
              "    .dataframe tbody tr th {\n",
              "        vertical-align: top;\n",
              "    }\n",
              "\n",
              "    .dataframe thead th {\n",
              "        text-align: right;\n",
              "    }\n",
              "</style>\n",
              "<table border=\"1\" class=\"dataframe\">\n",
              "  <thead>\n",
              "    <tr style=\"text-align: right;\">\n",
              "      <th></th>\n",
              "      <th>Encuesta</th>\n",
              "      <th>Periodo</th>\n",
              "      <th>Indicadores</th>\n",
              "      <th>Total</th>\n",
              "      <th>Urbana</th>\n",
              "      <th>Rural</th>\n",
              "      <th>Hombre</th>\n",
              "      <th>Mujer</th>\n",
              "    </tr>\n",
              "  </thead>\n",
              "  <tbody>\n",
              "    <tr>\n",
              "      <th>5</th>\n",
              "      <td>ENEMDU</td>\n",
              "      <td>dic-07</td>\n",
              "      <td>Empleo Adecuado/Pleno</td>\n",
              "      <td>2.737.158</td>\n",
              "      <td>2.236.440</td>\n",
              "      <td>500.719</td>\n",
              "      <td>1.907.451</td>\n",
              "      <td>829.707</td>\n",
              "    </tr>\n",
              "    <tr>\n",
              "      <th>23</th>\n",
              "      <td>ENEMDU</td>\n",
              "      <td>jun-08</td>\n",
              "      <td>Empleo Adecuado/Pleno</td>\n",
              "      <td>2.750.595</td>\n",
              "      <td>2.248.018</td>\n",
              "      <td>502.577</td>\n",
              "      <td>1.937.602</td>\n",
              "      <td>812.993</td>\n",
              "    </tr>\n",
              "    <tr>\n",
              "      <th>41</th>\n",
              "      <td>ENEMDU</td>\n",
              "      <td>dic-08</td>\n",
              "      <td>Empleo Adecuado/Pleno</td>\n",
              "      <td>2.858.659</td>\n",
              "      <td>2.339.288</td>\n",
              "      <td>519.370</td>\n",
              "      <td>1.991.157</td>\n",
              "      <td>867.502</td>\n",
              "    </tr>\n",
              "    <tr>\n",
              "      <th>59</th>\n",
              "      <td>ENEMDU</td>\n",
              "      <td>dic-09</td>\n",
              "      <td>Empleo Adecuado/Pleno</td>\n",
              "      <td>2.565.691</td>\n",
              "      <td>2.100.511</td>\n",
              "      <td>465.180</td>\n",
              "      <td>1.765.402</td>\n",
              "      <td>800.289</td>\n",
              "    </tr>\n",
              "    <tr>\n",
              "      <th>77</th>\n",
              "      <td>ENEMDU</td>\n",
              "      <td>jun-10</td>\n",
              "      <td>Empleo Adecuado/Pleno</td>\n",
              "      <td>2.715.542</td>\n",
              "      <td>2.211.148</td>\n",
              "      <td>504.394</td>\n",
              "      <td>1.839.160</td>\n",
              "      <td>876.383</td>\n",
              "    </tr>\n",
              "  </tbody>\n",
              "</table>\n",
              "</div>"
            ],
            "text/plain": [
              "   Encuesta Periodo            Indicadores  ...    Rural     Hombre    Mujer\n",
              "5    ENEMDU  dic-07  Empleo Adecuado/Pleno  ...  500.719  1.907.451  829.707\n",
              "23   ENEMDU  jun-08  Empleo Adecuado/Pleno  ...  502.577  1.937.602  812.993\n",
              "41   ENEMDU  dic-08  Empleo Adecuado/Pleno  ...  519.370  1.991.157  867.502\n",
              "59   ENEMDU  dic-09  Empleo Adecuado/Pleno  ...  465.180  1.765.402  800.289\n",
              "77   ENEMDU  jun-10  Empleo Adecuado/Pleno  ...  504.394  1.839.160  876.383\n",
              "\n",
              "[5 rows x 8 columns]"
            ]
          },
          "metadata": {},
          "execution_count": 651
        }
      ]
    },
    {
      "cell_type": "code",
      "metadata": {
        "colab": {
          "base_uri": "https://localhost:8080/"
        },
        "id": "KNgfz2lNFDF1",
        "outputId": "5763098c-9231-4267-b6ac-727a102a656e"
      },
      "source": [
        "#Subempleo\n",
        "#Seleccionar los datos importantes\n",
        "subEmpDF = sEF[['Periodo', 'Total']]\n",
        "#Cambiar el nombre de las columnas\n",
        "subEmpDF.rename(columns = {\n",
        "   'Periodo': 'Fecha', 'Total': 'Subempleo'}, inplace = True)"
      ],
      "execution_count": 652,
      "outputs": [
        {
          "output_type": "stream",
          "name": "stderr",
          "text": [
            "/usr/local/lib/python3.7/dist-packages/pandas/core/frame.py:4308: SettingWithCopyWarning: \n",
            "A value is trying to be set on a copy of a slice from a DataFrame\n",
            "\n",
            "See the caveats in the documentation: https://pandas.pydata.org/pandas-docs/stable/user_guide/indexing.html#returning-a-view-versus-a-copy\n",
            "  errors=errors,\n"
          ]
        }
      ]
    },
    {
      "cell_type": "code",
      "metadata": {
        "colab": {
          "base_uri": "https://localhost:8080/"
        },
        "id": "C7BC5aWPGfls",
        "outputId": "5a15a4dd-7565-4d65-ad90-2c5c98be281c"
      },
      "source": [
        "#EmpleoAdecuado\n",
        "#Seleccionar los datos importantes\n",
        "empAdeDF = emPleno [['Periodo', 'Total']]\n",
        "#Cambiar el nombre de las columnas\n",
        "empAdeDF.rename(columns = {\n",
        "   'Periodo': 'Fecha', 'Total': 'Adecuado'}, inplace = True)"
      ],
      "execution_count": 653,
      "outputs": [
        {
          "output_type": "stream",
          "name": "stderr",
          "text": [
            "/usr/local/lib/python3.7/dist-packages/pandas/core/frame.py:4308: SettingWithCopyWarning: \n",
            "A value is trying to be set on a copy of a slice from a DataFrame\n",
            "\n",
            "See the caveats in the documentation: https://pandas.pydata.org/pandas-docs/stable/user_guide/indexing.html#returning-a-view-versus-a-copy\n",
            "  errors=errors,\n"
          ]
        }
      ]
    },
    {
      "cell_type": "code",
      "metadata": {
        "colab": {
          "base_uri": "https://localhost:8080/",
          "height": 310
        },
        "id": "pRc5XQrAGwIF",
        "outputId": "a6e300e0-83ea-43fc-b452-6a5d7bbb48b1"
      },
      "source": [
        "#Subempleo\n",
        "#Transformar de string a int, los valores de total de empleo\n",
        "subEmpDF['Subempleo'] = subEmpDF['Subempleo'].str.replace('.','').astype(int)\n",
        "subEmpDF.head()"
      ],
      "execution_count": 654,
      "outputs": [
        {
          "output_type": "stream",
          "name": "stderr",
          "text": [
            "/usr/local/lib/python3.7/dist-packages/ipykernel_launcher.py:3: SettingWithCopyWarning: \n",
            "A value is trying to be set on a copy of a slice from a DataFrame.\n",
            "Try using .loc[row_indexer,col_indexer] = value instead\n",
            "\n",
            "See the caveats in the documentation: https://pandas.pydata.org/pandas-docs/stable/user_guide/indexing.html#returning-a-view-versus-a-copy\n",
            "  This is separate from the ipykernel package so we can avoid doing imports until\n"
          ]
        },
        {
          "output_type": "execute_result",
          "data": {
            "text/html": [
              "<div>\n",
              "<style scoped>\n",
              "    .dataframe tbody tr th:only-of-type {\n",
              "        vertical-align: middle;\n",
              "    }\n",
              "\n",
              "    .dataframe tbody tr th {\n",
              "        vertical-align: top;\n",
              "    }\n",
              "\n",
              "    .dataframe thead th {\n",
              "        text-align: right;\n",
              "    }\n",
              "</style>\n",
              "<table border=\"1\" class=\"dataframe\">\n",
              "  <thead>\n",
              "    <tr style=\"text-align: right;\">\n",
              "      <th></th>\n",
              "      <th>Fecha</th>\n",
              "      <th>Subempleo</th>\n",
              "    </tr>\n",
              "  </thead>\n",
              "  <tbody>\n",
              "    <tr>\n",
              "      <th>6</th>\n",
              "      <td>dic-07</td>\n",
              "      <td>1155872</td>\n",
              "    </tr>\n",
              "    <tr>\n",
              "      <th>24</th>\n",
              "      <td>jun-08</td>\n",
              "      <td>1130699</td>\n",
              "    </tr>\n",
              "    <tr>\n",
              "      <th>42</th>\n",
              "      <td>dic-08</td>\n",
              "      <td>957978</td>\n",
              "    </tr>\n",
              "    <tr>\n",
              "      <th>60</th>\n",
              "      <td>dic-09</td>\n",
              "      <td>1071615</td>\n",
              "    </tr>\n",
              "    <tr>\n",
              "      <th>78</th>\n",
              "      <td>jun-10</td>\n",
              "      <td>1041266</td>\n",
              "    </tr>\n",
              "  </tbody>\n",
              "</table>\n",
              "</div>"
            ],
            "text/plain": [
              "     Fecha  Subempleo\n",
              "6   dic-07    1155872\n",
              "24  jun-08    1130699\n",
              "42  dic-08     957978\n",
              "60  dic-09    1071615\n",
              "78  jun-10    1041266"
            ]
          },
          "metadata": {},
          "execution_count": 654
        }
      ]
    },
    {
      "cell_type": "code",
      "metadata": {
        "colab": {
          "base_uri": "https://localhost:8080/",
          "height": 310
        },
        "id": "glXh9B_LHMVa",
        "outputId": "e9a10d5b-920f-46b1-cb43-51477247c028"
      },
      "source": [
        "#Empleo adecuado\n",
        "#Transformar de string a int, los valores de total de empleo\n",
        "empAdeDF['Adecuado'] = empAdeDF['Adecuado'].str.replace('.','').astype(int)\n",
        "empAdeDF.head()"
      ],
      "execution_count": 655,
      "outputs": [
        {
          "output_type": "stream",
          "name": "stderr",
          "text": [
            "/usr/local/lib/python3.7/dist-packages/ipykernel_launcher.py:3: SettingWithCopyWarning: \n",
            "A value is trying to be set on a copy of a slice from a DataFrame.\n",
            "Try using .loc[row_indexer,col_indexer] = value instead\n",
            "\n",
            "See the caveats in the documentation: https://pandas.pydata.org/pandas-docs/stable/user_guide/indexing.html#returning-a-view-versus-a-copy\n",
            "  This is separate from the ipykernel package so we can avoid doing imports until\n"
          ]
        },
        {
          "output_type": "execute_result",
          "data": {
            "text/html": [
              "<div>\n",
              "<style scoped>\n",
              "    .dataframe tbody tr th:only-of-type {\n",
              "        vertical-align: middle;\n",
              "    }\n",
              "\n",
              "    .dataframe tbody tr th {\n",
              "        vertical-align: top;\n",
              "    }\n",
              "\n",
              "    .dataframe thead th {\n",
              "        text-align: right;\n",
              "    }\n",
              "</style>\n",
              "<table border=\"1\" class=\"dataframe\">\n",
              "  <thead>\n",
              "    <tr style=\"text-align: right;\">\n",
              "      <th></th>\n",
              "      <th>Fecha</th>\n",
              "      <th>Adecuado</th>\n",
              "    </tr>\n",
              "  </thead>\n",
              "  <tbody>\n",
              "    <tr>\n",
              "      <th>5</th>\n",
              "      <td>dic-07</td>\n",
              "      <td>2737158</td>\n",
              "    </tr>\n",
              "    <tr>\n",
              "      <th>23</th>\n",
              "      <td>jun-08</td>\n",
              "      <td>2750595</td>\n",
              "    </tr>\n",
              "    <tr>\n",
              "      <th>41</th>\n",
              "      <td>dic-08</td>\n",
              "      <td>2858659</td>\n",
              "    </tr>\n",
              "    <tr>\n",
              "      <th>59</th>\n",
              "      <td>dic-09</td>\n",
              "      <td>2565691</td>\n",
              "    </tr>\n",
              "    <tr>\n",
              "      <th>77</th>\n",
              "      <td>jun-10</td>\n",
              "      <td>2715542</td>\n",
              "    </tr>\n",
              "  </tbody>\n",
              "</table>\n",
              "</div>"
            ],
            "text/plain": [
              "     Fecha  Adecuado\n",
              "5   dic-07   2737158\n",
              "23  jun-08   2750595\n",
              "41  dic-08   2858659\n",
              "59  dic-09   2565691\n",
              "77  jun-10   2715542"
            ]
          },
          "metadata": {},
          "execution_count": 655
        }
      ]
    },
    {
      "cell_type": "code",
      "metadata": {
        "id": "BAvJmYJTJwB5"
      },
      "source": [
        ""
      ],
      "execution_count": null,
      "outputs": []
    },
    {
      "cell_type": "code",
      "metadata": {
        "colab": {
          "base_uri": "https://localhost:8080/",
          "height": 206
        },
        "id": "qbTGeIpvHfsM",
        "outputId": "68436af5-b12d-44d5-fa7e-a17ef9fa5977"
      },
      "source": [
        "finalMerge = pd.merge(subEmpDF, empAdeDF , on=['Fecha'])\n",
        "finalMerge.head()"
      ],
      "execution_count": 656,
      "outputs": [
        {
          "output_type": "execute_result",
          "data": {
            "text/html": [
              "<div>\n",
              "<style scoped>\n",
              "    .dataframe tbody tr th:only-of-type {\n",
              "        vertical-align: middle;\n",
              "    }\n",
              "\n",
              "    .dataframe tbody tr th {\n",
              "        vertical-align: top;\n",
              "    }\n",
              "\n",
              "    .dataframe thead th {\n",
              "        text-align: right;\n",
              "    }\n",
              "</style>\n",
              "<table border=\"1\" class=\"dataframe\">\n",
              "  <thead>\n",
              "    <tr style=\"text-align: right;\">\n",
              "      <th></th>\n",
              "      <th>Fecha</th>\n",
              "      <th>Subempleo</th>\n",
              "      <th>Adecuado</th>\n",
              "    </tr>\n",
              "  </thead>\n",
              "  <tbody>\n",
              "    <tr>\n",
              "      <th>0</th>\n",
              "      <td>dic-07</td>\n",
              "      <td>1155872</td>\n",
              "      <td>2737158</td>\n",
              "    </tr>\n",
              "    <tr>\n",
              "      <th>1</th>\n",
              "      <td>jun-08</td>\n",
              "      <td>1130699</td>\n",
              "      <td>2750595</td>\n",
              "    </tr>\n",
              "    <tr>\n",
              "      <th>2</th>\n",
              "      <td>dic-08</td>\n",
              "      <td>957978</td>\n",
              "      <td>2858659</td>\n",
              "    </tr>\n",
              "    <tr>\n",
              "      <th>3</th>\n",
              "      <td>dic-09</td>\n",
              "      <td>1071615</td>\n",
              "      <td>2565691</td>\n",
              "    </tr>\n",
              "    <tr>\n",
              "      <th>4</th>\n",
              "      <td>jun-10</td>\n",
              "      <td>1041266</td>\n",
              "      <td>2715542</td>\n",
              "    </tr>\n",
              "  </tbody>\n",
              "</table>\n",
              "</div>"
            ],
            "text/plain": [
              "    Fecha  Subempleo  Adecuado\n",
              "0  dic-07    1155872   2737158\n",
              "1  jun-08    1130699   2750595\n",
              "2  dic-08     957978   2858659\n",
              "3  dic-09    1071615   2565691\n",
              "4  jun-10    1041266   2715542"
            ]
          },
          "metadata": {},
          "execution_count": 656
        }
      ]
    },
    {
      "cell_type": "code",
      "metadata": {
        "colab": {
          "base_uri": "https://localhost:8080/",
          "height": 206
        },
        "id": "iDCj-1ZSI68x",
        "outputId": "9c4e7824-f3e0-4c70-bdb4-5d307dcf5bef"
      },
      "source": [
        "finalMerge.head()"
      ],
      "execution_count": 657,
      "outputs": [
        {
          "output_type": "execute_result",
          "data": {
            "text/html": [
              "<div>\n",
              "<style scoped>\n",
              "    .dataframe tbody tr th:only-of-type {\n",
              "        vertical-align: middle;\n",
              "    }\n",
              "\n",
              "    .dataframe tbody tr th {\n",
              "        vertical-align: top;\n",
              "    }\n",
              "\n",
              "    .dataframe thead th {\n",
              "        text-align: right;\n",
              "    }\n",
              "</style>\n",
              "<table border=\"1\" class=\"dataframe\">\n",
              "  <thead>\n",
              "    <tr style=\"text-align: right;\">\n",
              "      <th></th>\n",
              "      <th>Fecha</th>\n",
              "      <th>Subempleo</th>\n",
              "      <th>Adecuado</th>\n",
              "    </tr>\n",
              "  </thead>\n",
              "  <tbody>\n",
              "    <tr>\n",
              "      <th>0</th>\n",
              "      <td>dic-07</td>\n",
              "      <td>1155872</td>\n",
              "      <td>2737158</td>\n",
              "    </tr>\n",
              "    <tr>\n",
              "      <th>1</th>\n",
              "      <td>jun-08</td>\n",
              "      <td>1130699</td>\n",
              "      <td>2750595</td>\n",
              "    </tr>\n",
              "    <tr>\n",
              "      <th>2</th>\n",
              "      <td>dic-08</td>\n",
              "      <td>957978</td>\n",
              "      <td>2858659</td>\n",
              "    </tr>\n",
              "    <tr>\n",
              "      <th>3</th>\n",
              "      <td>dic-09</td>\n",
              "      <td>1071615</td>\n",
              "      <td>2565691</td>\n",
              "    </tr>\n",
              "    <tr>\n",
              "      <th>4</th>\n",
              "      <td>jun-10</td>\n",
              "      <td>1041266</td>\n",
              "      <td>2715542</td>\n",
              "    </tr>\n",
              "  </tbody>\n",
              "</table>\n",
              "</div>"
            ],
            "text/plain": [
              "    Fecha  Subempleo  Adecuado\n",
              "0  dic-07    1155872   2737158\n",
              "1  jun-08    1130699   2750595\n",
              "2  dic-08     957978   2858659\n",
              "3  dic-09    1071615   2565691\n",
              "4  jun-10    1041266   2715542"
            ]
          },
          "metadata": {},
          "execution_count": 657
        }
      ]
    },
    {
      "cell_type": "code",
      "metadata": {
        "colab": {
          "base_uri": "https://localhost:8080/",
          "height": 621
        },
        "id": "wzoEXYePHvpC",
        "outputId": "8399e5eb-675e-4b2a-8bc0-02ab4514459c"
      },
      "source": [
        "plt.figure(figsize=(16, 10))\n",
        "plt.title('Subempleo, Empleo Adecuado - Ecuador')\n",
        "plt.plot(finalMerge.Fecha, finalMerge.Subempleo, 'b.-')\n",
        "plt.plot(finalMerge.Fecha, finalMerge.Adecuado, 'r.-')\n",
        "plt.xticks(finalMerge.Fecha[::3].tolist())\n",
        "plt.xlabel('Fecha')\n",
        "plt.ylabel('Total')\n",
        "plt.legend(['Subempleo','Adecuado'])\n",
        "plt.show()"
      ],
      "execution_count": 658,
      "outputs": [
        {
          "output_type": "display_data",
          "data": {
            "image/png": "[encoded data removed]",
            "text/plain": [
              "<Figure size 1152x720 with 1 Axes>"
            ]
          },
          "metadata": {
            "needs_background": "light"
          }
        }
      ]
    },
    {
      "cell_type": "markdown",
      "metadata": {
        "id": "UhvsbhnrF0J0"
      },
      "source": [
        "# Conclusiones\n",
        "Es importante realizar una buena limpieza de datos"
      ]
    }
  ]
}