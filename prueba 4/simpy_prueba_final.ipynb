{
  "nbformat": 4,
  "nbformat_minor": 0,
  "metadata": {
    "colab": {
      "name": "simpy_prueba_final.ipynb",
      "provenance": []
    },
    "kernelspec": {
      "name": "python3",
      "display_name": "Python 3"
    },
    "language_info": {
      "name": "python"
    }
  },
  "cells": [
    {
      "cell_type": "markdown",
      "source": [
        "# Prueba Practica 4\n",
        "## Nombre: Alex Reinoso\n",
        "## Materia: Simulacion\n",
        "## Fecha: 02/07/2022"
      ],
      "metadata": {
        "id": "QloiOLS-8OAo"
      }
    },
    {
      "cell_type": "markdown",
      "source": [
        "## Instalar e importar"
      ],
      "metadata": {
        "id": "3TVAA7AV8alP"
      }
    },
    {
      "cell_type": "code",
      "execution_count": 1,
      "metadata": {
        "colab": {
          "base_uri": "https://localhost:8080/",
          "height": 0
        },
        "id": "dm1ei-k9s3YJ",
        "outputId": "ece0f60e-6fcf-4bb2-919d-8e46a9833748"
      },
      "outputs": [
        {
          "output_type": "stream",
          "name": "stdout",
          "text": [
            "Collecting simpy\n",
            "  Downloading simpy-4.0.1-py2.py3-none-any.whl (29 kB)\n",
            "Installing collected packages: simpy\n",
            "Successfully installed simpy-4.0.1\n"
          ]
        }
      ],
      "source": [
        "pip install simpy"
      ]
    },
    {
      "cell_type": "code",
      "source": [
        "import simpy\n",
        "from scipy import stats \n",
        "from random import expovariate,seed\n",
        "import random"
      ],
      "metadata": {
        "id": "o02CPYy-s8Ka"
      },
      "execution_count": 8,
      "outputs": []
    },
    {
      "cell_type": "markdown",
      "source": [
        "## Variables"
      ],
      "metadata": {
        "id": "SGL79KnS8ent"
      }
    },
    {
      "cell_type": "code",
      "source": [
        "CANT_CAJEROS = 3\n",
        "CANT_CLIENTES = 100\n",
        "MEDIA = 3 \n",
        "TIEMPO_SIMULACION = 720"
      ],
      "metadata": {
        "id": "SAlG60UxydbG"
      },
      "execution_count": 49,
      "outputs": []
    },
    {
      "cell_type": "markdown",
      "source": [
        "## Simulacion"
      ],
      "metadata": {
        "id": "opNhXBSj8iLZ"
      }
    },
    {
      "cell_type": "code",
      "source": [
        "tiempo = []\n",
        "class Banco(object):\n",
        "  def __init__(self, environment, num_cajeros):\n",
        "    self.env = environment\n",
        "    self.cajeros = simpy.Resource(environment, num_cajeros)\n",
        "  \n",
        "  def atender_cliente(self, cliente):\n",
        "    # aqui esta el tiempo que se necesita para atender un cliente con \n",
        "    #la distribucion exponencial y la media dada de 3 minutos\n",
        "    yield self.env.timeout(expovariate(1.0/MEDIA ))\n",
        "\n",
        "def llegada_clientes(env, nombre, banco):\n",
        "  llegada = round(env.now,2)  \n",
        "  print('Llega cliente: %s a la hora %.2f.' % (nombre, env.now))\n",
        "  with banco.cajeros.request() as cajero:\n",
        "    yield cajero\n",
        "    yield env.process(banco.atender_cliente(nombre))\n",
        "    final = round(env.now,2)  \n",
        "    tiempo.append(final-llegada)\n",
        "    print('Cliente [%s] fue atendido a las %.2f.'%(nombre, env.now))\n",
        "    \n",
        "\n",
        "def ejecutar_simulacion(env, num_cajeros):\n",
        "  banco = Banco(env, num_cajeros)\n",
        "  for i in range(5):\n",
        "    env.process(llegada_clientes(env, 'Cliente-%d'%(i+1),banco))\n",
        "  while True:\n",
        "    yield env.timeout(random.randint(5, 10))\n",
        "    i+=1\n",
        "    env.process(llegada_clientes(env, 'Cliente-%d'%(i+1), banco))\n",
        "random.seed(77)\n",
        "env=simpy.Environment()\n",
        "# Aqui estoy mandando a ejecutar la simulacion con la cantidad de cajeros\n",
        "# previamente definida\n",
        "env.process(ejecutar_simulacion(env, CANT_CAJEROS))\n",
        "env.run(until = TIEMPO_SIMULACION)"
      ],
      "metadata": {
        "colab": {
          "base_uri": "https://localhost:8080/",
          "height": 0
        },
        "id": "C7Ds7G-ctaqR",
        "outputId": "20a44478-4433-4b1c-f819-72395dcafc00"
      },
      "execution_count": 62,
      "outputs": [
        {
          "output_type": "stream",
          "name": "stdout",
          "text": [
            "Llega cliente: Cliente-1 a la hora 0.00.\n",
            "Llega cliente: Cliente-2 a la hora 0.00.\n",
            "Llega cliente: Cliente-3 a la hora 0.00.\n",
            "Llega cliente: Cliente-4 a la hora 0.00.\n",
            "Llega cliente: Cliente-5 a la hora 0.00.\n",
            "Cliente [Cliente-2] fue atendido a las 0.83.\n",
            "Cliente [Cliente-1] fue atendido a las 1.18.\n",
            "Cliente [Cliente-4] fue atendido a las 1.19.\n",
            "Cliente [Cliente-5] fue atendido a las 3.12.\n",
            "Cliente [Cliente-3] fue atendido a las 5.19.\n",
            "Llega cliente: Cliente-6 a la hora 7.00.\n",
            "Llega cliente: Cliente-7 a la hora 16.00.\n",
            "Cliente [Cliente-7] fue atendido a las 16.47.\n",
            "Llega cliente: Cliente-8 a la hora 22.00.\n",
            "Cliente [Cliente-8] fue atendido a las 25.25.\n",
            "Cliente [Cliente-6] fue atendido a las 31.32.\n",
            "Llega cliente: Cliente-9 a la hora 32.00.\n",
            "Llega cliente: Cliente-10 a la hora 37.00.\n",
            "Cliente [Cliente-9] fue atendido a las 37.71.\n",
            "Llega cliente: Cliente-11 a la hora 42.00.\n",
            "Cliente [Cliente-10] fue atendido a las 42.41.\n",
            "Cliente [Cliente-11] fue atendido a las 42.57.\n",
            "Llega cliente: Cliente-12 a la hora 50.00.\n",
            "Cliente [Cliente-12] fue atendido a las 52.12.\n",
            "Llega cliente: Cliente-13 a la hora 56.00.\n",
            "Cliente [Cliente-13] fue atendido a las 56.61.\n",
            "Llega cliente: Cliente-14 a la hora 64.00.\n",
            "Cliente [Cliente-14] fue atendido a las 64.37.\n",
            "Llega cliente: Cliente-15 a la hora 71.00.\n",
            "Cliente [Cliente-15] fue atendido a las 75.52.\n",
            "Llega cliente: Cliente-16 a la hora 80.00.\n",
            "Cliente [Cliente-16] fue atendido a las 81.90.\n",
            "Llega cliente: Cliente-17 a la hora 89.00.\n",
            "Cliente [Cliente-17] fue atendido a las 89.64.\n",
            "Llega cliente: Cliente-18 a la hora 95.00.\n",
            "Llega cliente: Cliente-19 a la hora 100.00.\n",
            "Cliente [Cliente-18] fue atendido a las 100.60.\n",
            "Cliente [Cliente-19] fue atendido a las 102.46.\n",
            "Llega cliente: Cliente-20 a la hora 110.00.\n",
            "Cliente [Cliente-20] fue atendido a las 112.71.\n",
            "Llega cliente: Cliente-21 a la hora 118.00.\n",
            "Cliente [Cliente-21] fue atendido a las 118.24.\n",
            "Llega cliente: Cliente-22 a la hora 127.00.\n",
            "Cliente [Cliente-22] fue atendido a las 131.04.\n",
            "Llega cliente: Cliente-23 a la hora 137.00.\n",
            "Cliente [Cliente-23] fue atendido a las 138.20.\n",
            "Llega cliente: Cliente-24 a la hora 147.00.\n",
            "Cliente [Cliente-24] fue atendido a las 147.30.\n",
            "Llega cliente: Cliente-25 a la hora 152.00.\n",
            "Cliente [Cliente-25] fue atendido a las 157.27.\n",
            "Llega cliente: Cliente-26 a la hora 160.00.\n",
            "Llega cliente: Cliente-27 a la hora 169.00.\n",
            "Cliente [Cliente-27] fue atendido a las 170.77.\n",
            "Cliente [Cliente-26] fue atendido a las 170.86.\n",
            "Llega cliente: Cliente-28 a la hora 176.00.\n",
            "Llega cliente: Cliente-29 a la hora 185.00.\n",
            "Cliente [Cliente-28] fue atendido a las 187.09.\n",
            "Llega cliente: Cliente-30 a la hora 192.00.\n",
            "Cliente [Cliente-29] fue atendido a las 193.29.\n",
            "Llega cliente: Cliente-31 a la hora 197.00.\n",
            "Cliente [Cliente-30] fue atendido a las 197.28.\n",
            "Cliente [Cliente-31] fue atendido a las 201.17.\n",
            "Llega cliente: Cliente-32 a la hora 205.00.\n",
            "Cliente [Cliente-32] fue atendido a las 207.27.\n",
            "Llega cliente: Cliente-33 a la hora 214.00.\n",
            "Cliente [Cliente-33] fue atendido a las 216.55.\n",
            "Llega cliente: Cliente-34 a la hora 220.00.\n",
            "Cliente [Cliente-34] fue atendido a las 224.02.\n",
            "Llega cliente: Cliente-35 a la hora 228.00.\n",
            "Cliente [Cliente-35] fue atendido a las 228.04.\n",
            "Llega cliente: Cliente-36 a la hora 236.00.\n",
            "Cliente [Cliente-36] fue atendido a las 236.16.\n",
            "Llega cliente: Cliente-37 a la hora 241.00.\n",
            "Cliente [Cliente-37] fue atendido a las 241.12.\n",
            "Llega cliente: Cliente-38 a la hora 251.00.\n",
            "Cliente [Cliente-38] fue atendido a las 255.28.\n",
            "Llega cliente: Cliente-39 a la hora 258.00.\n",
            "Cliente [Cliente-39] fue atendido a las 258.38.\n",
            "Llega cliente: Cliente-40 a la hora 266.00.\n",
            "Cliente [Cliente-40] fue atendido a las 273.07.\n",
            "Llega cliente: Cliente-41 a la hora 275.00.\n",
            "Cliente [Cliente-41] fue atendido a las 277.01.\n",
            "Llega cliente: Cliente-42 a la hora 285.00.\n",
            "Cliente [Cliente-42] fue atendido a las 286.91.\n",
            "Llega cliente: Cliente-43 a la hora 295.00.\n",
            "Cliente [Cliente-43] fue atendido a las 298.19.\n",
            "Llega cliente: Cliente-44 a la hora 305.00.\n",
            "Cliente [Cliente-44] fue atendido a las 306.06.\n",
            "Llega cliente: Cliente-45 a la hora 311.00.\n",
            "Cliente [Cliente-45] fue atendido a las 311.05.\n",
            "Llega cliente: Cliente-46 a la hora 316.00.\n",
            "Cliente [Cliente-46] fue atendido a las 323.40.\n",
            "Llega cliente: Cliente-47 a la hora 324.00.\n",
            "Cliente [Cliente-47] fue atendido a las 326.57.\n",
            "Llega cliente: Cliente-48 a la hora 332.00.\n",
            "Cliente [Cliente-48] fue atendido a las 336.74.\n",
            "Llega cliente: Cliente-49 a la hora 337.00.\n",
            "Cliente [Cliente-49] fue atendido a las 341.29.\n",
            "Llega cliente: Cliente-50 a la hora 343.00.\n",
            "Cliente [Cliente-50] fue atendido a las 346.62.\n",
            "Llega cliente: Cliente-51 a la hora 348.00.\n",
            "Cliente [Cliente-51] fue atendido a las 348.28.\n",
            "Llega cliente: Cliente-52 a la hora 354.00.\n",
            "Cliente [Cliente-52] fue atendido a las 354.36.\n",
            "Llega cliente: Cliente-53 a la hora 362.00.\n",
            "Llega cliente: Cliente-54 a la hora 370.00.\n",
            "Cliente [Cliente-53] fue atendido a las 373.00.\n",
            "Llega cliente: Cliente-55 a la hora 375.00.\n",
            "Cliente [Cliente-55] fue atendido a las 375.82.\n",
            "Cliente [Cliente-54] fue atendido a las 376.46.\n",
            "Llega cliente: Cliente-56 a la hora 381.00.\n",
            "Cliente [Cliente-56] fue atendido a las 385.43.\n",
            "Llega cliente: Cliente-57 a la hora 387.00.\n",
            "Cliente [Cliente-57] fue atendido a las 387.53.\n",
            "Llega cliente: Cliente-58 a la hora 392.00.\n",
            "Cliente [Cliente-58] fue atendido a las 392.08.\n",
            "Llega cliente: Cliente-59 a la hora 398.00.\n",
            "Cliente [Cliente-59] fue atendido a las 401.33.\n",
            "Llega cliente: Cliente-60 a la hora 404.00.\n",
            "Llega cliente: Cliente-61 a la hora 412.00.\n",
            "Cliente [Cliente-60] fue atendido a las 414.23.\n",
            "Cliente [Cliente-61] fue atendido a las 415.73.\n",
            "Llega cliente: Cliente-62 a la hora 421.00.\n",
            "Cliente [Cliente-62] fue atendido a las 422.62.\n",
            "Llega cliente: Cliente-63 a la hora 430.00.\n",
            "Cliente [Cliente-63] fue atendido a las 430.94.\n",
            "Llega cliente: Cliente-64 a la hora 439.00.\n",
            "Cliente [Cliente-64] fue atendido a las 440.91.\n",
            "Llega cliente: Cliente-65 a la hora 444.00.\n",
            "Cliente [Cliente-65] fue atendido a las 445.05.\n",
            "Llega cliente: Cliente-66 a la hora 452.00.\n",
            "Cliente [Cliente-66] fue atendido a las 453.02.\n",
            "Llega cliente: Cliente-67 a la hora 459.00.\n",
            "Cliente [Cliente-67] fue atendido a las 459.06.\n",
            "Llega cliente: Cliente-68 a la hora 465.00.\n",
            "Cliente [Cliente-68] fue atendido a las 465.22.\n",
            "Llega cliente: Cliente-69 a la hora 473.00.\n",
            "Cliente [Cliente-69] fue atendido a las 476.99.\n",
            "Llega cliente: Cliente-70 a la hora 478.00.\n",
            "Cliente [Cliente-70] fue atendido a las 478.28.\n",
            "Llega cliente: Cliente-71 a la hora 483.00.\n",
            "Cliente [Cliente-71] fue atendido a las 485.14.\n",
            "Llega cliente: Cliente-72 a la hora 488.00.\n",
            "Cliente [Cliente-72] fue atendido a las 488.26.\n",
            "Llega cliente: Cliente-73 a la hora 498.00.\n",
            "Cliente [Cliente-73] fue atendido a las 498.54.\n",
            "Llega cliente: Cliente-74 a la hora 506.00.\n",
            "Cliente [Cliente-74] fue atendido a las 507.45.\n",
            "Llega cliente: Cliente-75 a la hora 516.00.\n",
            "Cliente [Cliente-75] fue atendido a las 522.29.\n",
            "Llega cliente: Cliente-76 a la hora 524.00.\n",
            "Cliente [Cliente-76] fue atendido a las 527.57.\n",
            "Llega cliente: Cliente-77 a la hora 533.00.\n",
            "Cliente [Cliente-77] fue atendido a las 533.65.\n",
            "Llega cliente: Cliente-78 a la hora 541.00.\n",
            "Cliente [Cliente-78] fue atendido a las 542.68.\n",
            "Llega cliente: Cliente-79 a la hora 551.00.\n",
            "Cliente [Cliente-79] fue atendido a las 552.00.\n",
            "Llega cliente: Cliente-80 a la hora 558.00.\n",
            "Llega cliente: Cliente-81 a la hora 563.00.\n",
            "Cliente [Cliente-80] fue atendido a las 563.86.\n",
            "Cliente [Cliente-81] fue atendido a las 564.14.\n",
            "Llega cliente: Cliente-82 a la hora 570.00.\n",
            "Cliente [Cliente-82] fue atendido a las 574.49.\n",
            "Llega cliente: Cliente-83 a la hora 576.00.\n",
            "Cliente [Cliente-83] fue atendido a las 580.22.\n",
            "Llega cliente: Cliente-84 a la hora 583.00.\n",
            "Cliente [Cliente-84] fue atendido a las 584.95.\n",
            "Llega cliente: Cliente-85 a la hora 593.00.\n",
            "Cliente [Cliente-85] fue atendido a las 597.38.\n",
            "Llega cliente: Cliente-86 a la hora 603.00.\n",
            "Cliente [Cliente-86] fue atendido a las 605.23.\n",
            "Llega cliente: Cliente-87 a la hora 613.00.\n",
            "Cliente [Cliente-87] fue atendido a las 615.29.\n",
            "Llega cliente: Cliente-88 a la hora 622.00.\n",
            "Cliente [Cliente-88] fue atendido a las 623.43.\n",
            "Llega cliente: Cliente-89 a la hora 629.00.\n",
            "Cliente [Cliente-89] fue atendido a las 635.25.\n",
            "Llega cliente: Cliente-90 a la hora 639.00.\n",
            "Cliente [Cliente-90] fue atendido a las 642.23.\n",
            "Llega cliente: Cliente-91 a la hora 649.00.\n",
            "Cliente [Cliente-91] fue atendido a las 649.96.\n",
            "Llega cliente: Cliente-92 a la hora 654.00.\n",
            "Cliente [Cliente-92] fue atendido a las 654.47.\n",
            "Llega cliente: Cliente-93 a la hora 659.00.\n",
            "Llega cliente: Cliente-94 a la hora 666.00.\n",
            "Cliente [Cliente-94] fue atendido a las 666.15.\n",
            "Cliente [Cliente-93] fue atendido a las 666.96.\n",
            "Llega cliente: Cliente-95 a la hora 676.00.\n",
            "Cliente [Cliente-95] fue atendido a las 678.93.\n",
            "Llega cliente: Cliente-96 a la hora 685.00.\n",
            "Cliente [Cliente-96] fue atendido a las 688.39.\n",
            "Llega cliente: Cliente-97 a la hora 694.00.\n",
            "Cliente [Cliente-97] fue atendido a las 696.25.\n",
            "Llega cliente: Cliente-98 a la hora 699.00.\n",
            "Cliente [Cliente-98] fue atendido a las 708.75.\n",
            "Llega cliente: Cliente-99 a la hora 709.00.\n",
            "Cliente [Cliente-99] fue atendido a las 712.06.\n",
            "Llega cliente: Cliente-100 a la hora 714.00.\n",
            "Cliente [Cliente-100] fue atendido a las 714.95.\n"
          ]
        }
      ]
    },
    {
      "cell_type": "markdown",
      "source": [
        "## Resultados"
      ],
      "metadata": {
        "id": "DnD_c-nx8lDi"
      }
    },
    {
      "cell_type": "code",
      "source": [
        "print('Tiempo requerido para atender %.1f clientes es %.2f minutos'%(CANT_CLIENTES, round(sum(tiempo), 2)))"
      ],
      "metadata": {
        "colab": {
          "base_uri": "https://localhost:8080/",
          "height": 0
        },
        "id": "1bQsfMfi3Pcd",
        "outputId": "700705f5-0859-47a1-af61-d7de48f78402"
      },
      "execution_count": 63,
      "outputs": [
        {
          "output_type": "stream",
          "name": "stdout",
          "text": [
            "Tiempo requerido para atender 100.0 clientes es 315.67 minutos\n"
          ]
        }
      ]
    },
    {
      "cell_type": "code",
      "source": [
        "print('Tiempo requerido para atender %.1f clientes es %.2f horas'%(CANT_CLIENTES, (round(sum(tiempo), 2)/60)))"
      ],
      "metadata": {
        "colab": {
          "base_uri": "https://localhost:8080/",
          "height": 0
        },
        "id": "UW8W5x_Q5suS",
        "outputId": "acccd47c-f8b4-494f-e819-836cf6a7cac8"
      },
      "execution_count": 64,
      "outputs": [
        {
          "output_type": "stream",
          "name": "stdout",
          "text": [
            "Tiempo requerido para atender 100.0 clientes es 5.26 horas\n"
          ]
        }
      ]
    }
  ]
}