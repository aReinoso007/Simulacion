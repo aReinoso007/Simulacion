{
  "nbformat": 4,
  "nbformat_minor": 0,
  "metadata": {
    "colab": {
      "name": "monteCarlo.ipynb",
      "provenance": [],
      "collapsed_sections": []
    },
    "kernelspec": {
      "name": "python3",
      "display_name": "Python 3"
    },
    "language_info": {
      "name": "python"
    }
  },
  "cells": [
    {
      "cell_type": "code",
      "execution_count": 1,
      "metadata": {
        "id": "4YM0MPLHbPeQ"
      },
      "outputs": [],
      "source": [
        "import random\n",
        "import numpy as no\n",
        "import matplotlib.pyplot as plt"
      ]
    },
    {
      "cell_type": "code",
      "source": [
        "def moneda():\n",
        "  return random.randint(0,1)"
      ],
      "metadata": {
        "id": "0eauBcDYbWWw"
      },
      "execution_count": 4,
      "outputs": []
    },
    {
      "cell_type": "code",
      "source": [
        "moneda()"
      ],
      "metadata": {
        "colab": {
          "base_uri": "https://localhost:8080/"
        },
        "id": "YNWYdYs7bc6i",
        "outputId": "e6f24a76-9b1f-4603-e091-395a1c12431f"
      },
      "execution_count": 5,
      "outputs": [
        {
          "output_type": "execute_result",
          "data": {
            "text/plain": [
              "0"
            ]
          },
          "metadata": {},
          "execution_count": 5
        }
      ]
    },
    {
      "cell_type": "code",
      "source": [
        "lista = []\n",
        "def monteCarlo(n):\n",
        "  res = 0\n",
        "  for i in range(n):\n",
        "    moneda_res = moneda()\n",
        "    res = res + moneda_res\n",
        "    prob_val = res/(i+1)\n",
        "    lista.append(prob_val)\n",
        "    plt.axhline(y=0.5, color='r', linestyle='-')\n",
        "    plt.xlabel('Iteraciones')\n",
        "    plt.ylabel('Probabilidad')\n",
        "    plt.plot(lista)\n",
        "  return res/n"
      ],
      "metadata": {
        "id": "PS2tM4Jlbg3n"
      },
      "execution_count": 7,
      "outputs": []
    },
    {
      "cell_type": "code",
      "source": [
        "mtC = monteCarlo(500)\n",
        "print('Valor final: ', mtC)"
      ],
      "metadata": {
        "colab": {
          "base_uri": "https://localhost:8080/",
          "height": 296
        },
        "id": "LoFSRQHBcMNX",
        "outputId": "0bbeb2f7-9107-4a3d-b42c-b356050d4d9a"
      },
      "execution_count": 8,
      "outputs": [
        {
          "output_type": "stream",
          "name": "stdout",
          "text": [
            "Valor final:  0.49\n"
          ]
        },
        {
          "output_type": "display_data",
          "data": {
            "image/png": "[encoded data removed]",
            "text/plain": [
              "<Figure size 432x288 with 1 Axes>"
            ]
          },
          "metadata": {
            "needs_background": "light"
          }
        }
      ]
    }
  ]
}